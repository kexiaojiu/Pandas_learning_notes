{
 "cells": [
  {
   "cell_type": "markdown",
   "metadata": {},
   "source": [
    "# 设定系统环境"
   ]
  },
  {
   "cell_type": "code",
   "execution_count": 4,
   "metadata": {},
   "outputs": [
    {
     "data": {
      "text/plain": [
       "'0.24.2'"
      ]
     },
     "execution_count": 4,
     "metadata": {},
     "output_type": "execute_result"
    }
   ],
   "source": [
    "import pandas as pd\n",
    "import numpy as np\n",
    "import math\n",
    "import os\n",
    "from datetime import datetime\n",
    "pd.options.display.max_rows = 10 # 设定自由列表输出最多10行\n",
    "pd.__version__ # 显示当前pandas版本号"
   ]
  },
  {
   "cell_type": "markdown",
   "metadata": {},
   "source": [
    "# 获取数据"
   ]
  },
  {
   "cell_type": "markdown",
   "metadata": {},
   "source": [
    "## 新建数据框"
   ]
  },
  {
   "cell_type": "code",
   "execution_count": null,
   "metadata": {},
   "outputs": [],
   "source": [
    "df1 = pd.DataFrame(\n",
    "{\n",
    "    'var1': 1.0,\n",
    "    'var2': [1,2,3,4],\n",
    "    'var3': [\"test\", \"train\", \"test\",\"train\"],\n",
    "    'var4': 'cons'\n",
    "}\n",
    ")\n",
    "df1"
   ]
  },
  {
   "cell_type": "markdown",
   "metadata": {},
   "source": [
    "## 读入文本格式数据文件"
   ]
  },
  {
   "cell_type": "code",
   "execution_count": null,
   "metadata": {},
   "outputs": [],
   "source": [
    "df2 = pd.DataFrame(data = [[1,\"test\"], [2,\"train\"], [3,\"test\"], [4,\"train\"]], columns = ['var2', 'var3'])\n",
    "df2"
   ]
  },
  {
   "cell_type": "markdown",
   "metadata": {},
   "source": [
    "## 读入EXCEL文件"
   ]
  },
  {
   "cell_type": "markdown",
   "metadata": {},
   "source": [
    "##  读入统计软件数据集\n",
    "### 读入SAS/Stata数据文件"
   ]
  },
  {
   "cell_type": "code",
   "execution_count": null,
   "metadata": {},
   "outputs": [],
   "source": [
    "file_dir =  \"..\\\\04 data\\\\\"\n",
    "filename = \"university.csv\""
   ]
  },
  {
   "cell_type": "code",
   "execution_count": null,
   "metadata": {},
   "outputs": [],
   "source": [
    "df_university = pd.read_csv(file_dir + filename)\n",
    "df_university"
   ]
  },
  {
   "cell_type": "code",
   "execution_count": null,
   "metadata": {},
   "outputs": [],
   "source": [
    "df_university2 = pd.read_table(file_dir + filename,sep=',',encoding='utf-8')\n",
    "df_university2"
   ]
  },
  {
   "cell_type": "code",
   "execution_count": null,
   "metadata": {},
   "outputs": [],
   "source": [
    "df3 = pd.read_excel(file_dir + \"大学排行榜.xlsx\", sheet_name = 'full')"
   ]
  },
  {
   "cell_type": "markdown",
   "metadata": {},
   "source": [
    "## 读入统计软件数据集\n",
    "### 读入SAS/Stata数据文件\n",
    "### 读入SPSS数据文件"
   ]
  },
  {
   "cell_type": "markdown",
   "metadata": {},
   "source": [
    "## 读入数据库文件\n",
    "### 配置所需的程序包和驱动\n",
    "* 所需程序包\n",
    "    * SQLAchemy engine:几乎可以使用任何常见的DB格式和操作命令\n",
    "    * DBAPI2 connection:只对sqlite3有较完整的支持\n",
    "* 驱动配置：QLAAcheemy docs"
   ]
  },
  {
   "cell_type": "markdown",
   "metadata": {},
   "source": [
    "### 读入数据表\n",
    "```\n",
    "pd.read_sql(\n",
    "    sql:需要执行的SQL语句、要读入的表名称\n",
    "    con: SQLALchemy连接引擎名称\n",
    "    index_col = None: 将被用作索引的列名称\n",
    "    colums = None: 当提供名称时，需要读入的列名称list\n",
    ")\n",
    "read_sql_quera()\n",
    "read_sql_table()\n",
    "```"
   ]
  },
  {
   "cell_type": "markdown",
   "metadata": {},
   "source": [
    "# 保存数据\n",
    "## 保存数据至外部文件\n",
    "```\n",
    "df.to_csv(\n",
    "    filepath_or_buffer: 要保存的文件路径\n",
    "    sep = ',' ：分隔符\n",
    "    columns: 需要导出的变量列表\n",
    "    header = True: 指定导出数据的新变量名，可直接提供list\n",
    "    index = True: 是否导出索引\n",
    "    mode = 'w': 其他读写模式r r+ w w+ a a+\n",
    "    encoding = 'utf-8' :默认导出的文件编码格式\n",
    ")\n",
    "```\n",
    "\n",
    "```\n",
    "df.to_excel(\n",
    "    filepath_or_buffer ：要读入的文件路径\n",
    "    sheet_name = 'sheet1' : 要保存的表单名称\n",
    ")\n",
    "```"
   ]
  },
  {
   "cell_type": "code",
   "execution_count": null,
   "metadata": {},
   "outputs": [],
   "source": [
    "df_university.to_csv(file_dir+ 'tmp.csv', header = True)"
   ]
  },
  {
   "cell_type": "code",
   "execution_count": null,
   "metadata": {},
   "outputs": [],
   "source": [
    "df4 = pd.read_csv(file_dir + 'tmp.csv')"
   ]
  },
  {
   "cell_type": "code",
   "execution_count": null,
   "metadata": {},
   "outputs": [],
   "source": [
    "df4"
   ]
  },
  {
   "cell_type": "markdown",
   "metadata": {},
   "source": [
    "## 保存数据到数据库\n",
    "```\n",
    "df.to_sql(\n",
    "    name: 将要存储数据的表名称\n",
    "    con: SQLAlchemy引擎/DBAPI2连接引擎名称\n",
    "    if_exists = 'fail': 指定表已经存在时除了方式\n",
    "        fail : 不做处理\n",
    "        replace： 删除原表并重建新表\n",
    "        append: 在原表后插入新数据\n",
    "    index = True: 是否导出索引\n",
    ")\n",
    "```"
   ]
  },
  {
   "cell_type": "markdown",
   "metadata": {},
   "source": [
    "# 变量列的基本操作\n",
    "## 对数据做简单浏览"
   ]
  },
  {
   "cell_type": "code",
   "execution_count": null,
   "metadata": {},
   "outputs": [],
   "source": [
    "file_path_in = \"..\\\\04 data\\\\PythonData\\\\\"\n",
    "file_name_in = \"高校信息.csv\""
   ]
  },
  {
   "cell_type": "code",
   "execution_count": null,
   "metadata": {},
   "outputs": [],
   "source": [
    "df1 = pd.read_csv(file_path_in + file_name_in, encoding='gb2312')"
   ]
  },
  {
   "cell_type": "code",
   "execution_count": null,
   "metadata": {},
   "outputs": [],
   "source": [
    "print(df1)"
   ]
  },
  {
   "cell_type": "code",
   "execution_count": null,
   "metadata": {},
   "outputs": [],
   "source": [
    "# 数据框的基本信息\n",
    "df1.info()"
   ]
  },
  {
   "cell_type": "code",
   "execution_count": null,
   "metadata": {},
   "outputs": [],
   "source": [
    "# 浏览前N条记录\n",
    "df1.head(2)"
   ]
  },
  {
   "cell_type": "code",
   "execution_count": null,
   "metadata": {},
   "outputs": [],
   "source": [
    "# 浏览后N条记录\n",
    "df1.tail(3)"
   ]
  },
  {
   "cell_type": "markdown",
   "metadata": {},
   "source": [
    "## 重命名列\n",
    "* 直接修改columns属性\n",
    "```\n",
    "df.columns = 新的名称list\n",
    "```\n",
    "* 只修改指定列名\n",
    "\n",
    "```\n",
    "df.rename(\n",
    "    columns = 新旧名称字典：{'旧名称': '新名称'}\n",
    "    inplace = False: 是否直接替代原始数据\n",
    ")\n",
    "```"
   ]
  },
  {
   "cell_type": "code",
   "execution_count": null,
   "metadata": {},
   "outputs": [],
   "source": [
    "# 给出变量名、列名\n",
    "df1.columns"
   ]
  },
  {
   "cell_type": "code",
   "execution_count": null,
   "metadata": {},
   "outputs": [],
   "source": [
    "df1.columns = ['名次', '学校名称', '总分', '类型', '所在省份', '所在城市', '办学方向', '主管部门']"
   ]
  },
  {
   "cell_type": "code",
   "execution_count": null,
   "metadata": {},
   "outputs": [],
   "source": [
    "df2 = df1.rename(columns={'名次':'名次2'},inplace=False)"
   ]
  },
  {
   "cell_type": "code",
   "execution_count": null,
   "metadata": {},
   "outputs": [],
   "source": [
    "df2"
   ]
  },
  {
   "cell_type": "markdown",
   "metadata": {},
   "source": [
    "## 筛选变量列\n",
    "df.var\n",
    "    * 只适合已经存在的列\n",
    "    * 智能筛选单列，结果为Series"
   ]
  },
  {
   "cell_type": "code",
   "execution_count": null,
   "metadata": {},
   "outputs": [],
   "source": [
    "df2.名次2"
   ]
  },
  {
   "cell_type": "markdown",
   "metadata": {},
   "source": [
    "df['var']\n",
    "    单列的筛选结果为Series，如果希望为df，需要使用列表形式\n",
    "    \n",
    "df[ ['var1','var2'] ]\n",
    "    多列时，列名需要使用列表形式提供\n",
    "    多列的筛选结果为DF"
   ]
  },
  {
   "cell_type": "code",
   "execution_count": null,
   "metadata": {},
   "outputs": [],
   "source": [
    "df2[[ '名次2','总分']]"
   ]
  },
  {
   "cell_type": "markdown",
   "metadata": {},
   "source": [
    "## 删除变量列\n",
    "```\n",
    "df.drop(\n",
    "    index/columns = 准备删除的行/列标签，多个时用列表形式提供\n",
    "    inplace = False 是否直接更改原始数据\n",
    ")\n",
    "```"
   ]
  },
  {
   "cell_type": "code",
   "execution_count": null,
   "metadata": {},
   "outputs": [],
   "source": [
    "df2.drop(columns= ['名次2', '所在城市'])"
   ]
  },
  {
   "cell_type": "markdown",
   "metadata": {},
   "source": [
    "## 变量类型的变换\n",
    "### Pandas支持的数据类型\n",
    "具体类型是Python，Numpy各种类型的混合\n",
    "* float\n",
    "* int\n",
    "* string\n",
    "* bool\n",
    "* datetime64[ns],datetime64[ns,tz],timedalta[ns]\n",
    "* category\n",
    "* object\n",
    "df.dtypes:查看各列的数据类型"
   ]
  },
  {
   "cell_type": "code",
   "execution_count": null,
   "metadata": {},
   "outputs": [],
   "source": [
    "df2.dtypes"
   ]
  },
  {
   "cell_type": "markdown",
   "metadata": {},
   "source": [
    "### 在不同数据类型间转换\n",
    "```\n",
    "df.astype(\n",
    "    dtype:指定希望转换的数据类型\n",
    "    copye = True: 是否生成新的副本，而不是替换数据框\n",
    "    errors = 'raise':转换出错是否抛出错误，'raise/ignore'\n",
    ")\n",
    "```"
   ]
  },
  {
   "cell_type": "code",
   "execution_count": null,
   "metadata": {},
   "outputs": [],
   "source": [
    "df2.astype('str').dtypes"
   ]
  },
  {
   "cell_type": "code",
   "execution_count": null,
   "metadata": {},
   "outputs": [],
   "source": [
    "df2.astype('int',errors = 'ignore').dtypes"
   ]
  },
  {
   "cell_type": "code",
   "execution_count": null,
   "metadata": {},
   "outputs": [],
   "source": [
    "df2[['名次2','总分']].astype('str').dtypes"
   ]
  },
  {
   "cell_type": "markdown",
   "metadata": {},
   "source": [
    "## 实战；对PM数据做简单清理\n",
    "要求\n",
    "    * 在数据中删除对后续分析无用的Parameter、Duration、QC Name等变量列\n",
    "    * 尝试对Date(Lst)、Value等变量进行重命名\n",
    "    * 尝试对数据做各种类型转换"
   ]
  },
  {
   "cell_type": "markdown",
   "metadata": {},
   "source": [
    "# Padas索引\n",
    "索引的用途\n",
    "* 用于分析、可视化、数据展示、数据操作中标记数据行\n",
    "* 提供数据汇总、合并、筛选时关键依据\n",
    "* 提供数据重构时的关键依据\n",
    "\n",
    "注意事项\n",
    "* 索引是不可以直接修改，智能增、删、替换\n",
    "* 逻辑上索引不应当出现重复值，Pandas对这种情况不好报错，但显然有潜在风险\n",
    "\n",
    "## 建立索引\n",
    "### 新建数据框时建立索引\n",
    "所有的数据框默认都已经拥有流水号格式的索引，因此这里的“建立”索引值的时自定义索引"
   ]
  },
  {
   "cell_type": "code",
   "execution_count": null,
   "metadata": {},
   "outputs": [],
   "source": [
    "df1 = pd.DataFrame(\n",
    "{'var1':1.0, 'var2':[1,2,3,5], 'var3':[\"test\",\"train\",\"test\",\"train\"], 'var4': 'cons'}, index = ['a','b','c','d']\n",
    ")\n",
    "df1"
   ]
  },
  {
   "cell_type": "markdown",
   "metadata": {},
   "source": [
    "### 读数据时建立索引\n",
    "数据列直接提供索引值，因此指明相应的数据列即可"
   ]
  },
  {
   "cell_type": "code",
   "execution_count": null,
   "metadata": {},
   "outputs": [],
   "source": [
    "df2 = pd.read_csv(file_path_in + file_name_in, encoding='gbk',index_col=\"学校名称\")\n",
    "df2"
   ]
  },
  {
   "cell_type": "code",
   "execution_count": null,
   "metadata": {},
   "outputs": [],
   "source": [
    "# 生成复合索引\n",
    "df3 = pd.read_csv(file_path_in + file_name_in, encoding='gbk',index_col=[\"学校名称\",\"类型\"])\n",
    "df3"
   ]
  },
  {
   "cell_type": "markdown",
   "metadata": {},
   "source": [
    "### 指定某列为索引列\n",
    "```\n",
    "df.set_index(\n",
    "    keys: 被指定为索引的列名，复合索引用list格式提供\n",
    "    drop = True: 建立索引后是否删除该列\n",
    "    append = False: 是否在原索引上添加索引，默认是直接替换原索引\n",
    "    inplace = False: 是否直接修改原始数据\n",
    ")\n",
    "```"
   ]
  },
  {
   "cell_type": "code",
   "execution_count": null,
   "metadata": {},
   "outputs": [],
   "source": [
    "df4 = pd.read_csv(file_path_in + file_name_in,encoding='gbk')\n",
    "df4"
   ]
  },
  {
   "cell_type": "code",
   "execution_count": null,
   "metadata": {},
   "outputs": [],
   "source": [
    "df5 = df4.set_index('名次')\n",
    "df5"
   ]
  },
  {
   "cell_type": "code",
   "execution_count": null,
   "metadata": {},
   "outputs": [],
   "source": [
    "# 生成复合索引\n",
    "df5 = df4.set_index('名次', append = True, drop = False)\n",
    "df5"
   ]
  },
  {
   "cell_type": "markdown",
   "metadata": {},
   "source": [
    "## 将索引还原为变量列\n",
    "df.reset_index(\n",
    "    drop = False: 是否将索引直接删除，而不是还原为变量列\n",
    "    inplace = False:是否直接修改数据框\n",
    "    level = None:对于多重索引，确定转为哪个级别变量\n",
    ")"
   ]
  },
  {
   "cell_type": "code",
   "execution_count": null,
   "metadata": {},
   "outputs": [],
   "source": [
    "df6 = df4.copy() # 真正生成副本，而不是指定另外别名\n",
    "df6.set_index('所在省份', inplace = True, append = True)\n",
    "df6"
   ]
  },
  {
   "cell_type": "code",
   "execution_count": null,
   "metadata": {},
   "outputs": [],
   "source": [
    "df6.reset_index(inplace = True)\n",
    "df6"
   ]
  },
  {
   "cell_type": "markdown",
   "metadata": {},
   "source": [
    "## 引用和修改索引\n",
    "### 引用索引"
   ]
  },
  {
   "cell_type": "code",
   "execution_count": null,
   "metadata": {},
   "outputs": [],
   "source": [
    "df4.index"
   ]
  },
  {
   "cell_type": "code",
   "execution_count": null,
   "metadata": {},
   "outputs": [],
   "source": [
    "df5.index"
   ]
  },
  {
   "cell_type": "markdown",
   "metadata": {},
   "source": [
    "## 修改索引\n",
    "### 修改索引名\n",
    "本质上和变量列名的修改方式相同"
   ]
  },
  {
   "cell_type": "code",
   "execution_count": null,
   "metadata": {},
   "outputs": [],
   "source": [
    "df4.index.names"
   ]
  },
  {
   "cell_type": "code",
   "execution_count": null,
   "metadata": {},
   "outputs": [],
   "source": [
    "df5.index.names"
   ]
  },
  {
   "cell_type": "code",
   "execution_count": null,
   "metadata": {},
   "outputs": [],
   "source": [
    "df4.index.names = ['idx']\n",
    "df4.index.names"
   ]
  },
  {
   "cell_type": "markdown",
   "metadata": {},
   "source": [
    "### 修改索引值\n",
    "这里的修改本质上是全部替换"
   ]
  },
  {
   "cell_type": "code",
   "execution_count": null,
   "metadata": {},
   "outputs": [],
   "source": [
    "df6 = pd.DataFrame(\n",
    "{\n",
    "    'var1': 1.0,\n",
    "    'var2': [1,2,3,4],\n",
    "    'var3': [\"test\", \"train\", \"test\",\"train\"],\n",
    "    'var4': 'cons'\n",
    "}\n",
    ")\n",
    "df6"
   ]
  },
  {
   "cell_type": "code",
   "execution_count": null,
   "metadata": {},
   "outputs": [],
   "source": [
    "df6.index = ['a','b','c','d']\n",
    "df6"
   ]
  },
  {
   "cell_type": "markdown",
   "metadata": {},
   "source": [
    "### 强行更新索引\n",
    "reindex则可以使用数据框中不存在的数值建立索引，并据此扩充新索引值对应的索引行/列，同时进行缺失值填充操作\n",
    "```\n",
    "df.reindex(\n",
    "    labels:类数组结构的数值，将按此数值重建索引，非必须\n",
    "    axis:针对哪个轴进行重建\n",
    "            ('index','columns') or number(0,1)\n",
    "    copy=True: 建立新对象而不是直接更改\n",
    "    level:考虑被重建的索引级别\n",
    "    \n",
    "    缺失数据的处理方式\n",
    "        method :针对已经拍下的索引，确定数据单元格无数据时的填充方法，非必须\n",
    "            pad/ffill:用前面的有效数值填充\n",
    "            backfill/bfill:用后面的有效数值填充\n",
    "            nearest: 使用最接近的数值进行填充\n",
    "        fill_value = np.NaN: 将缺失值用什么数代替\n",
    "        limit = None :向前/向后填充时的最大步长\n",
    ")\n",
    "```"
   ]
  },
  {
   "cell_type": "code",
   "execution_count": null,
   "metadata": {},
   "outputs": [],
   "source": [
    "df4.set_index('名次')"
   ]
  },
  {
   "cell_type": "code",
   "execution_count": null,
   "metadata": {},
   "outputs": [],
   "source": [
    "df4.reindex()"
   ]
  },
  {
   "cell_type": "code",
   "execution_count": null,
   "metadata": {},
   "outputs": [],
   "source": [
    "df4.reindex([1,2,99,101])"
   ]
  },
  {
   "cell_type": "code",
   "execution_count": null,
   "metadata": {},
   "outputs": [],
   "source": [
    "df4.reindex([1,2,99,101], method = 'ffill')"
   ]
  },
  {
   "cell_type": "code",
   "execution_count": null,
   "metadata": {},
   "outputs": [],
   "source": [
    "df4.reindex([1,2,99,101], fill_value = '不知道')"
   ]
  },
  {
   "cell_type": "code",
   "execution_count": null,
   "metadata": {},
   "outputs": [],
   "source": [
    "df4.reindex([1,2,99,101], fill_value = '不知道').dtypes"
   ]
  },
  {
   "cell_type": "markdown",
   "metadata": {},
   "source": [
    "## 实战：为PM2.5数据建立索引\n",
    "要求：\n",
    "* 尝试在读入文件时直接建立索引\n",
    "* 尝试使用Date(LST)建立单一索引\n",
    "    为了便于操作，最好重命名\n",
    "* 尝试使用Year,Month,Day,Hour建立复合索引\n",
    "* 尝试修改索引名"
   ]
  },
  {
   "cell_type": "markdown",
   "metadata": {},
   "source": [
    "# 案例行的基本操作"
   ]
  },
  {
   "cell_type": "markdown",
   "metadata": {},
   "source": [
    "## 案例排序\n",
    "### 用索引排序\n",
    "```\n",
    "df.sort_index(\n",
    "    level:(多重索引)指定用于排序的级别序号、名称\n",
    "    ascending = True:是否为升序拍了\n",
    "    inplace = False\n",
    "    na_position = 'last':缺失值的排列顺序，'first' 'last'\n",
    ")\n",
    "```"
   ]
  },
  {
   "cell_type": "code",
   "execution_count": null,
   "metadata": {},
   "outputs": [],
   "source": [
    "file_path_in = \"..\\\\04 data\\\\PythonData\\\\\"\n",
    "file_name_in = \"高校信息.xlsx\"\n",
    "df2 = pd.read_excel(file_path_in+file_name_in,sheet_name=0)\n",
    "df2.set_index(['类型','学校名称'],inplace = True)\n",
    "df2"
   ]
  },
  {
   "cell_type": "code",
   "execution_count": null,
   "metadata": {},
   "outputs": [],
   "source": [
    "df2.sort_index()"
   ]
  },
  {
   "cell_type": "code",
   "execution_count": null,
   "metadata": {},
   "outputs": [],
   "source": [
    "df2.sort_index(ascending = [True,False])"
   ]
  },
  {
   "cell_type": "code",
   "execution_count": null,
   "metadata": {},
   "outputs": [],
   "source": [
    "df2"
   ]
  },
  {
   "cell_type": "markdown",
   "metadata": {},
   "source": [
    "### 用变量值排序\n",
    "```\n",
    "df.sort_values(\n",
    "    by:指定用于排序的变量名，多列时以列表形式提供\n",
    "    ascending = True:是否升序排序\n",
    "    inplace = False\n",
    "    na_position = 'last':缺失值的排列顺序，'first' 'last'\n",
    ")\n",
    "```"
   ]
  },
  {
   "cell_type": "code",
   "execution_count": null,
   "metadata": {},
   "outputs": [],
   "source": [
    "df2.sort_values(['所在省份','所在城市'])"
   ]
  },
  {
   "cell_type": "markdown",
   "metadata": {},
   "source": [
    "## 案例筛选\n",
    "筛选的本质：基于T/F进行筛选"
   ]
  },
  {
   "cell_type": "code",
   "execution_count": null,
   "metadata": {},
   "outputs": [],
   "source": [
    "sellist = [True, False, True]\n",
    "df2.iloc[sellist]"
   ]
  },
  {
   "cell_type": "markdown",
   "metadata": {},
   "source": [
    "### 按照绝对位置进行筛选\n",
    "df.iloc\n",
    "    意为integer-location，即按照行序号进行检索\n",
    "    可以同时指定行列，指定列时，需先用\",\"表面列序号"
   ]
  },
  {
   "cell_type": "code",
   "execution_count": null,
   "metadata": {},
   "outputs": [],
   "source": [
    "df2.iloc[0:3] #不包括右侧界值"
   ]
  },
  {
   "cell_type": "code",
   "execution_count": null,
   "metadata": {},
   "outputs": [],
   "source": [
    "df2.iloc[[0,3]]"
   ]
  },
  {
   "cell_type": "code",
   "execution_count": null,
   "metadata": {},
   "outputs": [],
   "source": [
    "df2.iloc[:,0:3]#指定列范围,不包括右侧边界值"
   ]
  },
  {
   "cell_type": "code",
   "execution_count": null,
   "metadata": {},
   "outputs": [],
   "source": [
    "df2.iloc[1:4, [0,3]] # 同时指定行列"
   ]
  },
  {
   "cell_type": "markdown",
   "metadata": {},
   "source": [
    "### 按照索引值进行筛选\n",
    "\n",
    "```\n",
    "df.loc\n",
    "    按照给出的索引值进行筛选\n",
    "    筛选范围包括上下界值\n",
    "    出现未知索引值会报错\n",
    "df.xs(key, axis=0, level=None, drop_level=True)\n",
    "    指定具体检索用的多重索引级别\n",
    "```"
   ]
  },
  {
   "cell_type": "code",
   "execution_count": null,
   "metadata": {},
   "outputs": [],
   "source": [
    "df3 = pd.read_excel(file_path_in+file_name_in,sheet_name=0,index_col='名次')\n",
    "df3"
   ]
  },
  {
   "cell_type": "code",
   "execution_count": null,
   "metadata": {},
   "outputs": [],
   "source": [
    "df3 = pd.read_excel(file_path_in+file_name_in,sheet_name=0,index_col='学校名称')\n",
    "df3"
   ]
  },
  {
   "cell_type": "code",
   "execution_count": null,
   "metadata": {},
   "outputs": [],
   "source": [
    "df3.loc[['北京大学','复旦大学'],['所在省份','名次','总分'] ]"
   ]
  },
  {
   "cell_type": "code",
   "execution_count": null,
   "metadata": {},
   "outputs": [],
   "source": [
    "df2.xs('北京大学',level = 1)"
   ]
  },
  {
   "cell_type": "markdown",
   "metadata": {},
   "source": [
    "### 使用混合模式进行筛选"
   ]
  },
  {
   "cell_type": "markdown",
   "metadata": {},
   "source": [
    "```\n",
    "df.ix\n",
    "    不建议使用\n",
    "```"
   ]
  },
  {
   "cell_type": "markdown",
   "metadata": {},
   "source": [
    "使用loc命令进行筛选，即可"
   ]
  },
  {
   "cell_type": "markdown",
   "metadata": {},
   "source": [
    "### 列表筛选"
   ]
  },
  {
   "cell_type": "markdown",
   "metadata": {},
   "source": [
    "df[筛选条件]"
   ]
  },
  {
   "cell_type": "markdown",
   "metadata": {},
   "source": [
    "#### 按照数据范围进行筛选"
   ]
  },
  {
   "cell_type": "code",
   "execution_count": null,
   "metadata": {},
   "outputs": [],
   "source": [
    "df3[df3.名次>10]\n",
    "#df3[df3['名次']>10]"
   ]
  },
  {
   "cell_type": "markdown",
   "metadata": {},
   "source": [
    "#### 按照列表筛选"
   ]
  },
  {
   "cell_type": "markdown",
   "metadata": {},
   "source": [
    "`\n",
    "df.isin(values)\n",
    "    返回结果为相应的位置是否匹配给出的values\n",
    "    values为序列：对应每个具体值\n",
    "    values为字典：对应每个变量名次\n",
    "    values为数据框：同时对应数值和变量名称\n",
    "`"
   ]
  },
  {
   "cell_type": "code",
   "execution_count": null,
   "metadata": {},
   "outputs": [],
   "source": [
    "df3[df3['名次'].isin([1,3,5])]"
   ]
  },
  {
   "cell_type": "markdown",
   "metadata": {},
   "source": [
    "### 条件筛选"
   ]
  },
  {
   "cell_type": "code",
   "execution_count": null,
   "metadata": {},
   "outputs": [],
   "source": [
    "df3[df3.所在省份.isin(['北京','上海'])]"
   ]
  },
  {
   "cell_type": "markdown",
   "metadata": {},
   "source": [
    "#### 多重条件的联合筛选"
   ]
  },
  {
   "cell_type": "code",
   "execution_count": null,
   "metadata": {},
   "outputs": [],
   "source": [
    "df4 = df3[df3['名次'] >10]\n",
    "df4[df4['名次'] < 90]"
   ]
  },
  {
   "cell_type": "markdown",
   "metadata": {},
   "source": [
    "### 用类SQL语句进行筛选\n",
    "`\n",
    "df.query(\n",
    "    expr: 类SQL语句表达式\n",
    "    可以使用前缀'@'引用环境变量\n",
    "    不支持like语句\n",
    "    inplace = False\n",
    ")\n",
    "`"
   ]
  },
  {
   "cell_type": "code",
   "execution_count": null,
   "metadata": {},
   "outputs": [],
   "source": [
    "df3.query(\"名次 > 10 and 名次 < 90 and 所在省份 not in ('北京','上海')\")"
   ]
  },
  {
   "cell_type": "markdown",
   "metadata": {},
   "source": [
    "## 实战：筛选数据中所需的案例"
   ]
  },
  {
   "cell_type": "markdown",
   "metadata": {},
   "source": [
    "```\n",
    "高校信息数据：\n",
    "    分别使用索引、非索引和类SQL方式，筛选出 教育部主管的总分低于70分的大学\n",
    "    只将主管部门设定为索引，重新实现上述需求\n",
    "北京PM2.5数据:\n",
    "    筛选出 PM2.5 > 200 的案例\n",
    "    筛选出 2016年10月，PM2.5 > 100的案例\n",
    "    筛选出 2016年10月上班时间（9:00AM-5:00PM）,PM2.5>100的案例\n",
    "```"
   ]
  },
  {
   "cell_type": "code",
   "execution_count": null,
   "metadata": {},
   "outputs": [],
   "source": [
    "file_path_high_school = \"..\\\\04 data\\\\PythonData\\\\\"\n",
    "file_name_high_school = \"高校信息.csv\"\n",
    "file_path_pm2p5 =  \"..\\\\04 data\\\\PythonData\\\\PM25\\\\\"\n",
    "file_name_pm2p5 = 'Beijing_2016_HourlyPM25_created20170201.csv'"
   ]
  },
  {
   "cell_type": "code",
   "execution_count": null,
   "metadata": {},
   "outputs": [],
   "source": [
    "df_high_school = pd.read_csv(file_path_high_school+file_name_high_school,engine='python')\n",
    "df_pm2p5 = pd.read_csv(file_path_pm2p5+file_name_pm2p5,engine='python',encoding='utf8')"
   ]
  },
  {
   "cell_type": "code",
   "execution_count": null,
   "metadata": {},
   "outputs": [],
   "source": [
    "# 索引\n",
    "df_high_school1 = df_high_school.set_index(['主管部门'])\n",
    "df_high_school2 = df_high_school1.loc[ ['教育部'], ]\n",
    "df_high_school3 = df_high_school2[ df_high_school2['总分'] < 70 ]\n",
    "df_high_school3"
   ]
  },
  {
   "cell_type": "code",
   "execution_count": null,
   "metadata": {},
   "outputs": [],
   "source": [
    "#非索引\n",
    "df_high_school1 = df_high_school[ df_high_school['主管部门'] == '教育部' ]\n",
    "df_high_school2 = df_high_school1[ df_high_school1['总分'] < 70  ]\n",
    "df_high_school2"
   ]
  },
  {
   "cell_type": "code",
   "execution_count": null,
   "metadata": {},
   "outputs": [],
   "source": [
    "# SQL\n",
    "df_high_school.query(\"主管部门 in ('教育部') and 总分 < 70\")"
   ]
  },
  {
   "cell_type": "markdown",
   "metadata": {},
   "source": [
    "# 变量变换\n",
    "## 计算新变量\n",
    "### 新变量为常数"
   ]
  },
  {
   "cell_type": "markdown",
   "metadata": {},
   "source": [
    "```\n",
    "df[ 'varname' ] = value\n",
    "```"
   ]
  },
  {
   "cell_type": "code",
   "execution_count": null,
   "metadata": {},
   "outputs": [],
   "source": [
    "file_path_high_school = \"..\\\\04 data\\\\PythonData\\\\\"\n",
    "file_name_high_school = \"高校信息.csv\"\n",
    "df_high_school = pd.read_csv(file_path_high_school+file_name_high_school,engine='python')"
   ]
  },
  {
   "cell_type": "code",
   "execution_count": null,
   "metadata": {},
   "outputs": [],
   "source": [
    "df_high_school.head()"
   ]
  },
  {
   "cell_type": "code",
   "execution_count": null,
   "metadata": {},
   "outputs": [],
   "source": [
    "df_high_school['cons'] = 1\n",
    "df_high_school"
   ]
  },
  {
   "cell_type": "markdown",
   "metadata": {},
   "source": [
    "###  新变量基于一个/多个原变量做简单四则运算\n",
    "```\n",
    "df['varname'] = df['oldvar'] * 100\n",
    "df['varname'] = df.oldvar *100\n",
    "```"
   ]
  },
  {
   "cell_type": "code",
   "execution_count": null,
   "metadata": {},
   "outputs": [],
   "source": [
    "df_high_school['new'] = df_high_school['总分'] + df_high_school['名次'] + 1\n",
    "df_high_school"
   ]
  },
  {
   "cell_type": "code",
   "execution_count": null,
   "metadata": {},
   "outputs": [],
   "source": [
    "df_high_school['new'] = np.sqrt(df_high_school['总分'])\n",
    "df_high_school"
   ]
  },
  {
   "cell_type": "markdown",
   "metadata": {},
   "source": [
    "### 新变量基于一个原变量\n",
    "```\n",
    "df.apply(\n",
    "    func:希望对行、列执行的函数表达式\n",
    "    axis = 0：针对行还是列进行计算？\n",
    "        0/'index':针对每列进行计算\n",
    "        1/'columns':针对每行进行计算，\n",
    "    )\n",
    "简化用法\n",
    "    df['varname']  = df.oldvar.apply(函数表达式)\n",
    "```"
   ]
  },
  {
   "cell_type": "code",
   "execution_count": null,
   "metadata": {},
   "outputs": [],
   "source": [
    "df_high_school['new3'] = df_high_school['总分'].apply(np.sqrt)\n",
    "df_high_school"
   ]
  },
  {
   "cell_type": "markdown",
   "metadata": {},
   "source": [
    "```\n",
    "特殊运算的实现方式，截取变量的第1个字符\n",
    "def m_head(tmpstr):\n",
    "    return tmpstr[:1]\n",
    "对所有单元格进行相同对函数运输\n",
    "    dfnew = df.applymap(函数表达式) #是以cell为单位进行操作\n",
    "```，"
   ]
  },
  {
   "cell_type": "code",
   "execution_count": null,
   "metadata": {},
   "outputs": [],
   "source": [
    "df_high_school[ ['名次','总分']].applymap(math.sqrt)"
   ]
  },
  {
   "cell_type": "markdown",
   "metadata": {},
   "source": [
    "## 在指定位置插入心变量列\n",
    "```\n",
    "df.insert(\n",
    "    loc:插入位置的索引值，0<=loc<=len(columns)\n",
    "    column:插入对新列名称\n",
    "    value:Series或者类数据结构的变量值\n",
    "    allow_duplicates = False:是否允许新列重名\n",
    "    )\n",
    "#该方法会直接修改原df\n",
    "```"
   ]
  },
  {
   "cell_type": "code",
   "execution_count": null,
   "metadata": {},
   "outputs": [],
   "source": [
    "df_high_school.insert(1,'newvar','cons')\n",
    "df_high_school"
   ]
  },
  {
   "cell_type": "markdown",
   "metadata": {},
   "source": [
    "## 修改，替换变量值\n",
    "本质上是如何直接指定到单元格的问题，只要能够准确的定位在那个地址，就能够做到准确的替换"
   ]
  },
  {
   "cell_type": "code",
   "execution_count": null,
   "metadata": {},
   "outputs": [],
   "source": [
    "df_high_school[df_high_school['所在城市'].isin(['上海'])]"
   ]
  },
  {
   "cell_type": "markdown",
   "metadata": {},
   "source": [
    "### 对于数值对替换\n",
    "```\n",
    "df.replace(\n",
    "   to_replace = None:将被替换的原数值，所有严格匹配对数值将被用value替换\n",
    "    value = Nome:希望填充的新数值\n",
    "    inplace = False\n",
    "    )\n",
    "```"
   ]
  },
  {
   "cell_type": "code",
   "execution_count": null,
   "metadata": {},
   "outputs": [],
   "source": [
    "df_high_school['所在城市'].replace('北京市','帝都')"
   ]
  },
  {
   "cell_type": "code",
   "execution_count": null,
   "metadata": {},
   "outputs": [],
   "source": [
    "df_high_school['所在城市'].replace(['北京市','上海市'],['帝都','魔都'])"
   ]
  },
  {
   "cell_type": "code",
   "execution_count": null,
   "metadata": {},
   "outputs": [],
   "source": [
    "#字典批量映射替换\n",
    "df_high_school['所在城市'].replace({'北京市':'帝都','上海市':'魔都'})"
   ]
  },
  {
   "cell_type": "markdown",
   "metadata": {},
   "source": [
    "### 指定数值范围对替换\n",
    "```\n",
    "方法一：使用正则表达式\n",
    "df.replace(regex,newvalue)\n",
    "方法二：使用行筛选\n",
    "    用行筛选方式得到索引，然后用loc命令定位替换\n",
    "    目前也支持直接筛选出单元格进行数值替换\n",
    "```"
   ]
  },
  {
   "cell_type": "code",
   "execution_count": null,
   "metadata": {},
   "outputs": [],
   "source": [
    "df_high_school['总分'].iloc[0:2] = 10\n",
    "df_high_school"
   ]
  },
  {
   "cell_type": "code",
   "execution_count": null,
   "metadata": {},
   "outputs": [],
   "source": [
    "df_high_school.loc[3:5, '总分']  = 20#3，4，5都会被替换，需要注意\n",
    "df_high_school"
   ]
  },
  {
   "cell_type": "code",
   "execution_count": null,
   "metadata": {},
   "outputs": [],
   "source": [
    "# 用loc命令完成替换\n",
    "#df_high_school.loc[df_high_school[df_high_school['名次']< 10].index,'总分'] = 200\n",
    "df_high_school.loc[df_high_school['名次']< 10,'总分'] = 200\n",
    "df_high_school"
   ]
  },
  {
   "cell_type": "code",
   "execution_count": null,
   "metadata": {},
   "outputs": [],
   "source": [
    "# 直接进行定位和替换\n",
    "df_high_school['总分'][df_high_school['名次'] < 10 ] =25\n",
    "df_high_school"
   ]
  },
  {
   "cell_type": "markdown",
   "metadata": {},
   "source": [
    "## 哑变量变换\n",
    "```\n",
    "pd.get_dummies(\n",
    "    data:希望转换对数据框/变量列\n",
    "    prefix = None:哑变量名称前缀\n",
    "    prefix_step = '_':前缀和序号之间对连接字符，设定有prefix或列名时有效\n",
    "    dummy_na = False:是否为NaNs专门设定一个哑变量列\n",
    "    columns = None:希望转换对原始列名，如果不设定，则转换所有符合条件对列\n",
    "    drop_first = False:是否饭后k-1呀变量，而不是k个哑变量\n",
    ")# 返回值为数据框\n",
    "```"
   ]
  },
  {
   "cell_type": "code",
   "execution_count": null,
   "metadata": {},
   "outputs": [],
   "source": [
    "df_high_school.head()"
   ]
  },
  {
   "cell_type": "code",
   "execution_count": null,
   "metadata": {},
   "outputs": [],
   "source": [
    "pd.get_dummies(df_high_school['类型'],prefix = \"pre\")"
   ]
  },
  {
   "cell_type": "code",
   "execution_count": null,
   "metadata": {},
   "outputs": [],
   "source": [
    "pd.get_dummies(df_high_school,columns=['类型'])"
   ]
  },
  {
   "cell_type": "markdown",
   "metadata": {},
   "source": [
    "## 数值变量分段\n",
    "```\n",
    "pd.cut(\n",
    "    x:希望进行分段的变量名称\n",
    "    bins:具体分段设定\n",
    "        int:被等距等分的段数\n",
    "        sequence of scalars:具体的每一个分段起点，必须包括最值，可以不等距\n",
    "    right = True：每段是否包括右侧界值\n",
    "    labels = None:为每个分段提供自定义标签\n",
    "    include_lowest = False:第一段是否包括最左侧界值，需要和right参数配合\n",
    ")#分段结果是数值类型为Categories\n",
    "pd.qcut()#按照频数，而不是按照取值范围进行等分\n",
    "```"
   ]
  },
  {
   "cell_type": "code",
   "execution_count": null,
   "metadata": {},
   "outputs": [],
   "source": [
    "print(df_high_school.head())\n",
    "df_high_school['cls'] = pd.cut(df_high_school['名次'],bins=[1,3,7],right = False)\n",
    "df_high_school.head(10)"
   ]
  },
  {
   "cell_type": "markdown",
   "metadata": {},
   "source": [
    "## 实战：进一步整理PM2.5数据\n",
    "```\n",
    "    要求：\n",
    "    在数据中剔除PM2.5为-900的案例\n",
    "    建立一个新变量high，当PM2.5 >= 200 时为1，否则为0\n",
    "    建立一个新变量high2，按照PM2.5在100，200，500分为4段，分别取值0，1，2，3\n",
    "    将high2转换成哑变量组\n",
    "    按照50一个组段，将PM2.5数值转换为分段变量high3\n",
    "```"
   ]
  },
  {
   "cell_type": "markdown",
   "metadata": {},
   "source": [
    "# 文件界别的数据管理"
   ]
  },
  {
   "cell_type": "markdown",
   "metadata": {},
   "source": [
    "## 数据拆分"
   ]
  },
  {
   "cell_type": "markdown",
   "metadata": {},
   "source": [
    "### 标记数据拆分组"
   ]
  },
  {
   "cell_type": "markdown",
   "metadata": {},
   "source": [
    "```\n",
    "df.groupby(\n",
    "    by:用于分组对变量名/函数\n",
    "    axis = 0:\n",
    "    level = None\n",
    "    as_index = True\n",
    "    sort = True\n",
    ")\n",
    "在数据分组之后，许多数据处理分析绘图命令都可以在各组间单独执行\n",
    "```"
   ]
  },
  {
   "cell_type": "code",
   "execution_count": null,
   "metadata": {},
   "outputs": [],
   "source": [
    "file_path_high_school = \"..\\\\04 data\\\\PythonData\\\\\"\n",
    "file_name_high_school = \"高校信息.csv\"\n",
    "df = pd.read_csv(file_path_high_school+file_name_high_school,engine='python')"
   ]
  },
  {
   "cell_type": "code",
   "execution_count": null,
   "metadata": {},
   "outputs": [],
   "source": [
    "df"
   ]
  },
  {
   "cell_type": "code",
   "execution_count": null,
   "metadata": {},
   "outputs": [],
   "source": [
    "dfg=df.groupby('类型')\n",
    "dfg"
   ]
  },
  {
   "cell_type": "code",
   "execution_count": null,
   "metadata": {},
   "outputs": [],
   "source": [
    "dfg.groups"
   ]
  },
  {
   "cell_type": "code",
   "execution_count": null,
   "metadata": {},
   "outputs": [],
   "source": [
    "df.describe()"
   ]
  },
  {
   "cell_type": "code",
   "execution_count": null,
   "metadata": {},
   "outputs": [],
   "source": [
    "dfg.describe()"
   ]
  },
  {
   "cell_type": "markdown",
   "metadata": {},
   "source": [
    "### 给予拆分进行筛选\n",
    "```\n",
    "筛选出其中的一组\n",
    "dfgroup.get_group()\n",
    "```"
   ]
  },
  {
   "cell_type": "code",
   "execution_count": null,
   "metadata": {},
   "outputs": [],
   "source": [
    "dfg.get_group('农林').mean()"
   ]
  },
  {
   "cell_type": "code",
   "execution_count": null,
   "metadata": {},
   "outputs": [],
   "source": [
    "dfg.mean()"
   ]
  },
  {
   "cell_type": "markdown",
   "metadata": {},
   "source": [
    "## 分组汇总"
   ]
  },
  {
   "cell_type": "markdown",
   "metadata": {},
   "source": [
    "### 使用agg函数进行汇总"
   ]
  },
  {
   "cell_type": "code",
   "execution_count": null,
   "metadata": {},
   "outputs": [],
   "source": [
    "dfg.agg(['mean','median'])"
   ]
  },
  {
   "cell_type": "code",
   "execution_count": null,
   "metadata": {},
   "outputs": [],
   "source": [
    "#引用非内置函数\n",
    "print(df['总分'].agg(np.sum))\n",
    "dfg['总分'].agg(np.sum)"
   ]
  },
  {
   "cell_type": "markdown",
   "metadata": {},
   "source": [
    "### 其他分组汇总方法\n",
    "在生成交叉表的同时对单元格指定具体对汇总指标和汇总函数，类似透视功能\n",
    "```\n",
    "df.pivot_table()\n",
    "pd.crosstable()\n",
    "```"
   ]
  },
  {
   "cell_type": "code",
   "execution_count": null,
   "metadata": {},
   "outputs": [],
   "source": [
    "pd.crosstab(df['办学方向'],df['类型'])"
   ]
  },
  {
   "cell_type": "code",
   "execution_count": null,
   "metadata": {},
   "outputs": [],
   "source": [
    "pd.pivot_table(df, index = ['办学方向','类型'],aggfunc=[np.sum,len])"
   ]
  },
  {
   "cell_type": "markdown",
   "metadata": {},
   "source": [
    "## 重复测量数据格式的转换\n",
    "### 转换为最简格式\n",
    "df.stack(\n",
    "    level=-1:需要处理的索引级别，默认为全部\n",
    "    dropna = True:是否删除缺失值对行\n",
    ")#转换后的结果可能为Series\n",
    "```\n",
    "重复测量数据的长型格式\n",
    "重复测量数据对宽行格式\n",
    "```"
   ]
  },
  {
   "cell_type": "code",
   "execution_count": 2,
   "metadata": {},
   "outputs": [],
   "source": [
    "file_path = \"..\\\\04 data\\\\PythonData\\\\\"\n",
    "file_name_children = \"儿童生长研究.xlsx\"\n",
    "df_children = pd.read_excel(file_path+file_name_children,index_col=[0,2])"
   ]
  },
  {
   "cell_type": "code",
   "execution_count": 3,
   "metadata": {},
   "outputs": [
    {
     "data": {
      "text/html": [
       "<div>\n",
       "<style scoped>\n",
       "    .dataframe tbody tr th:only-of-type {\n",
       "        vertical-align: middle;\n",
       "    }\n",
       "\n",
       "    .dataframe tbody tr th {\n",
       "        vertical-align: top;\n",
       "    }\n",
       "\n",
       "    .dataframe thead th {\n",
       "        text-align: right;\n",
       "    }\n",
       "</style>\n",
       "<table border=\"1\" class=\"dataframe\">\n",
       "  <thead>\n",
       "    <tr style=\"text-align: right;\">\n",
       "      <th></th>\n",
       "      <th></th>\n",
       "      <th>性别</th>\n",
       "      <th>测量值</th>\n",
       "    </tr>\n",
       "    <tr>\n",
       "      <th>个体ID</th>\n",
       "      <th>年龄</th>\n",
       "      <th></th>\n",
       "      <th></th>\n",
       "    </tr>\n",
       "  </thead>\n",
       "  <tbody>\n",
       "    <tr>\n",
       "      <th rowspan=\"4\" valign=\"top\">1</th>\n",
       "      <th>8</th>\n",
       "      <td>F</td>\n",
       "      <td>21.0</td>\n",
       "    </tr>\n",
       "    <tr>\n",
       "      <th>10</th>\n",
       "      <td>F</td>\n",
       "      <td>20.0</td>\n",
       "    </tr>\n",
       "    <tr>\n",
       "      <th>12</th>\n",
       "      <td>F</td>\n",
       "      <td>21.5</td>\n",
       "    </tr>\n",
       "    <tr>\n",
       "      <th>14</th>\n",
       "      <td>F</td>\n",
       "      <td>23.0</td>\n",
       "    </tr>\n",
       "    <tr>\n",
       "      <th>2</th>\n",
       "      <th>8</th>\n",
       "      <td>F</td>\n",
       "      <td>21.0</td>\n",
       "    </tr>\n",
       "    <tr>\n",
       "      <th>...</th>\n",
       "      <th>...</th>\n",
       "      <td>...</td>\n",
       "      <td>...</td>\n",
       "    </tr>\n",
       "    <tr>\n",
       "      <th>26</th>\n",
       "      <th>14</th>\n",
       "      <td>M</td>\n",
       "      <td>30.0</td>\n",
       "    </tr>\n",
       "    <tr>\n",
       "      <th rowspan=\"4\" valign=\"top\">27</th>\n",
       "      <th>8</th>\n",
       "      <td>M</td>\n",
       "      <td>22.0</td>\n",
       "    </tr>\n",
       "    <tr>\n",
       "      <th>10</th>\n",
       "      <td>M</td>\n",
       "      <td>21.5</td>\n",
       "    </tr>\n",
       "    <tr>\n",
       "      <th>12</th>\n",
       "      <td>M</td>\n",
       "      <td>23.5</td>\n",
       "    </tr>\n",
       "    <tr>\n",
       "      <th>14</th>\n",
       "      <td>M</td>\n",
       "      <td>25.0</td>\n",
       "    </tr>\n",
       "  </tbody>\n",
       "</table>\n",
       "<p>108 rows × 2 columns</p>\n",
       "</div>"
      ],
      "text/plain": [
       "        性别   测量值\n",
       "个体ID 年龄         \n",
       "1    8   F  21.0\n",
       "     10  F  20.0\n",
       "     12  F  21.5\n",
       "     14  F  23.0\n",
       "2    8   F  21.0\n",
       "...     ..   ...\n",
       "26   14  M  30.0\n",
       "27   8   M  22.0\n",
       "     10  M  21.5\n",
       "     12  M  23.5\n",
       "     14  M  25.0\n",
       "\n",
       "[108 rows x 2 columns]"
      ]
     },
     "execution_count": 3,
     "metadata": {},
     "output_type": "execute_result"
    }
   ],
   "source": [
    "df_children"
   ]
  },
  {
   "cell_type": "code",
   "execution_count": 8,
   "metadata": {},
   "outputs": [
    {
     "data": {
      "text/plain": [
       "个体ID  年龄     \n",
       "1     8   性别        F\n",
       "          测量值      21\n",
       "      10  性别        F\n",
       "          测量值      20\n",
       "      12  性别        F\n",
       "                 ... \n",
       "27    10  测量值    21.5\n",
       "      12  性别        M\n",
       "          测量值    23.5\n",
       "      14  性别        M\n",
       "          测量值      25\n",
       "Length: 216, dtype: object"
      ]
     },
     "execution_count": 8,
     "metadata": {},
     "output_type": "execute_result"
    }
   ],
   "source": [
    "dfs = df_children.stack()\n",
    "dfs"
   ]
  },
  {
   "cell_type": "markdown",
   "metadata": {},
   "source": [
    "### 长宽格式对自由转换\n",
    "```\n",
    "df.unstack(\n",
    "    level = -1\n",
    "    fill_value:用于填充缺失的数值\n",
    ")\n",
    "```"
   ]
  },
  {
   "cell_type": "code",
   "execution_count": 9,
   "metadata": {},
   "outputs": [
    {
     "data": {
      "text/html": [
       "<div>\n",
       "<style scoped>\n",
       "    .dataframe tbody tr th:only-of-type {\n",
       "        vertical-align: middle;\n",
       "    }\n",
       "\n",
       "    .dataframe tbody tr th {\n",
       "        vertical-align: top;\n",
       "    }\n",
       "\n",
       "    .dataframe thead th {\n",
       "        text-align: right;\n",
       "    }\n",
       "</style>\n",
       "<table border=\"1\" class=\"dataframe\">\n",
       "  <thead>\n",
       "    <tr style=\"text-align: right;\">\n",
       "      <th></th>\n",
       "      <th>年龄</th>\n",
       "      <th>8</th>\n",
       "      <th>10</th>\n",
       "      <th>12</th>\n",
       "      <th>14</th>\n",
       "    </tr>\n",
       "    <tr>\n",
       "      <th>个体ID</th>\n",
       "      <th></th>\n",
       "      <th></th>\n",
       "      <th></th>\n",
       "      <th></th>\n",
       "      <th></th>\n",
       "    </tr>\n",
       "  </thead>\n",
       "  <tbody>\n",
       "    <tr>\n",
       "      <th rowspan=\"2\" valign=\"top\">1</th>\n",
       "      <th>性别</th>\n",
       "      <td>F</td>\n",
       "      <td>F</td>\n",
       "      <td>F</td>\n",
       "      <td>F</td>\n",
       "    </tr>\n",
       "    <tr>\n",
       "      <th>测量值</th>\n",
       "      <td>21</td>\n",
       "      <td>20</td>\n",
       "      <td>21.5</td>\n",
       "      <td>23</td>\n",
       "    </tr>\n",
       "    <tr>\n",
       "      <th rowspan=\"2\" valign=\"top\">2</th>\n",
       "      <th>性别</th>\n",
       "      <td>F</td>\n",
       "      <td>F</td>\n",
       "      <td>F</td>\n",
       "      <td>F</td>\n",
       "    </tr>\n",
       "    <tr>\n",
       "      <th>测量值</th>\n",
       "      <td>21</td>\n",
       "      <td>21.5</td>\n",
       "      <td>24</td>\n",
       "      <td>25.5</td>\n",
       "    </tr>\n",
       "    <tr>\n",
       "      <th>3</th>\n",
       "      <th>性别</th>\n",
       "      <td>F</td>\n",
       "      <td>F</td>\n",
       "      <td>F</td>\n",
       "      <td>F</td>\n",
       "    </tr>\n",
       "    <tr>\n",
       "      <th>...</th>\n",
       "      <th>...</th>\n",
       "      <td>...</td>\n",
       "      <td>...</td>\n",
       "      <td>...</td>\n",
       "      <td>...</td>\n",
       "    </tr>\n",
       "    <tr>\n",
       "      <th>25</th>\n",
       "      <th>测量值</th>\n",
       "      <td>22.5</td>\n",
       "      <td>25.5</td>\n",
       "      <td>25.5</td>\n",
       "      <td>26</td>\n",
       "    </tr>\n",
       "    <tr>\n",
       "      <th rowspan=\"2\" valign=\"top\">26</th>\n",
       "      <th>性别</th>\n",
       "      <td>M</td>\n",
       "      <td>M</td>\n",
       "      <td>M</td>\n",
       "      <td>M</td>\n",
       "    </tr>\n",
       "    <tr>\n",
       "      <th>测量值</th>\n",
       "      <td>23</td>\n",
       "      <td>24.5</td>\n",
       "      <td>26</td>\n",
       "      <td>30</td>\n",
       "    </tr>\n",
       "    <tr>\n",
       "      <th rowspan=\"2\" valign=\"top\">27</th>\n",
       "      <th>性别</th>\n",
       "      <td>M</td>\n",
       "      <td>M</td>\n",
       "      <td>M</td>\n",
       "      <td>M</td>\n",
       "    </tr>\n",
       "    <tr>\n",
       "      <th>测量值</th>\n",
       "      <td>22</td>\n",
       "      <td>21.5</td>\n",
       "      <td>23.5</td>\n",
       "      <td>25</td>\n",
       "    </tr>\n",
       "  </tbody>\n",
       "</table>\n",
       "<p>54 rows × 4 columns</p>\n",
       "</div>"
      ],
      "text/plain": [
       "年龄          8     10    12    14\n",
       "个体ID                            \n",
       "1    性别      F     F     F     F\n",
       "     测量值    21    20  21.5    23\n",
       "2    性别      F     F     F     F\n",
       "     测量值    21  21.5    24  25.5\n",
       "3    性别      F     F     F     F\n",
       "...        ...   ...   ...   ...\n",
       "25   测量值  22.5  25.5  25.5    26\n",
       "26   性别      M     M     M     M\n",
       "     测量值    23  24.5    26    30\n",
       "27   性别      M     M     M     M\n",
       "     测量值    22  21.5  23.5    25\n",
       "\n",
       "[54 rows x 4 columns]"
      ]
     },
     "execution_count": 9,
     "metadata": {},
     "output_type": "execute_result"
    }
   ],
   "source": [
    "dfs.unstack(1)"
   ]
  },
  {
   "cell_type": "code",
   "execution_count": 10,
   "metadata": {},
   "outputs": [
    {
     "data": {
      "text/html": [
       "<div>\n",
       "<style scoped>\n",
       "    .dataframe tbody tr th:only-of-type {\n",
       "        vertical-align: middle;\n",
       "    }\n",
       "\n",
       "    .dataframe tbody tr th {\n",
       "        vertical-align: top;\n",
       "    }\n",
       "\n",
       "    .dataframe thead tr th {\n",
       "        text-align: left;\n",
       "    }\n",
       "\n",
       "    .dataframe thead tr:last-of-type th {\n",
       "        text-align: right;\n",
       "    }\n",
       "</style>\n",
       "<table border=\"1\" class=\"dataframe\">\n",
       "  <thead>\n",
       "    <tr>\n",
       "      <th>年龄</th>\n",
       "      <th colspan=\"2\" halign=\"left\">8</th>\n",
       "      <th colspan=\"2\" halign=\"left\">10</th>\n",
       "      <th colspan=\"2\" halign=\"left\">12</th>\n",
       "      <th colspan=\"2\" halign=\"left\">14</th>\n",
       "    </tr>\n",
       "    <tr>\n",
       "      <th></th>\n",
       "      <th>性别</th>\n",
       "      <th>测量值</th>\n",
       "      <th>性别</th>\n",
       "      <th>测量值</th>\n",
       "      <th>性别</th>\n",
       "      <th>测量值</th>\n",
       "      <th>性别</th>\n",
       "      <th>测量值</th>\n",
       "    </tr>\n",
       "    <tr>\n",
       "      <th>个体ID</th>\n",
       "      <th></th>\n",
       "      <th></th>\n",
       "      <th></th>\n",
       "      <th></th>\n",
       "      <th></th>\n",
       "      <th></th>\n",
       "      <th></th>\n",
       "      <th></th>\n",
       "    </tr>\n",
       "  </thead>\n",
       "  <tbody>\n",
       "    <tr>\n",
       "      <th>1</th>\n",
       "      <td>F</td>\n",
       "      <td>21</td>\n",
       "      <td>F</td>\n",
       "      <td>20</td>\n",
       "      <td>F</td>\n",
       "      <td>21.5</td>\n",
       "      <td>F</td>\n",
       "      <td>23</td>\n",
       "    </tr>\n",
       "    <tr>\n",
       "      <th>2</th>\n",
       "      <td>F</td>\n",
       "      <td>21</td>\n",
       "      <td>F</td>\n",
       "      <td>21.5</td>\n",
       "      <td>F</td>\n",
       "      <td>24</td>\n",
       "      <td>F</td>\n",
       "      <td>25.5</td>\n",
       "    </tr>\n",
       "    <tr>\n",
       "      <th>3</th>\n",
       "      <td>F</td>\n",
       "      <td>20.5</td>\n",
       "      <td>F</td>\n",
       "      <td>24</td>\n",
       "      <td>F</td>\n",
       "      <td>24.5</td>\n",
       "      <td>F</td>\n",
       "      <td>26</td>\n",
       "    </tr>\n",
       "    <tr>\n",
       "      <th>4</th>\n",
       "      <td>F</td>\n",
       "      <td>23.5</td>\n",
       "      <td>F</td>\n",
       "      <td>24.5</td>\n",
       "      <td>F</td>\n",
       "      <td>25</td>\n",
       "      <td>F</td>\n",
       "      <td>26.5</td>\n",
       "    </tr>\n",
       "    <tr>\n",
       "      <th>5</th>\n",
       "      <td>F</td>\n",
       "      <td>21.5</td>\n",
       "      <td>F</td>\n",
       "      <td>23</td>\n",
       "      <td>F</td>\n",
       "      <td>22.5</td>\n",
       "      <td>F</td>\n",
       "      <td>23.5</td>\n",
       "    </tr>\n",
       "    <tr>\n",
       "      <th>...</th>\n",
       "      <td>...</td>\n",
       "      <td>...</td>\n",
       "      <td>...</td>\n",
       "      <td>...</td>\n",
       "      <td>...</td>\n",
       "      <td>...</td>\n",
       "      <td>...</td>\n",
       "      <td>...</td>\n",
       "    </tr>\n",
       "    <tr>\n",
       "      <th>23</th>\n",
       "      <td>M</td>\n",
       "      <td>21.5</td>\n",
       "      <td>M</td>\n",
       "      <td>23.5</td>\n",
       "      <td>M</td>\n",
       "      <td>24</td>\n",
       "      <td>M</td>\n",
       "      <td>28</td>\n",
       "    </tr>\n",
       "    <tr>\n",
       "      <th>24</th>\n",
       "      <td>M</td>\n",
       "      <td>17</td>\n",
       "      <td>M</td>\n",
       "      <td>24.5</td>\n",
       "      <td>M</td>\n",
       "      <td>26</td>\n",
       "      <td>M</td>\n",
       "      <td>29.5</td>\n",
       "    </tr>\n",
       "    <tr>\n",
       "      <th>25</th>\n",
       "      <td>M</td>\n",
       "      <td>22.5</td>\n",
       "      <td>M</td>\n",
       "      <td>25.5</td>\n",
       "      <td>M</td>\n",
       "      <td>25.5</td>\n",
       "      <td>M</td>\n",
       "      <td>26</td>\n",
       "    </tr>\n",
       "    <tr>\n",
       "      <th>26</th>\n",
       "      <td>M</td>\n",
       "      <td>23</td>\n",
       "      <td>M</td>\n",
       "      <td>24.5</td>\n",
       "      <td>M</td>\n",
       "      <td>26</td>\n",
       "      <td>M</td>\n",
       "      <td>30</td>\n",
       "    </tr>\n",
       "    <tr>\n",
       "      <th>27</th>\n",
       "      <td>M</td>\n",
       "      <td>22</td>\n",
       "      <td>M</td>\n",
       "      <td>21.5</td>\n",
       "      <td>M</td>\n",
       "      <td>23.5</td>\n",
       "      <td>M</td>\n",
       "      <td>25</td>\n",
       "    </tr>\n",
       "  </tbody>\n",
       "</table>\n",
       "<p>27 rows × 8 columns</p>\n",
       "</div>"
      ],
      "text/plain": [
       "年龄   8        10       12       14      \n",
       "     性别   测量值 性别   测量值 性别   测量值 性别   测量值\n",
       "个体ID                                    \n",
       "1     F    21  F    20  F  21.5  F    23\n",
       "2     F    21  F  21.5  F    24  F  25.5\n",
       "3     F  20.5  F    24  F  24.5  F    26\n",
       "4     F  23.5  F  24.5  F    25  F  26.5\n",
       "5     F  21.5  F    23  F  22.5  F  23.5\n",
       "...  ..   ... ..   ... ..   ... ..   ...\n",
       "23    M  21.5  M  23.5  M    24  M    28\n",
       "24    M    17  M  24.5  M    26  M  29.5\n",
       "25    M  22.5  M  25.5  M  25.5  M    26\n",
       "26    M    23  M  24.5  M    26  M    30\n",
       "27    M    22  M  21.5  M  23.5  M    25\n",
       "\n",
       "[27 rows x 8 columns]"
      ]
     },
     "execution_count": 10,
     "metadata": {},
     "output_type": "execute_result"
    }
   ],
   "source": [
    "dfs.unstack([1,2])"
   ]
  },
  {
   "cell_type": "markdown",
   "metadata": {},
   "source": [
    "### 其他命令\n",
    "```\n",
    "df.melt()\n",
    "df.pivot()\n",
    "df.pivot_table()"
   ]
  },
  {
   "cell_type": "markdown",
   "metadata": {},
   "source": [
    "## 多个数据源对合并\n",
    "### 数据的纵向合并"
   ]
  },
  {
   "cell_type": "markdown",
   "metadata": {},
   "source": [
    "```\n",
    "df.append(\n",
    "    other:希望添加对DF/Series/字典/上述对象对列表\n",
    "        使用列表方式，就可以实现一次合并多个新对象\n",
    "    ignore_index =False:添加时是否忽略索引\n",
    "    verify_intergrity = False:是否检查索引值的唯一性\n",
    ")\n",
    "```"
   ]
  },
  {
   "cell_type": "code",
   "execution_count": null,
   "metadata": {},
   "outputs": [],
   "source": [
    "file_path = \"..\\\\04 data\\\\PythonData\\\\\"\n",
    "file_name = \"高校信息.xlsx\"\n",
    "df1 = pd.read_excel(file_path+file_name, sheet_name = 'part1')\n",
    "df2 = pd.read_excel(file_path+file_name, sheet_name = 'part2')"
   ]
  },
  {
   "cell_type": "code",
   "execution_count": null,
   "metadata": {},
   "outputs": [],
   "source": [
    "df1 = df1.sort_values('总分')"
   ]
  },
  {
   "cell_type": "code",
   "execution_count": null,
   "metadata": {},
   "outputs": [],
   "source": [
    "df2_new = df2.append(df1)"
   ]
  },
  {
   "cell_type": "code",
   "execution_count": null,
   "metadata": {},
   "outputs": [],
   "source": [
    "df2_new"
   ]
  },
  {
   "cell_type": "markdown",
   "metadata": {},
   "source": [
    "### 数据的横向合并\n",
    "```\n",
    "pd.merge(\n",
    "    需要合并的DF\n",
    "        left:需要合并的左侧DF\n",
    "        right:需要合并的右侧Df\n",
    "    how = 'inner':具体连接类型{'left','right','outer','inner'}\n",
    "    两个DF连接方式\n",
    "        on:用于连接两个DF关键变量，必须在两侧都出现\n",
    "        left_on：左侧DF用于连接的关键变量\n",
    "        right_on:右侧DF用于连接的关键变量\n",
    "        left_index = False:是否将左侧DF的索引用于连接\n",
    "        right_index = False:是否将右侧的索引用于连接\n",
    "    其他附加设定\n",
    "        sort = False:是否在合并前按照关键变量排序\n",
    "        suffixes\n",
    "        copy = True\n",
    "        indicator = False\n",
    "        validate = None\n",
    ")\n",
    "```"
   ]
  },
  {
   "cell_type": "code",
   "execution_count": null,
   "metadata": {},
   "outputs": [],
   "source": [
    "df2a = pd.read_excel(file_path+file_name, sheet_name = 'var6')\n",
    "df2b = pd.read_excel(file_path+file_name, sheet_name = 'var3')\n",
    "print(df2a)\n",
    "print(df2b)"
   ]
  },
  {
   "cell_type": "code",
   "execution_count": null,
   "metadata": {},
   "outputs": [],
   "source": [
    "pd.merge(df2a,df2b)"
   ]
  },
  {
   "cell_type": "code",
   "execution_count": null,
   "metadata": {},
   "outputs": [],
   "source": [
    "pd.merge(df2a,df2b[:20])"
   ]
  },
  {
   "cell_type": "markdown",
   "metadata": {},
   "source": [
    "### Concat命令简介\n",
    "```\n",
    "同时支持横向合并和纵向合并\n",
    "pd.concat(\n",
    "    objs:需要合并的对象，列表形式提供\n",
    "    axis = 0:对行还是对列进行合并 0-index,1 -columns\n",
    "    jion = 'outer':对另外周的处理\n",
    "    ignore_index = False\n",
    "    keys = None:\n",
    "    varify_integrity = False\n",
    "    copy = True  \n",
    ")\n",
    "```"
   ]
  },
  {
   "cell_type": "code",
   "execution_count": null,
   "metadata": {},
   "outputs": [],
   "source": [
    "# 纵向合并\n",
    "df21 = pd.read_excel(file_path+file_name, sheet_name = 'part1')\n",
    "df22 = pd.read_excel(file_path+file_name, sheet_name = 'part2')\n",
    "pd.concat([df21,df22])"
   ]
  },
  {
   "cell_type": "code",
   "execution_count": null,
   "metadata": {},
   "outputs": [],
   "source": [
    "# 横向合并\n",
    "df2ai = pd.read_excel(file_path+file_name, sheet_name = 'var6')\n",
    "df2bi = pd.read_excel(file_path+file_name, sheet_name = 'var3')\n",
    "pd.concat([df2ai,df2bi],axis=1)"
   ]
  },
  {
   "cell_type": "code",
   "execution_count": null,
   "metadata": {},
   "outputs": [],
   "source": [
    "df2ai = df2a.set_index('学校名称')\n",
    "df2bi = df2b.set_index('学校名称')\n",
    "pd.concat([df2ai,df2bi],axis=1)"
   ]
  },
  {
   "cell_type": "markdown",
   "metadata": {},
   "source": [
    "## 实战：对PM2.5数据做基本整理\n",
    "```\n",
    "要求：\n",
    "    对PM2.5数据按照年进行拆分，然后计算\n",
    "        每年PM2.5的平均值、中位数、最大值、最小值\n",
    "        每年PM2.5值大于200，300，500的天数\n",
    "    将PM2.5数据整理为以年为行，月为列，单元格为最大值的宽表形式\n",
    "    姜2009年和2012年的数据分别提取出来合并为一个数据框\n",
    "    分别使用长宽格式转换，筛选然后横向合并两种方式，将数据转换为每年一列的宽表格式\n",
    "```"
   ]
  },
  {
   "cell_type": "markdown",
   "metadata": {},
   "source": [
    "# 数据清洗"
   ]
  },
  {
   "cell_type": "markdown",
   "metadata": {},
   "source": [
    "## 读入PM2.5实战案例"
   ]
  },
  {
   "cell_type": "code",
   "execution_count": 16,
   "metadata": {},
   "outputs": [],
   "source": [
    "def m_readdata(file_name,start_line = 0):\n",
    "    return pd.read_csv(file_name, header= start_line,usecols=[0,2,3,4,5,6,7,9,10],engine='python')"
   ]
  },
  {
   "cell_type": "code",
   "execution_count": 17,
   "metadata": {},
   "outputs": [],
   "source": [
    "file_path_input =  \"..\\\\04 data\\\\PythonData\\\\PM25\\\\\"\n",
    "file_names = os.listdir(file_path_input)#注意数据格式"
   ]
  },
  {
   "cell_type": "code",
   "execution_count": 18,
   "metadata": {},
   "outputs": [
    {
     "name": "stdout",
     "output_type": "stream",
     "text": [
      "Beijing_2008_HourlyPM2.5_created20140325.csv\n",
      "Beijing_2009_HourlyPM25_created20140709.csv\n",
      "Beijing_2010_HourlyPM25_created20140709.csv\n",
      "Beijing_2011_HourlyPM25_created20140709.csv\n",
      "Beijing_2012_HourlyPM2.5_created20140325.csv\n",
      "Beijing_2013_HourlyPM2.5_created20140325.csv\n",
      "Beijing_2014_HourlyPM25_created20150203.csv\n",
      "Beijing_2015_HourlyPM25_created20160201.csv\n",
      "Beijing_2016_HourlyPM25_created20170201.csv\n"
     ]
    },
    {
     "data": {
      "text/html": [
       "<div>\n",
       "<style scoped>\n",
       "    .dataframe tbody tr th:only-of-type {\n",
       "        vertical-align: middle;\n",
       "    }\n",
       "\n",
       "    .dataframe tbody tr th {\n",
       "        vertical-align: top;\n",
       "    }\n",
       "\n",
       "    .dataframe thead th {\n",
       "        text-align: right;\n",
       "    }\n",
       "</style>\n",
       "<table border=\"1\" class=\"dataframe\">\n",
       "  <thead>\n",
       "    <tr style=\"text-align: right;\">\n",
       "      <th></th>\n",
       "      <th>Site</th>\n",
       "      <th>Date (LST)</th>\n",
       "      <th>Year</th>\n",
       "      <th>Month</th>\n",
       "      <th>Day</th>\n",
       "      <th>Hour</th>\n",
       "      <th>Value</th>\n",
       "      <th>Duration</th>\n",
       "      <th>QC Name</th>\n",
       "    </tr>\n",
       "  </thead>\n",
       "  <tbody>\n",
       "    <tr>\n",
       "      <th>0</th>\n",
       "      <td>Beijing</td>\n",
       "      <td>2008-04-08 15:00</td>\n",
       "      <td>2008</td>\n",
       "      <td>4</td>\n",
       "      <td>8</td>\n",
       "      <td>15</td>\n",
       "      <td>207</td>\n",
       "      <td>1 Hr</td>\n",
       "      <td>Valid</td>\n",
       "    </tr>\n",
       "    <tr>\n",
       "      <th>1</th>\n",
       "      <td>Beijing</td>\n",
       "      <td>2008-04-08 16:00</td>\n",
       "      <td>2008</td>\n",
       "      <td>4</td>\n",
       "      <td>8</td>\n",
       "      <td>16</td>\n",
       "      <td>180</td>\n",
       "      <td>1 Hr</td>\n",
       "      <td>Valid</td>\n",
       "    </tr>\n",
       "    <tr>\n",
       "      <th>2</th>\n",
       "      <td>Beijing</td>\n",
       "      <td>2008-04-08 17:00</td>\n",
       "      <td>2008</td>\n",
       "      <td>4</td>\n",
       "      <td>8</td>\n",
       "      <td>17</td>\n",
       "      <td>152</td>\n",
       "      <td>1 Hr</td>\n",
       "      <td>Valid</td>\n",
       "    </tr>\n",
       "    <tr>\n",
       "      <th>3</th>\n",
       "      <td>Beijing</td>\n",
       "      <td>2008-04-08 18:00</td>\n",
       "      <td>2008</td>\n",
       "      <td>4</td>\n",
       "      <td>8</td>\n",
       "      <td>18</td>\n",
       "      <td>162</td>\n",
       "      <td>1 Hr</td>\n",
       "      <td>Valid</td>\n",
       "    </tr>\n",
       "    <tr>\n",
       "      <th>4</th>\n",
       "      <td>Beijing</td>\n",
       "      <td>2008-04-08 19:00</td>\n",
       "      <td>2008</td>\n",
       "      <td>4</td>\n",
       "      <td>8</td>\n",
       "      <td>19</td>\n",
       "      <td>171</td>\n",
       "      <td>1 Hr</td>\n",
       "      <td>Valid</td>\n",
       "    </tr>\n",
       "    <tr>\n",
       "      <th>...</th>\n",
       "      <td>...</td>\n",
       "      <td>...</td>\n",
       "      <td>...</td>\n",
       "      <td>...</td>\n",
       "      <td>...</td>\n",
       "      <td>...</td>\n",
       "      <td>...</td>\n",
       "      <td>...</td>\n",
       "      <td>...</td>\n",
       "    </tr>\n",
       "    <tr>\n",
       "      <th>75210</th>\n",
       "      <td>Beijing</td>\n",
       "      <td>12/31/2016 19:00</td>\n",
       "      <td>2016</td>\n",
       "      <td>12</td>\n",
       "      <td>31</td>\n",
       "      <td>19</td>\n",
       "      <td>409</td>\n",
       "      <td>Valid</td>\n",
       "      <td>NaN</td>\n",
       "    </tr>\n",
       "    <tr>\n",
       "      <th>75211</th>\n",
       "      <td>Beijing</td>\n",
       "      <td>12/31/2016 20:00</td>\n",
       "      <td>2016</td>\n",
       "      <td>12</td>\n",
       "      <td>31</td>\n",
       "      <td>20</td>\n",
       "      <td>432</td>\n",
       "      <td>Valid</td>\n",
       "      <td>NaN</td>\n",
       "    </tr>\n",
       "    <tr>\n",
       "      <th>75212</th>\n",
       "      <td>Beijing</td>\n",
       "      <td>12/31/2016 21:00</td>\n",
       "      <td>2016</td>\n",
       "      <td>12</td>\n",
       "      <td>31</td>\n",
       "      <td>21</td>\n",
       "      <td>482</td>\n",
       "      <td>Valid</td>\n",
       "      <td>NaN</td>\n",
       "    </tr>\n",
       "    <tr>\n",
       "      <th>75213</th>\n",
       "      <td>Beijing</td>\n",
       "      <td>12/31/2016 22:00</td>\n",
       "      <td>2016</td>\n",
       "      <td>12</td>\n",
       "      <td>31</td>\n",
       "      <td>22</td>\n",
       "      <td>488</td>\n",
       "      <td>Valid</td>\n",
       "      <td>NaN</td>\n",
       "    </tr>\n",
       "    <tr>\n",
       "      <th>75214</th>\n",
       "      <td>Beijing</td>\n",
       "      <td>12/31/2016 23:00</td>\n",
       "      <td>2016</td>\n",
       "      <td>12</td>\n",
       "      <td>31</td>\n",
       "      <td>23</td>\n",
       "      <td>507</td>\n",
       "      <td>Valid</td>\n",
       "      <td>NaN</td>\n",
       "    </tr>\n",
       "  </tbody>\n",
       "</table>\n",
       "<p>75215 rows × 9 columns</p>\n",
       "</div>"
      ],
      "text/plain": [
       "          Site        Date (LST)  Year  Month  Day  Hour  Value Duration  \\\n",
       "0      Beijing  2008-04-08 15:00  2008      4    8    15    207     1 Hr   \n",
       "1      Beijing  2008-04-08 16:00  2008      4    8    16    180     1 Hr   \n",
       "2      Beijing  2008-04-08 17:00  2008      4    8    17    152     1 Hr   \n",
       "3      Beijing  2008-04-08 18:00  2008      4    8    18    162     1 Hr   \n",
       "4      Beijing  2008-04-08 19:00  2008      4    8    19    171     1 Hr   \n",
       "...        ...               ...   ...    ...  ...   ...    ...      ...   \n",
       "75210  Beijing  12/31/2016 19:00  2016     12   31    19    409    Valid   \n",
       "75211  Beijing  12/31/2016 20:00  2016     12   31    20    432    Valid   \n",
       "75212  Beijing  12/31/2016 21:00  2016     12   31    21    482    Valid   \n",
       "75213  Beijing  12/31/2016 22:00  2016     12   31    22    488    Valid   \n",
       "75214  Beijing  12/31/2016 23:00  2016     12   31    23    507    Valid   \n",
       "\n",
       "      QC Name  \n",
       "0       Valid  \n",
       "1       Valid  \n",
       "2       Valid  \n",
       "3       Valid  \n",
       "4       Valid  \n",
       "...       ...  \n",
       "75210     NaN  \n",
       "75211     NaN  \n",
       "75212     NaN  \n",
       "75213     NaN  \n",
       "75214     NaN  \n",
       "\n",
       "[75215 rows x 9 columns]"
      ]
     },
     "execution_count": 18,
     "metadata": {},
     "output_type": "execute_result"
    }
   ],
   "source": [
    "bj = []\n",
    "for file_name in file_names:\n",
    "    print(file_name)\n",
    "    bj.append(m_readdata(file_path_input+file_name))\n",
    "df = pd.concat(bj).reset_index(drop=True)\n",
    "df"
   ]
  },
  {
   "cell_type": "markdown",
   "metadata": {},
   "source": [
    "## 处理缺失值\n",
    "### 系统默认的缺失值设定\n",
    "系统默认的缺失值\n",
    "None和np.nan\n",
    "\n",
    "确定相应数值是否为缺失值\n",
    "df.isna() #反函数为notna"
   ]
  },
  {
   "cell_type": "code",
   "execution_count": 50,
   "metadata": {},
   "outputs": [
    {
     "data": {
      "text/plain": [
       "True"
      ]
     },
     "execution_count": 50,
     "metadata": {},
     "output_type": "execute_result"
    }
   ],
   "source": [
    "None == None"
   ]
  },
  {
   "cell_type": "code",
   "execution_count": 51,
   "metadata": {},
   "outputs": [
    {
     "data": {
      "text/plain": [
       "False"
      ]
     },
     "execution_count": 51,
     "metadata": {},
     "output_type": "execute_result"
    }
   ],
   "source": [
    "np.nan == np.nan"
   ]
  },
  {
   "cell_type": "markdown",
   "metadata": {},
   "source": [
    "设定inf和-inf是否被认定为缺失值\n",
    "\n",
    "pd.options.mode.use_inf_as_na"
   ]
  },
  {
   "cell_type": "code",
   "execution_count": 54,
   "metadata": {},
   "outputs": [
    {
     "data": {
      "text/plain": [
       "False"
      ]
     },
     "execution_count": 54,
     "metadata": {},
     "output_type": "execute_result"
    }
   ],
   "source": [
    "pd.options.mode.use_inf_as_na"
   ]
  },
  {
   "cell_type": "markdown",
   "metadata": {},
   "source": [
    "### 处理自定义缺失值\n",
    "目前Pandas不支持设定自定义缺失值，因此只能考虑将其替换为系统缺失值\n",
    "\n",
    "df.replace('自定义缺失值',np.nan)\n",
    "\n",
    "df.replace(['自定义缺失值1','自定义缺失值2'],[np.nan,np.nan])"
   ]
  },
  {
   "cell_type": "markdown",
   "metadata": {},
   "source": [
    "### 标识缺失值\n",
    "检查多个单元格对取之是否为指定数值\n",
    "```\n",
    "df.any(\n",
    "axis:{index(0),columns(1)}\n",
    "skipna=True:检查时是否忽略缺失值\n",
    "level=None:多重索引时指定具体对级别\n",
    ")\n",
    "df.all(\n",
    "axis:{index(0),columns(1)}\n",
    "skipna=True:检查时是否忽略缺失值\n",
    "level=None:多重索引时指定具体对级别\n",
    ")\n",
    "```"
   ]
  },
  {
   "cell_type": "code",
   "execution_count": 60,
   "metadata": {},
   "outputs": [
    {
     "data": {
      "text/html": [
       "<div>\n",
       "<style scoped>\n",
       "    .dataframe tbody tr th:only-of-type {\n",
       "        vertical-align: middle;\n",
       "    }\n",
       "\n",
       "    .dataframe tbody tr th {\n",
       "        vertical-align: top;\n",
       "    }\n",
       "\n",
       "    .dataframe thead th {\n",
       "        text-align: right;\n",
       "    }\n",
       "</style>\n",
       "<table border=\"1\" class=\"dataframe\">\n",
       "  <thead>\n",
       "    <tr style=\"text-align: right;\">\n",
       "      <th></th>\n",
       "      <th>Site</th>\n",
       "      <th>Date (LST)</th>\n",
       "      <th>Year</th>\n",
       "      <th>Month</th>\n",
       "      <th>Day</th>\n",
       "      <th>Hour</th>\n",
       "      <th>Value</th>\n",
       "      <th>Duration</th>\n",
       "      <th>QC Name</th>\n",
       "    </tr>\n",
       "  </thead>\n",
       "  <tbody>\n",
       "    <tr>\n",
       "      <th>5087</th>\n",
       "      <td>Beijing</td>\n",
       "      <td>2009-01-01 00:00</td>\n",
       "      <td>2009</td>\n",
       "      <td>1</td>\n",
       "      <td>1</td>\n",
       "      <td>0</td>\n",
       "      <td>-999</td>\n",
       "      <td>Missing</td>\n",
       "      <td>NaN</td>\n",
       "    </tr>\n",
       "    <tr>\n",
       "      <th>5088</th>\n",
       "      <td>Beijing</td>\n",
       "      <td>2009-01-01 01:00</td>\n",
       "      <td>2009</td>\n",
       "      <td>1</td>\n",
       "      <td>1</td>\n",
       "      <td>1</td>\n",
       "      <td>-999</td>\n",
       "      <td>Missing</td>\n",
       "      <td>NaN</td>\n",
       "    </tr>\n",
       "    <tr>\n",
       "      <th>5089</th>\n",
       "      <td>Beijing</td>\n",
       "      <td>2009-01-01 02:00</td>\n",
       "      <td>2009</td>\n",
       "      <td>1</td>\n",
       "      <td>1</td>\n",
       "      <td>2</td>\n",
       "      <td>-999</td>\n",
       "      <td>Missing</td>\n",
       "      <td>NaN</td>\n",
       "    </tr>\n",
       "    <tr>\n",
       "      <th>5090</th>\n",
       "      <td>Beijing</td>\n",
       "      <td>2009-01-01 03:00</td>\n",
       "      <td>2009</td>\n",
       "      <td>1</td>\n",
       "      <td>1</td>\n",
       "      <td>3</td>\n",
       "      <td>-999</td>\n",
       "      <td>Missing</td>\n",
       "      <td>NaN</td>\n",
       "    </tr>\n",
       "    <tr>\n",
       "      <th>5091</th>\n",
       "      <td>Beijing</td>\n",
       "      <td>2009-01-01 04:00</td>\n",
       "      <td>2009</td>\n",
       "      <td>1</td>\n",
       "      <td>1</td>\n",
       "      <td>4</td>\n",
       "      <td>-999</td>\n",
       "      <td>Missing</td>\n",
       "      <td>NaN</td>\n",
       "    </tr>\n",
       "    <tr>\n",
       "      <th>...</th>\n",
       "      <td>...</td>\n",
       "      <td>...</td>\n",
       "      <td>...</td>\n",
       "      <td>...</td>\n",
       "      <td>...</td>\n",
       "      <td>...</td>\n",
       "      <td>...</td>\n",
       "      <td>...</td>\n",
       "      <td>...</td>\n",
       "    </tr>\n",
       "    <tr>\n",
       "      <th>75210</th>\n",
       "      <td>Beijing</td>\n",
       "      <td>12/31/2016 19:00</td>\n",
       "      <td>2016</td>\n",
       "      <td>12</td>\n",
       "      <td>31</td>\n",
       "      <td>19</td>\n",
       "      <td>409</td>\n",
       "      <td>Valid</td>\n",
       "      <td>NaN</td>\n",
       "    </tr>\n",
       "    <tr>\n",
       "      <th>75211</th>\n",
       "      <td>Beijing</td>\n",
       "      <td>12/31/2016 20:00</td>\n",
       "      <td>2016</td>\n",
       "      <td>12</td>\n",
       "      <td>31</td>\n",
       "      <td>20</td>\n",
       "      <td>432</td>\n",
       "      <td>Valid</td>\n",
       "      <td>NaN</td>\n",
       "    </tr>\n",
       "    <tr>\n",
       "      <th>75212</th>\n",
       "      <td>Beijing</td>\n",
       "      <td>12/31/2016 21:00</td>\n",
       "      <td>2016</td>\n",
       "      <td>12</td>\n",
       "      <td>31</td>\n",
       "      <td>21</td>\n",
       "      <td>482</td>\n",
       "      <td>Valid</td>\n",
       "      <td>NaN</td>\n",
       "    </tr>\n",
       "    <tr>\n",
       "      <th>75213</th>\n",
       "      <td>Beijing</td>\n",
       "      <td>12/31/2016 22:00</td>\n",
       "      <td>2016</td>\n",
       "      <td>12</td>\n",
       "      <td>31</td>\n",
       "      <td>22</td>\n",
       "      <td>488</td>\n",
       "      <td>Valid</td>\n",
       "      <td>NaN</td>\n",
       "    </tr>\n",
       "    <tr>\n",
       "      <th>75214</th>\n",
       "      <td>Beijing</td>\n",
       "      <td>12/31/2016 23:00</td>\n",
       "      <td>2016</td>\n",
       "      <td>12</td>\n",
       "      <td>31</td>\n",
       "      <td>23</td>\n",
       "      <td>507</td>\n",
       "      <td>Valid</td>\n",
       "      <td>NaN</td>\n",
       "    </tr>\n",
       "  </tbody>\n",
       "</table>\n",
       "<p>17544 rows × 9 columns</p>\n",
       "</div>"
      ],
      "text/plain": [
       "          Site        Date (LST)  Year  Month  Day  Hour  Value Duration  \\\n",
       "5087   Beijing  2009-01-01 00:00  2009      1    1     0   -999  Missing   \n",
       "5088   Beijing  2009-01-01 01:00  2009      1    1     1   -999  Missing   \n",
       "5089   Beijing  2009-01-01 02:00  2009      1    1     2   -999  Missing   \n",
       "5090   Beijing  2009-01-01 03:00  2009      1    1     3   -999  Missing   \n",
       "5091   Beijing  2009-01-01 04:00  2009      1    1     4   -999  Missing   \n",
       "...        ...               ...   ...    ...  ...   ...    ...      ...   \n",
       "75210  Beijing  12/31/2016 19:00  2016     12   31    19    409    Valid   \n",
       "75211  Beijing  12/31/2016 20:00  2016     12   31    20    432    Valid   \n",
       "75212  Beijing  12/31/2016 21:00  2016     12   31    21    482    Valid   \n",
       "75213  Beijing  12/31/2016 22:00  2016     12   31    22    488    Valid   \n",
       "75214  Beijing  12/31/2016 23:00  2016     12   31    23    507    Valid   \n",
       "\n",
       "      QC Name  \n",
       "5087      NaN  \n",
       "5088      NaN  \n",
       "5089      NaN  \n",
       "5090      NaN  \n",
       "5091      NaN  \n",
       "...       ...  \n",
       "75210     NaN  \n",
       "75211     NaN  \n",
       "75212     NaN  \n",
       "75213     NaN  \n",
       "75214     NaN  \n",
       "\n",
       "[17544 rows x 9 columns]"
      ]
     },
     "execution_count": 60,
     "metadata": {},
     "output_type": "execute_result"
    }
   ],
   "source": [
    "df[df.isna().any(1)]###显示缺失值所在行数据"
   ]
  },
  {
   "cell_type": "markdown",
   "metadata": {},
   "source": [
    "### 填充缺失值\n",
    "```\n",
    "df.fillna(\n",
    "    value:用于填充缺失值对数值\n",
    "    method=None:有索引时具体填充方法，向前填充，向后填充等\n",
    "    limit=None:指定method后设定具体对最大填充步长，大于此步长不能填充\n",
    "    axis:{o or index, 1 or 'columns}\n",
    "    inplace = False\n",
    ")\n",
    "```"
   ]
  },
  {
   "cell_type": "code",
   "execution_count": 63,
   "metadata": {},
   "outputs": [
    {
     "data": {
      "text/html": [
       "<div>\n",
       "<style scoped>\n",
       "    .dataframe tbody tr th:only-of-type {\n",
       "        vertical-align: middle;\n",
       "    }\n",
       "\n",
       "    .dataframe tbody tr th {\n",
       "        vertical-align: top;\n",
       "    }\n",
       "\n",
       "    .dataframe thead th {\n",
       "        text-align: right;\n",
       "    }\n",
       "</style>\n",
       "<table border=\"1\" class=\"dataframe\">\n",
       "  <thead>\n",
       "    <tr style=\"text-align: right;\">\n",
       "      <th></th>\n",
       "      <th>Site</th>\n",
       "      <th>Date (LST)</th>\n",
       "      <th>Year</th>\n",
       "      <th>Month</th>\n",
       "      <th>Day</th>\n",
       "      <th>Hour</th>\n",
       "      <th>Value</th>\n",
       "      <th>Duration</th>\n",
       "      <th>QC Name</th>\n",
       "    </tr>\n",
       "  </thead>\n",
       "  <tbody>\n",
       "    <tr>\n",
       "      <th>5087</th>\n",
       "      <td>Beijing</td>\n",
       "      <td>2009-01-01 00:00</td>\n",
       "      <td>2009</td>\n",
       "      <td>1</td>\n",
       "      <td>1</td>\n",
       "      <td>0</td>\n",
       "      <td>-999</td>\n",
       "      <td>Missing</td>\n",
       "      <td>NaN</td>\n",
       "    </tr>\n",
       "    <tr>\n",
       "      <th>5088</th>\n",
       "      <td>Beijing</td>\n",
       "      <td>2009-01-01 01:00</td>\n",
       "      <td>2009</td>\n",
       "      <td>1</td>\n",
       "      <td>1</td>\n",
       "      <td>1</td>\n",
       "      <td>-999</td>\n",
       "      <td>Missing</td>\n",
       "      <td>NaN</td>\n",
       "    </tr>\n",
       "    <tr>\n",
       "      <th>5089</th>\n",
       "      <td>Beijing</td>\n",
       "      <td>2009-01-01 02:00</td>\n",
       "      <td>2009</td>\n",
       "      <td>1</td>\n",
       "      <td>1</td>\n",
       "      <td>2</td>\n",
       "      <td>-999</td>\n",
       "      <td>Missing</td>\n",
       "      <td>NaN</td>\n",
       "    </tr>\n",
       "    <tr>\n",
       "      <th>5090</th>\n",
       "      <td>Beijing</td>\n",
       "      <td>2009-01-01 03:00</td>\n",
       "      <td>2009</td>\n",
       "      <td>1</td>\n",
       "      <td>1</td>\n",
       "      <td>3</td>\n",
       "      <td>-999</td>\n",
       "      <td>Missing</td>\n",
       "      <td>NaN</td>\n",
       "    </tr>\n",
       "    <tr>\n",
       "      <th>5091</th>\n",
       "      <td>Beijing</td>\n",
       "      <td>2009-01-01 04:00</td>\n",
       "      <td>2009</td>\n",
       "      <td>1</td>\n",
       "      <td>1</td>\n",
       "      <td>4</td>\n",
       "      <td>-999</td>\n",
       "      <td>Missing</td>\n",
       "      <td>NaN</td>\n",
       "    </tr>\n",
       "    <tr>\n",
       "      <th>...</th>\n",
       "      <td>...</td>\n",
       "      <td>...</td>\n",
       "      <td>...</td>\n",
       "      <td>...</td>\n",
       "      <td>...</td>\n",
       "      <td>...</td>\n",
       "      <td>...</td>\n",
       "      <td>...</td>\n",
       "      <td>...</td>\n",
       "    </tr>\n",
       "    <tr>\n",
       "      <th>75210</th>\n",
       "      <td>Beijing</td>\n",
       "      <td>12/31/2016 19:00</td>\n",
       "      <td>2016</td>\n",
       "      <td>12</td>\n",
       "      <td>31</td>\n",
       "      <td>19</td>\n",
       "      <td>409</td>\n",
       "      <td>Valid</td>\n",
       "      <td>NaN</td>\n",
       "    </tr>\n",
       "    <tr>\n",
       "      <th>75211</th>\n",
       "      <td>Beijing</td>\n",
       "      <td>12/31/2016 20:00</td>\n",
       "      <td>2016</td>\n",
       "      <td>12</td>\n",
       "      <td>31</td>\n",
       "      <td>20</td>\n",
       "      <td>432</td>\n",
       "      <td>Valid</td>\n",
       "      <td>NaN</td>\n",
       "    </tr>\n",
       "    <tr>\n",
       "      <th>75212</th>\n",
       "      <td>Beijing</td>\n",
       "      <td>12/31/2016 21:00</td>\n",
       "      <td>2016</td>\n",
       "      <td>12</td>\n",
       "      <td>31</td>\n",
       "      <td>21</td>\n",
       "      <td>482</td>\n",
       "      <td>Valid</td>\n",
       "      <td>NaN</td>\n",
       "    </tr>\n",
       "    <tr>\n",
       "      <th>75213</th>\n",
       "      <td>Beijing</td>\n",
       "      <td>12/31/2016 22:00</td>\n",
       "      <td>2016</td>\n",
       "      <td>12</td>\n",
       "      <td>31</td>\n",
       "      <td>22</td>\n",
       "      <td>488</td>\n",
       "      <td>Valid</td>\n",
       "      <td>NaN</td>\n",
       "    </tr>\n",
       "    <tr>\n",
       "      <th>75214</th>\n",
       "      <td>Beijing</td>\n",
       "      <td>12/31/2016 23:00</td>\n",
       "      <td>2016</td>\n",
       "      <td>12</td>\n",
       "      <td>31</td>\n",
       "      <td>23</td>\n",
       "      <td>507</td>\n",
       "      <td>Valid</td>\n",
       "      <td>NaN</td>\n",
       "    </tr>\n",
       "  </tbody>\n",
       "</table>\n",
       "<p>17544 rows × 9 columns</p>\n",
       "</div>"
      ],
      "text/plain": [
       "          Site        Date (LST)  Year  Month  Day  Hour  Value Duration  \\\n",
       "5087   Beijing  2009-01-01 00:00  2009      1    1     0   -999  Missing   \n",
       "5088   Beijing  2009-01-01 01:00  2009      1    1     1   -999  Missing   \n",
       "5089   Beijing  2009-01-01 02:00  2009      1    1     2   -999  Missing   \n",
       "5090   Beijing  2009-01-01 03:00  2009      1    1     3   -999  Missing   \n",
       "5091   Beijing  2009-01-01 04:00  2009      1    1     4   -999  Missing   \n",
       "...        ...               ...   ...    ...  ...   ...    ...      ...   \n",
       "75210  Beijing  12/31/2016 19:00  2016     12   31    19    409    Valid   \n",
       "75211  Beijing  12/31/2016 20:00  2016     12   31    20    432    Valid   \n",
       "75212  Beijing  12/31/2016 21:00  2016     12   31    21    482    Valid   \n",
       "75213  Beijing  12/31/2016 22:00  2016     12   31    22    488    Valid   \n",
       "75214  Beijing  12/31/2016 23:00  2016     12   31    23    507    Valid   \n",
       "\n",
       "      QC Name  \n",
       "5087      NaN  \n",
       "5088      NaN  \n",
       "5089      NaN  \n",
       "5090      NaN  \n",
       "5091      NaN  \n",
       "...       ...  \n",
       "75210     NaN  \n",
       "75211     NaN  \n",
       "75212     NaN  \n",
       "75213     NaN  \n",
       "75214     NaN  \n",
       "\n",
       "[17544 rows x 9 columns]"
      ]
     },
     "execution_count": 63,
     "metadata": {},
     "output_type": "execute_result"
    }
   ],
   "source": [
    "df_na = df[df.isna().any(1)]###显示缺失值所在行数据\n",
    "df_na"
   ]
  },
  {
   "cell_type": "code",
   "execution_count": 68,
   "metadata": {},
   "outputs": [
    {
     "data": {
      "text/html": [
       "<div>\n",
       "<style scoped>\n",
       "    .dataframe tbody tr th:only-of-type {\n",
       "        vertical-align: middle;\n",
       "    }\n",
       "\n",
       "    .dataframe tbody tr th {\n",
       "        vertical-align: top;\n",
       "    }\n",
       "\n",
       "    .dataframe thead th {\n",
       "        text-align: right;\n",
       "    }\n",
       "</style>\n",
       "<table border=\"1\" class=\"dataframe\">\n",
       "  <thead>\n",
       "    <tr style=\"text-align: right;\">\n",
       "      <th></th>\n",
       "      <th>Site</th>\n",
       "      <th>Date (LST)</th>\n",
       "      <th>Year</th>\n",
       "      <th>Month</th>\n",
       "      <th>Day</th>\n",
       "      <th>Hour</th>\n",
       "      <th>Value</th>\n",
       "      <th>Duration</th>\n",
       "      <th>QC Name</th>\n",
       "    </tr>\n",
       "  </thead>\n",
       "  <tbody>\n",
       "    <tr>\n",
       "      <th>5087</th>\n",
       "      <td>Beijing</td>\n",
       "      <td>2009-01-01 00:00</td>\n",
       "      <td>2009</td>\n",
       "      <td>1</td>\n",
       "      <td>1</td>\n",
       "      <td>0</td>\n",
       "      <td>-999</td>\n",
       "      <td>Missing</td>\n",
       "      <td>99</td>\n",
       "    </tr>\n",
       "    <tr>\n",
       "      <th>5088</th>\n",
       "      <td>Beijing</td>\n",
       "      <td>2009-01-01 01:00</td>\n",
       "      <td>2009</td>\n",
       "      <td>1</td>\n",
       "      <td>1</td>\n",
       "      <td>1</td>\n",
       "      <td>-999</td>\n",
       "      <td>Missing</td>\n",
       "      <td>99</td>\n",
       "    </tr>\n",
       "    <tr>\n",
       "      <th>5089</th>\n",
       "      <td>Beijing</td>\n",
       "      <td>2009-01-01 02:00</td>\n",
       "      <td>2009</td>\n",
       "      <td>1</td>\n",
       "      <td>1</td>\n",
       "      <td>2</td>\n",
       "      <td>-999</td>\n",
       "      <td>Missing</td>\n",
       "      <td>99</td>\n",
       "    </tr>\n",
       "    <tr>\n",
       "      <th>5090</th>\n",
       "      <td>Beijing</td>\n",
       "      <td>2009-01-01 03:00</td>\n",
       "      <td>2009</td>\n",
       "      <td>1</td>\n",
       "      <td>1</td>\n",
       "      <td>3</td>\n",
       "      <td>-999</td>\n",
       "      <td>Missing</td>\n",
       "      <td>99</td>\n",
       "    </tr>\n",
       "    <tr>\n",
       "      <th>5091</th>\n",
       "      <td>Beijing</td>\n",
       "      <td>2009-01-01 04:00</td>\n",
       "      <td>2009</td>\n",
       "      <td>1</td>\n",
       "      <td>1</td>\n",
       "      <td>4</td>\n",
       "      <td>-999</td>\n",
       "      <td>Missing</td>\n",
       "      <td>99</td>\n",
       "    </tr>\n",
       "    <tr>\n",
       "      <th>...</th>\n",
       "      <td>...</td>\n",
       "      <td>...</td>\n",
       "      <td>...</td>\n",
       "      <td>...</td>\n",
       "      <td>...</td>\n",
       "      <td>...</td>\n",
       "      <td>...</td>\n",
       "      <td>...</td>\n",
       "      <td>...</td>\n",
       "    </tr>\n",
       "    <tr>\n",
       "      <th>75210</th>\n",
       "      <td>Beijing</td>\n",
       "      <td>12/31/2016 19:00</td>\n",
       "      <td>2016</td>\n",
       "      <td>12</td>\n",
       "      <td>31</td>\n",
       "      <td>19</td>\n",
       "      <td>409</td>\n",
       "      <td>Valid</td>\n",
       "      <td>99</td>\n",
       "    </tr>\n",
       "    <tr>\n",
       "      <th>75211</th>\n",
       "      <td>Beijing</td>\n",
       "      <td>12/31/2016 20:00</td>\n",
       "      <td>2016</td>\n",
       "      <td>12</td>\n",
       "      <td>31</td>\n",
       "      <td>20</td>\n",
       "      <td>432</td>\n",
       "      <td>Valid</td>\n",
       "      <td>99</td>\n",
       "    </tr>\n",
       "    <tr>\n",
       "      <th>75212</th>\n",
       "      <td>Beijing</td>\n",
       "      <td>12/31/2016 21:00</td>\n",
       "      <td>2016</td>\n",
       "      <td>12</td>\n",
       "      <td>31</td>\n",
       "      <td>21</td>\n",
       "      <td>482</td>\n",
       "      <td>Valid</td>\n",
       "      <td>99</td>\n",
       "    </tr>\n",
       "    <tr>\n",
       "      <th>75213</th>\n",
       "      <td>Beijing</td>\n",
       "      <td>12/31/2016 22:00</td>\n",
       "      <td>2016</td>\n",
       "      <td>12</td>\n",
       "      <td>31</td>\n",
       "      <td>22</td>\n",
       "      <td>488</td>\n",
       "      <td>Valid</td>\n",
       "      <td>99</td>\n",
       "    </tr>\n",
       "    <tr>\n",
       "      <th>75214</th>\n",
       "      <td>Beijing</td>\n",
       "      <td>12/31/2016 23:00</td>\n",
       "      <td>2016</td>\n",
       "      <td>12</td>\n",
       "      <td>31</td>\n",
       "      <td>23</td>\n",
       "      <td>507</td>\n",
       "      <td>Valid</td>\n",
       "      <td>99</td>\n",
       "    </tr>\n",
       "  </tbody>\n",
       "</table>\n",
       "<p>17544 rows × 9 columns</p>\n",
       "</div>"
      ],
      "text/plain": [
       "          Site        Date (LST)  Year  Month  Day  Hour  Value Duration  \\\n",
       "5087   Beijing  2009-01-01 00:00  2009      1    1     0   -999  Missing   \n",
       "5088   Beijing  2009-01-01 01:00  2009      1    1     1   -999  Missing   \n",
       "5089   Beijing  2009-01-01 02:00  2009      1    1     2   -999  Missing   \n",
       "5090   Beijing  2009-01-01 03:00  2009      1    1     3   -999  Missing   \n",
       "5091   Beijing  2009-01-01 04:00  2009      1    1     4   -999  Missing   \n",
       "...        ...               ...   ...    ...  ...   ...    ...      ...   \n",
       "75210  Beijing  12/31/2016 19:00  2016     12   31    19    409    Valid   \n",
       "75211  Beijing  12/31/2016 20:00  2016     12   31    20    432    Valid   \n",
       "75212  Beijing  12/31/2016 21:00  2016     12   31    21    482    Valid   \n",
       "75213  Beijing  12/31/2016 22:00  2016     12   31    22    488    Valid   \n",
       "75214  Beijing  12/31/2016 23:00  2016     12   31    23    507    Valid   \n",
       "\n",
       "       QC Name  \n",
       "5087        99  \n",
       "5088        99  \n",
       "5089        99  \n",
       "5090        99  \n",
       "5091        99  \n",
       "...        ...  \n",
       "75210       99  \n",
       "75211       99  \n",
       "75212       99  \n",
       "75213       99  \n",
       "75214       99  \n",
       "\n",
       "[17544 rows x 9 columns]"
      ]
     },
     "execution_count": 68,
     "metadata": {},
     "output_type": "execute_result"
    }
   ],
   "source": [
    "df_na_fillna= df_na.fillna(99)\n",
    "df_na_fillna"
   ]
  },
  {
   "cell_type": "markdown",
   "metadata": {},
   "source": [
    "### 删除缺失值\n",
    "```\n",
    "df.dropna(\n",
    "    axis=0:{0 or 'index',1 or 'columns'}\n",
    "    how = any:{any,all}\n",
    "        any：任何一个为Na就删除\n",
    "        allL所有对都是Na才删除\n",
    "    thresh = None:删除对数据阈值，int\n",
    "    subset:希望在处理中包括对行、列子集\n",
    "    inplace = False\n",
    ")\n",
    "```"
   ]
  },
  {
   "cell_type": "code",
   "execution_count": 71,
   "metadata": {},
   "outputs": [
    {
     "data": {
      "text/html": [
       "<div>\n",
       "<style scoped>\n",
       "    .dataframe tbody tr th:only-of-type {\n",
       "        vertical-align: middle;\n",
       "    }\n",
       "\n",
       "    .dataframe tbody tr th {\n",
       "        vertical-align: top;\n",
       "    }\n",
       "\n",
       "    .dataframe thead th {\n",
       "        text-align: right;\n",
       "    }\n",
       "</style>\n",
       "<table border=\"1\" class=\"dataframe\">\n",
       "  <thead>\n",
       "    <tr style=\"text-align: right;\">\n",
       "      <th></th>\n",
       "      <th>A</th>\n",
       "      <th>B</th>\n",
       "      <th>C</th>\n",
       "      <th>D</th>\n",
       "    </tr>\n",
       "  </thead>\n",
       "  <tbody>\n",
       "    <tr>\n",
       "      <th>0</th>\n",
       "      <td>NaN</td>\n",
       "      <td>2.0</td>\n",
       "      <td>NaN</td>\n",
       "      <td>0</td>\n",
       "    </tr>\n",
       "    <tr>\n",
       "      <th>1</th>\n",
       "      <td>3.0</td>\n",
       "      <td>4.0</td>\n",
       "      <td>NaN</td>\n",
       "      <td>1</td>\n",
       "    </tr>\n",
       "    <tr>\n",
       "      <th>2</th>\n",
       "      <td>NaN</td>\n",
       "      <td>NaN</td>\n",
       "      <td>NaN</td>\n",
       "      <td>5</td>\n",
       "    </tr>\n",
       "  </tbody>\n",
       "</table>\n",
       "</div>"
      ],
      "text/plain": [
       "     A    B   C  D\n",
       "0  NaN  2.0 NaN  0\n",
       "1  3.0  4.0 NaN  1\n",
       "2  NaN  NaN NaN  5"
      ]
     },
     "execution_count": 71,
     "metadata": {},
     "output_type": "execute_result"
    }
   ],
   "source": [
    "df_ex = pd.DataFrame([[np.nan,2,np.nan,0],\n",
    "    [3,4,np.nan,1],\n",
    "    [np.nan,np.nan,np.nan,5]],columns=list('ABCD'))\n",
    "df_ex"
   ]
  },
  {
   "cell_type": "code",
   "execution_count": 74,
   "metadata": {},
   "outputs": [
    {
     "data": {
      "text/html": [
       "<div>\n",
       "<style scoped>\n",
       "    .dataframe tbody tr th:only-of-type {\n",
       "        vertical-align: middle;\n",
       "    }\n",
       "\n",
       "    .dataframe tbody tr th {\n",
       "        vertical-align: top;\n",
       "    }\n",
       "\n",
       "    .dataframe thead th {\n",
       "        text-align: right;\n",
       "    }\n",
       "</style>\n",
       "<table border=\"1\" class=\"dataframe\">\n",
       "  <thead>\n",
       "    <tr style=\"text-align: right;\">\n",
       "      <th></th>\n",
       "      <th>A</th>\n",
       "      <th>B</th>\n",
       "      <th>C</th>\n",
       "      <th>D</th>\n",
       "    </tr>\n",
       "  </thead>\n",
       "  <tbody>\n",
       "    <tr>\n",
       "      <th>0</th>\n",
       "      <td>NaN</td>\n",
       "      <td>2.0</td>\n",
       "      <td>NaN</td>\n",
       "      <td>0</td>\n",
       "    </tr>\n",
       "    <tr>\n",
       "      <th>1</th>\n",
       "      <td>3.0</td>\n",
       "      <td>4.0</td>\n",
       "      <td>NaN</td>\n",
       "      <td>1</td>\n",
       "    </tr>\n",
       "    <tr>\n",
       "      <th>2</th>\n",
       "      <td>NaN</td>\n",
       "      <td>NaN</td>\n",
       "      <td>NaN</td>\n",
       "      <td>5</td>\n",
       "    </tr>\n",
       "  </tbody>\n",
       "</table>\n",
       "</div>"
      ],
      "text/plain": [
       "     A    B   C  D\n",
       "0  NaN  2.0 NaN  0\n",
       "1  3.0  4.0 NaN  1\n",
       "2  NaN  NaN NaN  5"
      ]
     },
     "execution_count": 74,
     "metadata": {},
     "output_type": "execute_result"
    }
   ],
   "source": [
    "df_ex.dropna(axis=0,how='all')\n",
    "#df_ex.dropna(axis=1,how='all')\n",
    "#df_ex.dropna(axis=0,how='any')"
   ]
  },
  {
   "cell_type": "markdown",
   "metadata": {},
   "source": [
    "## 数据查查\n",
    "### 标识出重复对行\n",
    "标识重复行意义在于进一步确定重复原因，以便可能对错误加以修改\n",
    "    dupplicated"
   ]
  },
  {
   "cell_type": "code",
   "execution_count": 81,
   "metadata": {},
   "outputs": [
    {
     "data": {
      "text/html": [
       "<div>\n",
       "<style scoped>\n",
       "    .dataframe tbody tr th:only-of-type {\n",
       "        vertical-align: middle;\n",
       "    }\n",
       "\n",
       "    .dataframe tbody tr th {\n",
       "        vertical-align: top;\n",
       "    }\n",
       "\n",
       "    .dataframe thead th {\n",
       "        text-align: right;\n",
       "    }\n",
       "</style>\n",
       "<table border=\"1\" class=\"dataframe\">\n",
       "  <thead>\n",
       "    <tr style=\"text-align: right;\">\n",
       "      <th></th>\n",
       "      <th>Site</th>\n",
       "      <th>Date (LST)</th>\n",
       "      <th>Year</th>\n",
       "      <th>Month</th>\n",
       "      <th>Day</th>\n",
       "      <th>Hour</th>\n",
       "      <th>Value</th>\n",
       "      <th>Duration</th>\n",
       "      <th>QC Name</th>\n",
       "      <th>dip</th>\n",
       "    </tr>\n",
       "  </thead>\n",
       "  <tbody>\n",
       "    <tr>\n",
       "      <th>0</th>\n",
       "      <td>Beijing</td>\n",
       "      <td>2008-04-08 15:00</td>\n",
       "      <td>2008</td>\n",
       "      <td>4</td>\n",
       "      <td>8</td>\n",
       "      <td>15</td>\n",
       "      <td>207</td>\n",
       "      <td>1 Hr</td>\n",
       "      <td>Valid</td>\n",
       "      <td>False</td>\n",
       "    </tr>\n",
       "    <tr>\n",
       "      <th>1</th>\n",
       "      <td>Beijing</td>\n",
       "      <td>2008-04-08 16:00</td>\n",
       "      <td>2008</td>\n",
       "      <td>4</td>\n",
       "      <td>8</td>\n",
       "      <td>16</td>\n",
       "      <td>180</td>\n",
       "      <td>1 Hr</td>\n",
       "      <td>Valid</td>\n",
       "      <td>False</td>\n",
       "    </tr>\n",
       "    <tr>\n",
       "      <th>2</th>\n",
       "      <td>Beijing</td>\n",
       "      <td>2008-04-08 17:00</td>\n",
       "      <td>2008</td>\n",
       "      <td>4</td>\n",
       "      <td>8</td>\n",
       "      <td>17</td>\n",
       "      <td>152</td>\n",
       "      <td>1 Hr</td>\n",
       "      <td>Valid</td>\n",
       "      <td>False</td>\n",
       "    </tr>\n",
       "    <tr>\n",
       "      <th>3</th>\n",
       "      <td>Beijing</td>\n",
       "      <td>2008-04-08 18:00</td>\n",
       "      <td>2008</td>\n",
       "      <td>4</td>\n",
       "      <td>8</td>\n",
       "      <td>18</td>\n",
       "      <td>162</td>\n",
       "      <td>1 Hr</td>\n",
       "      <td>Valid</td>\n",
       "      <td>False</td>\n",
       "    </tr>\n",
       "    <tr>\n",
       "      <th>4</th>\n",
       "      <td>Beijing</td>\n",
       "      <td>2008-04-08 19:00</td>\n",
       "      <td>2008</td>\n",
       "      <td>4</td>\n",
       "      <td>8</td>\n",
       "      <td>19</td>\n",
       "      <td>171</td>\n",
       "      <td>1 Hr</td>\n",
       "      <td>Valid</td>\n",
       "      <td>False</td>\n",
       "    </tr>\n",
       "    <tr>\n",
       "      <th>...</th>\n",
       "      <td>...</td>\n",
       "      <td>...</td>\n",
       "      <td>...</td>\n",
       "      <td>...</td>\n",
       "      <td>...</td>\n",
       "      <td>...</td>\n",
       "      <td>...</td>\n",
       "      <td>...</td>\n",
       "      <td>...</td>\n",
       "      <td>...</td>\n",
       "    </tr>\n",
       "    <tr>\n",
       "      <th>75210</th>\n",
       "      <td>Beijing</td>\n",
       "      <td>12/31/2016 19:00</td>\n",
       "      <td>2016</td>\n",
       "      <td>12</td>\n",
       "      <td>31</td>\n",
       "      <td>19</td>\n",
       "      <td>409</td>\n",
       "      <td>Valid</td>\n",
       "      <td>NaN</td>\n",
       "      <td>False</td>\n",
       "    </tr>\n",
       "    <tr>\n",
       "      <th>75211</th>\n",
       "      <td>Beijing</td>\n",
       "      <td>12/31/2016 20:00</td>\n",
       "      <td>2016</td>\n",
       "      <td>12</td>\n",
       "      <td>31</td>\n",
       "      <td>20</td>\n",
       "      <td>432</td>\n",
       "      <td>Valid</td>\n",
       "      <td>NaN</td>\n",
       "      <td>False</td>\n",
       "    </tr>\n",
       "    <tr>\n",
       "      <th>75212</th>\n",
       "      <td>Beijing</td>\n",
       "      <td>12/31/2016 21:00</td>\n",
       "      <td>2016</td>\n",
       "      <td>12</td>\n",
       "      <td>31</td>\n",
       "      <td>21</td>\n",
       "      <td>482</td>\n",
       "      <td>Valid</td>\n",
       "      <td>NaN</td>\n",
       "      <td>False</td>\n",
       "    </tr>\n",
       "    <tr>\n",
       "      <th>75213</th>\n",
       "      <td>Beijing</td>\n",
       "      <td>12/31/2016 22:00</td>\n",
       "      <td>2016</td>\n",
       "      <td>12</td>\n",
       "      <td>31</td>\n",
       "      <td>22</td>\n",
       "      <td>488</td>\n",
       "      <td>Valid</td>\n",
       "      <td>NaN</td>\n",
       "      <td>False</td>\n",
       "    </tr>\n",
       "    <tr>\n",
       "      <th>75214</th>\n",
       "      <td>Beijing</td>\n",
       "      <td>12/31/2016 23:00</td>\n",
       "      <td>2016</td>\n",
       "      <td>12</td>\n",
       "      <td>31</td>\n",
       "      <td>23</td>\n",
       "      <td>507</td>\n",
       "      <td>Valid</td>\n",
       "      <td>NaN</td>\n",
       "      <td>False</td>\n",
       "    </tr>\n",
       "  </tbody>\n",
       "</table>\n",
       "<p>75215 rows × 10 columns</p>\n",
       "</div>"
      ],
      "text/plain": [
       "          Site        Date (LST)  Year  Month  Day  Hour  Value Duration  \\\n",
       "0      Beijing  2008-04-08 15:00  2008      4    8    15    207     1 Hr   \n",
       "1      Beijing  2008-04-08 16:00  2008      4    8    16    180     1 Hr   \n",
       "2      Beijing  2008-04-08 17:00  2008      4    8    17    152     1 Hr   \n",
       "3      Beijing  2008-04-08 18:00  2008      4    8    18    162     1 Hr   \n",
       "4      Beijing  2008-04-08 19:00  2008      4    8    19    171     1 Hr   \n",
       "...        ...               ...   ...    ...  ...   ...    ...      ...   \n",
       "75210  Beijing  12/31/2016 19:00  2016     12   31    19    409    Valid   \n",
       "75211  Beijing  12/31/2016 20:00  2016     12   31    20    432    Valid   \n",
       "75212  Beijing  12/31/2016 21:00  2016     12   31    21    482    Valid   \n",
       "75213  Beijing  12/31/2016 22:00  2016     12   31    22    488    Valid   \n",
       "75214  Beijing  12/31/2016 23:00  2016     12   31    23    507    Valid   \n",
       "\n",
       "      QC Name    dip  \n",
       "0       Valid  False  \n",
       "1       Valid  False  \n",
       "2       Valid  False  \n",
       "3       Valid  False  \n",
       "4       Valid  False  \n",
       "...       ...    ...  \n",
       "75210     NaN  False  \n",
       "75211     NaN  False  \n",
       "75212     NaN  False  \n",
       "75213     NaN  False  \n",
       "75214     NaN  False  \n",
       "\n",
       "[75215 rows x 10 columns]"
      ]
     },
     "execution_count": 81,
     "metadata": {},
     "output_type": "execute_result"
    }
   ],
   "source": [
    "df['dip'] = df.duplicated(['Site','Year','Month'])\n",
    "df"
   ]
  },
  {
   "cell_type": "markdown",
   "metadata": {},
   "source": [
    "### 直接删除重复行\n",
    "```\n",
    "drop_duplicates:如果drop_duplicates(subset=\"\"),则按照指定对行进行去重\n",
    "keep='first'/'last'/False(直接删除所有重复值)\n",
    "```"
   ]
  },
  {
   "cell_type": "code",
   "execution_count": 82,
   "metadata": {},
   "outputs": [
    {
     "data": {
      "text/html": [
       "<div>\n",
       "<style scoped>\n",
       "    .dataframe tbody tr th:only-of-type {\n",
       "        vertical-align: middle;\n",
       "    }\n",
       "\n",
       "    .dataframe tbody tr th {\n",
       "        vertical-align: top;\n",
       "    }\n",
       "\n",
       "    .dataframe thead th {\n",
       "        text-align: right;\n",
       "    }\n",
       "</style>\n",
       "<table border=\"1\" class=\"dataframe\">\n",
       "  <thead>\n",
       "    <tr style=\"text-align: right;\">\n",
       "      <th></th>\n",
       "      <th>Site</th>\n",
       "      <th>Date (LST)</th>\n",
       "      <th>Year</th>\n",
       "      <th>Month</th>\n",
       "      <th>Day</th>\n",
       "      <th>Hour</th>\n",
       "      <th>Value</th>\n",
       "      <th>Duration</th>\n",
       "      <th>QC Name</th>\n",
       "      <th>dip</th>\n",
       "    </tr>\n",
       "  </thead>\n",
       "  <tbody>\n",
       "    <tr>\n",
       "      <th>0</th>\n",
       "      <td>Beijing</td>\n",
       "      <td>2008-04-08 15:00</td>\n",
       "      <td>2008</td>\n",
       "      <td>4</td>\n",
       "      <td>8</td>\n",
       "      <td>15</td>\n",
       "      <td>207</td>\n",
       "      <td>1 Hr</td>\n",
       "      <td>Valid</td>\n",
       "      <td>False</td>\n",
       "    </tr>\n",
       "    <tr>\n",
       "      <th>1</th>\n",
       "      <td>Beijing</td>\n",
       "      <td>2008-04-08 16:00</td>\n",
       "      <td>2008</td>\n",
       "      <td>4</td>\n",
       "      <td>8</td>\n",
       "      <td>16</td>\n",
       "      <td>180</td>\n",
       "      <td>1 Hr</td>\n",
       "      <td>Valid</td>\n",
       "      <td>False</td>\n",
       "    </tr>\n",
       "    <tr>\n",
       "      <th>2</th>\n",
       "      <td>Beijing</td>\n",
       "      <td>2008-04-08 17:00</td>\n",
       "      <td>2008</td>\n",
       "      <td>4</td>\n",
       "      <td>8</td>\n",
       "      <td>17</td>\n",
       "      <td>152</td>\n",
       "      <td>1 Hr</td>\n",
       "      <td>Valid</td>\n",
       "      <td>False</td>\n",
       "    </tr>\n",
       "    <tr>\n",
       "      <th>3</th>\n",
       "      <td>Beijing</td>\n",
       "      <td>2008-04-08 18:00</td>\n",
       "      <td>2008</td>\n",
       "      <td>4</td>\n",
       "      <td>8</td>\n",
       "      <td>18</td>\n",
       "      <td>162</td>\n",
       "      <td>1 Hr</td>\n",
       "      <td>Valid</td>\n",
       "      <td>False</td>\n",
       "    </tr>\n",
       "    <tr>\n",
       "      <th>4</th>\n",
       "      <td>Beijing</td>\n",
       "      <td>2008-04-08 19:00</td>\n",
       "      <td>2008</td>\n",
       "      <td>4</td>\n",
       "      <td>8</td>\n",
       "      <td>19</td>\n",
       "      <td>171</td>\n",
       "      <td>1 Hr</td>\n",
       "      <td>Valid</td>\n",
       "      <td>False</td>\n",
       "    </tr>\n",
       "    <tr>\n",
       "      <th>...</th>\n",
       "      <td>...</td>\n",
       "      <td>...</td>\n",
       "      <td>...</td>\n",
       "      <td>...</td>\n",
       "      <td>...</td>\n",
       "      <td>...</td>\n",
       "      <td>...</td>\n",
       "      <td>...</td>\n",
       "      <td>...</td>\n",
       "      <td>...</td>\n",
       "    </tr>\n",
       "    <tr>\n",
       "      <th>75210</th>\n",
       "      <td>Beijing</td>\n",
       "      <td>12/31/2016 19:00</td>\n",
       "      <td>2016</td>\n",
       "      <td>12</td>\n",
       "      <td>31</td>\n",
       "      <td>19</td>\n",
       "      <td>409</td>\n",
       "      <td>Valid</td>\n",
       "      <td>NaN</td>\n",
       "      <td>False</td>\n",
       "    </tr>\n",
       "    <tr>\n",
       "      <th>75211</th>\n",
       "      <td>Beijing</td>\n",
       "      <td>12/31/2016 20:00</td>\n",
       "      <td>2016</td>\n",
       "      <td>12</td>\n",
       "      <td>31</td>\n",
       "      <td>20</td>\n",
       "      <td>432</td>\n",
       "      <td>Valid</td>\n",
       "      <td>NaN</td>\n",
       "      <td>False</td>\n",
       "    </tr>\n",
       "    <tr>\n",
       "      <th>75212</th>\n",
       "      <td>Beijing</td>\n",
       "      <td>12/31/2016 21:00</td>\n",
       "      <td>2016</td>\n",
       "      <td>12</td>\n",
       "      <td>31</td>\n",
       "      <td>21</td>\n",
       "      <td>482</td>\n",
       "      <td>Valid</td>\n",
       "      <td>NaN</td>\n",
       "      <td>False</td>\n",
       "    </tr>\n",
       "    <tr>\n",
       "      <th>75213</th>\n",
       "      <td>Beijing</td>\n",
       "      <td>12/31/2016 22:00</td>\n",
       "      <td>2016</td>\n",
       "      <td>12</td>\n",
       "      <td>31</td>\n",
       "      <td>22</td>\n",
       "      <td>488</td>\n",
       "      <td>Valid</td>\n",
       "      <td>NaN</td>\n",
       "      <td>False</td>\n",
       "    </tr>\n",
       "    <tr>\n",
       "      <th>75214</th>\n",
       "      <td>Beijing</td>\n",
       "      <td>12/31/2016 23:00</td>\n",
       "      <td>2016</td>\n",
       "      <td>12</td>\n",
       "      <td>31</td>\n",
       "      <td>23</td>\n",
       "      <td>507</td>\n",
       "      <td>Valid</td>\n",
       "      <td>NaN</td>\n",
       "      <td>False</td>\n",
       "    </tr>\n",
       "  </tbody>\n",
       "</table>\n",
       "<p>75209 rows × 10 columns</p>\n",
       "</div>"
      ],
      "text/plain": [
       "          Site        Date (LST)  Year  Month  Day  Hour  Value Duration  \\\n",
       "0      Beijing  2008-04-08 15:00  2008      4    8    15    207     1 Hr   \n",
       "1      Beijing  2008-04-08 16:00  2008      4    8    16    180     1 Hr   \n",
       "2      Beijing  2008-04-08 17:00  2008      4    8    17    152     1 Hr   \n",
       "3      Beijing  2008-04-08 18:00  2008      4    8    18    162     1 Hr   \n",
       "4      Beijing  2008-04-08 19:00  2008      4    8    19    171     1 Hr   \n",
       "...        ...               ...   ...    ...  ...   ...    ...      ...   \n",
       "75210  Beijing  12/31/2016 19:00  2016     12   31    19    409    Valid   \n",
       "75211  Beijing  12/31/2016 20:00  2016     12   31    20    432    Valid   \n",
       "75212  Beijing  12/31/2016 21:00  2016     12   31    21    482    Valid   \n",
       "75213  Beijing  12/31/2016 22:00  2016     12   31    22    488    Valid   \n",
       "75214  Beijing  12/31/2016 23:00  2016     12   31    23    507    Valid   \n",
       "\n",
       "      QC Name    dip  \n",
       "0       Valid  False  \n",
       "1       Valid  False  \n",
       "2       Valid  False  \n",
       "3       Valid  False  \n",
       "4       Valid  False  \n",
       "...       ...    ...  \n",
       "75210     NaN  False  \n",
       "75211     NaN  False  \n",
       "75212     NaN  False  \n",
       "75213     NaN  False  \n",
       "75214     NaN  False  \n",
       "\n",
       "[75209 rows x 10 columns]"
      ]
     },
     "execution_count": 82,
     "metadata": {},
     "output_type": "execute_result"
    }
   ],
   "source": [
    "df.drop_duplicates(['Site','Year','Month','Day','Hour'],keep='first')"
   ]
  },
  {
   "cell_type": "markdown",
   "metadata": {},
   "source": [
    "## 实战：进一步整理PM2.5数据\n",
    "```\n",
    "要求：\n",
    "    PM2.5数据中数值-999表示缺失，请将这些数据替换为np.nan\n",
    "    给予上述处理结果，删除缺失值记录\n",
    "    在数据中查找到PM2.5数值完全相同的记录\n",
    "    在数据中查找到同一年中PM2.5数值完全相同对记录\n",
    "```"
   ]
  },
  {
   "cell_type": "markdown",
   "metadata": {},
   "source": [
    "# 处理日期时间变量"
   ]
  },
  {
   "cell_type": "markdown",
   "metadata": {},
   "source": [
    "## Timestamp类和Period类\n",
    "### Timestamp对象"
   ]
  },
  {
   "cell_type": "code",
   "execution_count": 5,
   "metadata": {},
   "outputs": [
    {
     "data": {
      "text/plain": [
       "datetime.datetime(2012, 5, 1, 0, 0)"
      ]
     },
     "execution_count": 5,
     "metadata": {},
     "output_type": "execute_result"
    }
   ],
   "source": [
    "datetime(2012,5,1)"
   ]
  },
  {
   "cell_type": "code",
   "execution_count": 7,
   "metadata": {},
   "outputs": [
    {
     "data": {
      "text/plain": [
       "Timestamp('2015-05-01 00:00:00')"
      ]
     },
     "execution_count": 7,
     "metadata": {},
     "output_type": "execute_result"
    }
   ],
   "source": [
    "pd.Timestamp(datetime(2015,5,1))"
   ]
  },
  {
   "cell_type": "code",
   "execution_count": 8,
   "metadata": {},
   "outputs": [
    {
     "data": {
      "text/plain": [
       "Timestamp('2015-01-05 01:02:03')"
      ]
     },
     "execution_count": 8,
     "metadata": {},
     "output_type": "execute_result"
    }
   ],
   "source": [
    "pd.Timestamp(datetime(2015,1,5,1,2,3))"
   ]
  },
  {
   "cell_type": "code",
   "execution_count": 9,
   "metadata": {},
   "outputs": [
    {
     "data": {
      "text/plain": [
       "Timestamp('2015-05-01 01:02:03')"
      ]
     },
     "execution_count": 9,
     "metadata": {},
     "output_type": "execute_result"
    }
   ],
   "source": [
    "pd.Timestamp('2015-05-01 1:2:3')"
   ]
  },
  {
   "cell_type": "code",
   "execution_count": 10,
   "metadata": {},
   "outputs": [
    {
     "data": {
      "text/plain": [
       "Timestamp('2020-01-05 00:00:00')"
      ]
     },
     "execution_count": 10,
     "metadata": {},
     "output_type": "execute_result"
    }
   ],
   "source": [
    "pd.Timestamp('2020/01/05')"
   ]
  },
  {
   "cell_type": "markdown",
   "metadata": {},
   "source": [
    "### peroid对象\n",
    "```\n",
    "可以看作简化后的TimeStamp对象\n",
    "    由于详细数据的不完整，而表示的是一段时间，而不是一个时点\n",
    "使用方法和TimeStamp相同\n",
    "```"
   ]
  },
  {
   "cell_type": "code",
   "execution_count": 12,
   "metadata": {},
   "outputs": [
    {
     "data": {
      "text/plain": [
       "Period('2020-03-08', 'D')"
      ]
     },
     "execution_count": 12,
     "metadata": {},
     "output_type": "execute_result"
    }
   ],
   "source": [
    "pd.Period('2020/03/08')"
   ]
  },
  {
   "cell_type": "code",
   "execution_count": 15,
   "metadata": {},
   "outputs": [
    {
     "data": {
      "text/plain": [
       "Period('2020-03', 'M')"
      ]
     },
     "execution_count": 15,
     "metadata": {},
     "output_type": "execute_result"
    }
   ],
   "source": [
    "pd.Period('2020/03/8',freq='M')"
   ]
  },
  {
   "cell_type": "markdown",
   "metadata": {},
   "source": [
    "## 将数据转换为TimeStamp类\n",
    "### 使用pd.Timestamp()直接转换"
   ]
  },
  {
   "cell_type": "code",
   "execution_count": 22,
   "metadata": {},
   "outputs": [
    {
     "data": {
      "text/plain": [
       "Timestamp('2008-04-08 15:00:00')"
      ]
     },
     "execution_count": 22,
     "metadata": {},
     "output_type": "execute_result"
    }
   ],
   "source": [
    "time_test = df['Date (LST)'][0]\n",
    "pd.Timestamp(time_test)"
   ]
  },
  {
   "cell_type": "markdown",
   "metadata": {},
   "source": [
    "### 用to_datetime进行批量转换\n",
    "```\n",
    "pd.to_datetime(\n",
    "    arg:需要转换为timestamp类的数值\n",
    "        interger,float,string,datetime,list,tuple,1-d array,Series\n",
    "     errors='raise':{'ignore','raise','coerce'}\n",
    "         'raise',抛出错误\n",
    "         'coerce',设置为NaT\n",
    "         'ignore',返回原值\n",
    "     box=True:是否返回为DatetimeIndex,False时返回ndarray数组\n",
    "     format = None:需要转换的字符串格式设定\n",
    ")\n",
    "```"
   ]
  },
  {
   "cell_type": "code",
   "execution_count": 24,
   "metadata": {},
   "outputs": [
    {
     "data": {
      "text/plain": [
       "Timestamp('2020-03-08 19:38:00')"
      ]
     },
     "execution_count": 24,
     "metadata": {},
     "output_type": "execute_result"
    }
   ],
   "source": [
    "pd.to_datetime(datetime(2020,3,8,19,38,0))"
   ]
  },
  {
   "cell_type": "code",
   "execution_count": 27,
   "metadata": {},
   "outputs": [
    {
     "data": {
      "text/plain": [
       "Timestamp('2020-03-08 19:38:01')"
      ]
     },
     "execution_count": 27,
     "metadata": {},
     "output_type": "execute_result"
    }
   ],
   "source": [
    "pd.to_datetime('2020-03-08 19:38:01')"
   ]
  },
  {
   "cell_type": "code",
   "execution_count": 28,
   "metadata": {},
   "outputs": [
    {
     "data": {
      "text/plain": [
       "DatetimeIndex(['2020-03-08', '2020-03-08'], dtype='datetime64[ns]', freq=None)"
      ]
     },
     "execution_count": 28,
     "metadata": {},
     "output_type": "execute_result"
    }
   ],
   "source": [
    "pd.to_datetime(['2020/03/08','2020/03/08'])"
   ]
  },
  {
   "cell_type": "code",
   "execution_count": 33,
   "metadata": {},
   "outputs": [
    {
     "data": {
      "text/plain": [
       "0       2008-04-08 15:00:00\n",
       "1       2008-04-08 16:00:00\n",
       "2       2008-04-08 17:00:00\n",
       "3       2008-04-08 18:00:00\n",
       "4       2008-04-08 19:00:00\n",
       "                ...        \n",
       "75210   2016-12-31 19:00:00\n",
       "75211   2016-12-31 20:00:00\n",
       "75212   2016-12-31 21:00:00\n",
       "75213   2016-12-31 22:00:00\n",
       "75214   2016-12-31 23:00:00\n",
       "Name: Date (LST), Length: 75215, dtype: datetime64[ns]"
      ]
     },
     "execution_count": 33,
     "metadata": {},
     "output_type": "execute_result"
    }
   ],
   "source": [
    "pd.to_datetime(df['Date (LST)'])"
   ]
  },
  {
   "cell_type": "markdown",
   "metadata": {},
   "source": [
    "### 基于所需的变量列合成Timestamp"
   ]
  },
  {
   "cell_type": "code",
   "execution_count": 35,
   "metadata": {},
   "outputs": [
    {
     "data": {
      "text/plain": [
       "0       2008-04-08 15:00:00\n",
       "1       2008-04-08 16:00:00\n",
       "2       2008-04-08 17:00:00\n",
       "3       2008-04-08 18:00:00\n",
       "4       2008-04-08 19:00:00\n",
       "                ...        \n",
       "75210   2016-12-31 19:00:00\n",
       "75211   2016-12-31 20:00:00\n",
       "75212   2016-12-31 21:00:00\n",
       "75213   2016-12-31 22:00:00\n",
       "75214   2016-12-31 23:00:00\n",
       "Length: 75215, dtype: datetime64[ns]"
      ]
     },
     "execution_count": 35,
     "metadata": {},
     "output_type": "execute_result"
    }
   ],
   "source": [
    "pd.to_datetime(df[['Year','Month','Day','Hour']])"
   ]
  },
  {
   "cell_type": "markdown",
   "metadata": {},
   "source": [
    "## 使用DatetimeIndex类"
   ]
  },
  {
   "cell_type": "markdown",
   "metadata": {},
   "source": [
    "### 建立DateTimeIndex对象\n",
    "#### 建立索引时自动转换\n",
    "使用TimeStamp对象建立索引，将会自动转换为DatetimeIndex对象"
   ]
  },
  {
   "cell_type": "code",
   "execution_count": 36,
   "metadata": {},
   "outputs": [
    {
     "data": {
      "text/html": [
       "<div>\n",
       "<style scoped>\n",
       "    .dataframe tbody tr th:only-of-type {\n",
       "        vertical-align: middle;\n",
       "    }\n",
       "\n",
       "    .dataframe tbody tr th {\n",
       "        vertical-align: top;\n",
       "    }\n",
       "\n",
       "    .dataframe thead th {\n",
       "        text-align: right;\n",
       "    }\n",
       "</style>\n",
       "<table border=\"1\" class=\"dataframe\">\n",
       "  <thead>\n",
       "    <tr style=\"text-align: right;\">\n",
       "      <th></th>\n",
       "      <th>Site</th>\n",
       "      <th>Date (LST)</th>\n",
       "      <th>Year</th>\n",
       "      <th>Month</th>\n",
       "      <th>Day</th>\n",
       "      <th>Hour</th>\n",
       "      <th>Value</th>\n",
       "      <th>Duration</th>\n",
       "      <th>QC Name</th>\n",
       "    </tr>\n",
       "    <tr>\n",
       "      <th>Date (LST)</th>\n",
       "      <th></th>\n",
       "      <th></th>\n",
       "      <th></th>\n",
       "      <th></th>\n",
       "      <th></th>\n",
       "      <th></th>\n",
       "      <th></th>\n",
       "      <th></th>\n",
       "      <th></th>\n",
       "    </tr>\n",
       "  </thead>\n",
       "  <tbody>\n",
       "    <tr>\n",
       "      <th>2008-04-08 15:00:00</th>\n",
       "      <td>Beijing</td>\n",
       "      <td>2008-04-08 15:00</td>\n",
       "      <td>2008</td>\n",
       "      <td>4</td>\n",
       "      <td>8</td>\n",
       "      <td>15</td>\n",
       "      <td>207</td>\n",
       "      <td>1 Hr</td>\n",
       "      <td>Valid</td>\n",
       "    </tr>\n",
       "    <tr>\n",
       "      <th>2008-04-08 16:00:00</th>\n",
       "      <td>Beijing</td>\n",
       "      <td>2008-04-08 16:00</td>\n",
       "      <td>2008</td>\n",
       "      <td>4</td>\n",
       "      <td>8</td>\n",
       "      <td>16</td>\n",
       "      <td>180</td>\n",
       "      <td>1 Hr</td>\n",
       "      <td>Valid</td>\n",
       "    </tr>\n",
       "    <tr>\n",
       "      <th>2008-04-08 17:00:00</th>\n",
       "      <td>Beijing</td>\n",
       "      <td>2008-04-08 17:00</td>\n",
       "      <td>2008</td>\n",
       "      <td>4</td>\n",
       "      <td>8</td>\n",
       "      <td>17</td>\n",
       "      <td>152</td>\n",
       "      <td>1 Hr</td>\n",
       "      <td>Valid</td>\n",
       "    </tr>\n",
       "    <tr>\n",
       "      <th>2008-04-08 18:00:00</th>\n",
       "      <td>Beijing</td>\n",
       "      <td>2008-04-08 18:00</td>\n",
       "      <td>2008</td>\n",
       "      <td>4</td>\n",
       "      <td>8</td>\n",
       "      <td>18</td>\n",
       "      <td>162</td>\n",
       "      <td>1 Hr</td>\n",
       "      <td>Valid</td>\n",
       "    </tr>\n",
       "    <tr>\n",
       "      <th>2008-04-08 19:00:00</th>\n",
       "      <td>Beijing</td>\n",
       "      <td>2008-04-08 19:00</td>\n",
       "      <td>2008</td>\n",
       "      <td>4</td>\n",
       "      <td>8</td>\n",
       "      <td>19</td>\n",
       "      <td>171</td>\n",
       "      <td>1 Hr</td>\n",
       "      <td>Valid</td>\n",
       "    </tr>\n",
       "    <tr>\n",
       "      <th>...</th>\n",
       "      <td>...</td>\n",
       "      <td>...</td>\n",
       "      <td>...</td>\n",
       "      <td>...</td>\n",
       "      <td>...</td>\n",
       "      <td>...</td>\n",
       "      <td>...</td>\n",
       "      <td>...</td>\n",
       "      <td>...</td>\n",
       "    </tr>\n",
       "    <tr>\n",
       "      <th>2016-12-31 19:00:00</th>\n",
       "      <td>Beijing</td>\n",
       "      <td>12/31/2016 19:00</td>\n",
       "      <td>2016</td>\n",
       "      <td>12</td>\n",
       "      <td>31</td>\n",
       "      <td>19</td>\n",
       "      <td>409</td>\n",
       "      <td>Valid</td>\n",
       "      <td>NaN</td>\n",
       "    </tr>\n",
       "    <tr>\n",
       "      <th>2016-12-31 20:00:00</th>\n",
       "      <td>Beijing</td>\n",
       "      <td>12/31/2016 20:00</td>\n",
       "      <td>2016</td>\n",
       "      <td>12</td>\n",
       "      <td>31</td>\n",
       "      <td>20</td>\n",
       "      <td>432</td>\n",
       "      <td>Valid</td>\n",
       "      <td>NaN</td>\n",
       "    </tr>\n",
       "    <tr>\n",
       "      <th>2016-12-31 21:00:00</th>\n",
       "      <td>Beijing</td>\n",
       "      <td>12/31/2016 21:00</td>\n",
       "      <td>2016</td>\n",
       "      <td>12</td>\n",
       "      <td>31</td>\n",
       "      <td>21</td>\n",
       "      <td>482</td>\n",
       "      <td>Valid</td>\n",
       "      <td>NaN</td>\n",
       "    </tr>\n",
       "    <tr>\n",
       "      <th>2016-12-31 22:00:00</th>\n",
       "      <td>Beijing</td>\n",
       "      <td>12/31/2016 22:00</td>\n",
       "      <td>2016</td>\n",
       "      <td>12</td>\n",
       "      <td>31</td>\n",
       "      <td>22</td>\n",
       "      <td>488</td>\n",
       "      <td>Valid</td>\n",
       "      <td>NaN</td>\n",
       "    </tr>\n",
       "    <tr>\n",
       "      <th>2016-12-31 23:00:00</th>\n",
       "      <td>Beijing</td>\n",
       "      <td>12/31/2016 23:00</td>\n",
       "      <td>2016</td>\n",
       "      <td>12</td>\n",
       "      <td>31</td>\n",
       "      <td>23</td>\n",
       "      <td>507</td>\n",
       "      <td>Valid</td>\n",
       "      <td>NaN</td>\n",
       "    </tr>\n",
       "  </tbody>\n",
       "</table>\n",
       "<p>75215 rows × 9 columns</p>\n",
       "</div>"
      ],
      "text/plain": [
       "                        Site        Date (LST)  Year  Month  Day  Hour  Value  \\\n",
       "Date (LST)                                                                      \n",
       "2008-04-08 15:00:00  Beijing  2008-04-08 15:00  2008      4    8    15    207   \n",
       "2008-04-08 16:00:00  Beijing  2008-04-08 16:00  2008      4    8    16    180   \n",
       "2008-04-08 17:00:00  Beijing  2008-04-08 17:00  2008      4    8    17    152   \n",
       "2008-04-08 18:00:00  Beijing  2008-04-08 18:00  2008      4    8    18    162   \n",
       "2008-04-08 19:00:00  Beijing  2008-04-08 19:00  2008      4    8    19    171   \n",
       "...                      ...               ...   ...    ...  ...   ...    ...   \n",
       "2016-12-31 19:00:00  Beijing  12/31/2016 19:00  2016     12   31    19    409   \n",
       "2016-12-31 20:00:00  Beijing  12/31/2016 20:00  2016     12   31    20    432   \n",
       "2016-12-31 21:00:00  Beijing  12/31/2016 21:00  2016     12   31    21    482   \n",
       "2016-12-31 22:00:00  Beijing  12/31/2016 22:00  2016     12   31    22    488   \n",
       "2016-12-31 23:00:00  Beijing  12/31/2016 23:00  2016     12   31    23    507   \n",
       "\n",
       "                    Duration QC Name  \n",
       "Date (LST)                            \n",
       "2008-04-08 15:00:00     1 Hr   Valid  \n",
       "2008-04-08 16:00:00     1 Hr   Valid  \n",
       "2008-04-08 17:00:00     1 Hr   Valid  \n",
       "2008-04-08 18:00:00     1 Hr   Valid  \n",
       "2008-04-08 19:00:00     1 Hr   Valid  \n",
       "...                      ...     ...  \n",
       "2016-12-31 19:00:00    Valid     NaN  \n",
       "2016-12-31 20:00:00    Valid     NaN  \n",
       "2016-12-31 21:00:00    Valid     NaN  \n",
       "2016-12-31 22:00:00    Valid     NaN  \n",
       "2016-12-31 23:00:00    Valid     NaN  \n",
       "\n",
       "[75215 rows x 9 columns]"
      ]
     },
     "execution_count": 36,
     "metadata": {},
     "output_type": "execute_result"
    }
   ],
   "source": [
    "time_index = df.set_index(pd.to_datetime(df['Date (LST)']))\n",
    "time_index"
   ]
  },
  {
   "cell_type": "markdown",
   "metadata": {},
   "source": [
    "#### 使用date_range建立DatetimeIndex对象\n",
    "```\n",
    "这种建立方式主要是和reindex命令配合使用，以快速完成对时间序列缺失值的填充工作\n",
    "pd.date_range(\n",
    "        start/end =None:日期时间范围的起点/终点，均为类日期时间格式的字符串/数据\n",
    "        periods = None：准备生成的总记录数\n",
    "        freq = 'D'：可以用字母和数值倍数组合，如'5H'\n",
    "        name = None\n",
    ")\n",
    "```"
   ]
  },
  {
   "cell_type": "code",
   "execution_count": 41,
   "metadata": {},
   "outputs": [
    {
     "data": {
      "text/plain": [
       "DatetimeIndex(['2020-01-01 00:00:00', '2020-01-01 01:00:00',\n",
       "               '2020-01-01 02:00:00', '2020-01-01 03:00:00',\n",
       "               '2020-01-01 04:00:00', '2020-01-01 05:00:00',\n",
       "               '2020-01-01 06:00:00', '2020-01-01 07:00:00',\n",
       "               '2020-01-01 08:00:00', '2020-01-01 09:00:00'],\n",
       "              dtype='datetime64[ns]', freq='H')"
      ]
     },
     "execution_count": 41,
     "metadata": {},
     "output_type": "execute_result"
    }
   ],
   "source": [
    "pd.date_range('1/1/2020',periods=10,freq='H')"
   ]
  },
  {
   "cell_type": "markdown",
   "metadata": {},
   "source": [
    "### 基于索引的快速切片操作"
   ]
  },
  {
   "cell_type": "code",
   "execution_count": 42,
   "metadata": {},
   "outputs": [
    {
     "data": {
      "text/html": [
       "<div>\n",
       "<style scoped>\n",
       "    .dataframe tbody tr th:only-of-type {\n",
       "        vertical-align: middle;\n",
       "    }\n",
       "\n",
       "    .dataframe tbody tr th {\n",
       "        vertical-align: top;\n",
       "    }\n",
       "\n",
       "    .dataframe thead th {\n",
       "        text-align: right;\n",
       "    }\n",
       "</style>\n",
       "<table border=\"1\" class=\"dataframe\">\n",
       "  <thead>\n",
       "    <tr style=\"text-align: right;\">\n",
       "      <th></th>\n",
       "      <th>Site</th>\n",
       "      <th>Date (LST)</th>\n",
       "      <th>Year</th>\n",
       "      <th>Month</th>\n",
       "      <th>Day</th>\n",
       "      <th>Hour</th>\n",
       "      <th>Value</th>\n",
       "      <th>Duration</th>\n",
       "      <th>QC Name</th>\n",
       "    </tr>\n",
       "    <tr>\n",
       "      <th>Date (LST)</th>\n",
       "      <th></th>\n",
       "      <th></th>\n",
       "      <th></th>\n",
       "      <th></th>\n",
       "      <th></th>\n",
       "      <th></th>\n",
       "      <th></th>\n",
       "      <th></th>\n",
       "      <th></th>\n",
       "    </tr>\n",
       "  </thead>\n",
       "  <tbody>\n",
       "    <tr>\n",
       "      <th>2008-04-08 15:00:00</th>\n",
       "      <td>Beijing</td>\n",
       "      <td>2008-04-08 15:00</td>\n",
       "      <td>2008</td>\n",
       "      <td>4</td>\n",
       "      <td>8</td>\n",
       "      <td>15</td>\n",
       "      <td>207</td>\n",
       "      <td>1 Hr</td>\n",
       "      <td>Valid</td>\n",
       "    </tr>\n",
       "    <tr>\n",
       "      <th>2008-04-08 16:00:00</th>\n",
       "      <td>Beijing</td>\n",
       "      <td>2008-04-08 16:00</td>\n",
       "      <td>2008</td>\n",
       "      <td>4</td>\n",
       "      <td>8</td>\n",
       "      <td>16</td>\n",
       "      <td>180</td>\n",
       "      <td>1 Hr</td>\n",
       "      <td>Valid</td>\n",
       "    </tr>\n",
       "    <tr>\n",
       "      <th>2008-04-08 17:00:00</th>\n",
       "      <td>Beijing</td>\n",
       "      <td>2008-04-08 17:00</td>\n",
       "      <td>2008</td>\n",
       "      <td>4</td>\n",
       "      <td>8</td>\n",
       "      <td>17</td>\n",
       "      <td>152</td>\n",
       "      <td>1 Hr</td>\n",
       "      <td>Valid</td>\n",
       "    </tr>\n",
       "    <tr>\n",
       "      <th>2008-04-08 18:00:00</th>\n",
       "      <td>Beijing</td>\n",
       "      <td>2008-04-08 18:00</td>\n",
       "      <td>2008</td>\n",
       "      <td>4</td>\n",
       "      <td>8</td>\n",
       "      <td>18</td>\n",
       "      <td>162</td>\n",
       "      <td>1 Hr</td>\n",
       "      <td>Valid</td>\n",
       "    </tr>\n",
       "    <tr>\n",
       "      <th>2008-04-08 19:00:00</th>\n",
       "      <td>Beijing</td>\n",
       "      <td>2008-04-08 19:00</td>\n",
       "      <td>2008</td>\n",
       "      <td>4</td>\n",
       "      <td>8</td>\n",
       "      <td>19</td>\n",
       "      <td>171</td>\n",
       "      <td>1 Hr</td>\n",
       "      <td>Valid</td>\n",
       "    </tr>\n",
       "    <tr>\n",
       "      <th>...</th>\n",
       "      <td>...</td>\n",
       "      <td>...</td>\n",
       "      <td>...</td>\n",
       "      <td>...</td>\n",
       "      <td>...</td>\n",
       "      <td>...</td>\n",
       "      <td>...</td>\n",
       "      <td>...</td>\n",
       "      <td>...</td>\n",
       "    </tr>\n",
       "    <tr>\n",
       "      <th>2008-04-09 19:00:00</th>\n",
       "      <td>Beijing</td>\n",
       "      <td>2008-04-09 19:00</td>\n",
       "      <td>2008</td>\n",
       "      <td>4</td>\n",
       "      <td>9</td>\n",
       "      <td>19</td>\n",
       "      <td>128</td>\n",
       "      <td>1 Hr</td>\n",
       "      <td>Valid</td>\n",
       "    </tr>\n",
       "    <tr>\n",
       "      <th>2008-04-09 20:00:00</th>\n",
       "      <td>Beijing</td>\n",
       "      <td>2008-04-09 20:00</td>\n",
       "      <td>2008</td>\n",
       "      <td>4</td>\n",
       "      <td>9</td>\n",
       "      <td>20</td>\n",
       "      <td>130</td>\n",
       "      <td>1 Hr</td>\n",
       "      <td>Valid</td>\n",
       "    </tr>\n",
       "    <tr>\n",
       "      <th>2008-04-09 21:00:00</th>\n",
       "      <td>Beijing</td>\n",
       "      <td>2008-04-09 21:00</td>\n",
       "      <td>2008</td>\n",
       "      <td>4</td>\n",
       "      <td>9</td>\n",
       "      <td>21</td>\n",
       "      <td>138</td>\n",
       "      <td>1 Hr</td>\n",
       "      <td>Valid</td>\n",
       "    </tr>\n",
       "    <tr>\n",
       "      <th>2008-04-09 22:00:00</th>\n",
       "      <td>Beijing</td>\n",
       "      <td>2008-04-09 22:00</td>\n",
       "      <td>2008</td>\n",
       "      <td>4</td>\n",
       "      <td>9</td>\n",
       "      <td>22</td>\n",
       "      <td>142</td>\n",
       "      <td>1 Hr</td>\n",
       "      <td>Valid</td>\n",
       "    </tr>\n",
       "    <tr>\n",
       "      <th>2008-04-09 23:00:00</th>\n",
       "      <td>Beijing</td>\n",
       "      <td>2008-04-09 23:00</td>\n",
       "      <td>2008</td>\n",
       "      <td>4</td>\n",
       "      <td>9</td>\n",
       "      <td>23</td>\n",
       "      <td>115</td>\n",
       "      <td>1 Hr</td>\n",
       "      <td>Valid</td>\n",
       "    </tr>\n",
       "  </tbody>\n",
       "</table>\n",
       "<p>33 rows × 9 columns</p>\n",
       "</div>"
      ],
      "text/plain": [
       "                        Site        Date (LST)  Year  Month  Day  Hour  Value  \\\n",
       "Date (LST)                                                                      \n",
       "2008-04-08 15:00:00  Beijing  2008-04-08 15:00  2008      4    8    15    207   \n",
       "2008-04-08 16:00:00  Beijing  2008-04-08 16:00  2008      4    8    16    180   \n",
       "2008-04-08 17:00:00  Beijing  2008-04-08 17:00  2008      4    8    17    152   \n",
       "2008-04-08 18:00:00  Beijing  2008-04-08 18:00  2008      4    8    18    162   \n",
       "2008-04-08 19:00:00  Beijing  2008-04-08 19:00  2008      4    8    19    171   \n",
       "...                      ...               ...   ...    ...  ...   ...    ...   \n",
       "2008-04-09 19:00:00  Beijing  2008-04-09 19:00  2008      4    9    19    128   \n",
       "2008-04-09 20:00:00  Beijing  2008-04-09 20:00  2008      4    9    20    130   \n",
       "2008-04-09 21:00:00  Beijing  2008-04-09 21:00  2008      4    9    21    138   \n",
       "2008-04-09 22:00:00  Beijing  2008-04-09 22:00  2008      4    9    22    142   \n",
       "2008-04-09 23:00:00  Beijing  2008-04-09 23:00  2008      4    9    23    115   \n",
       "\n",
       "                    Duration QC Name  \n",
       "Date (LST)                            \n",
       "2008-04-08 15:00:00     1 Hr   Valid  \n",
       "2008-04-08 16:00:00     1 Hr   Valid  \n",
       "2008-04-08 17:00:00     1 Hr   Valid  \n",
       "2008-04-08 18:00:00     1 Hr   Valid  \n",
       "2008-04-08 19:00:00     1 Hr   Valid  \n",
       "...                      ...     ...  \n",
       "2008-04-09 19:00:00     1 Hr   Valid  \n",
       "2008-04-09 20:00:00     1 Hr   Valid  \n",
       "2008-04-09 21:00:00     1 Hr   Valid  \n",
       "2008-04-09 22:00:00     1 Hr   Valid  \n",
       "2008-04-09 23:00:00     1 Hr   Valid  \n",
       "\n",
       "[33 rows x 9 columns]"
      ]
     },
     "execution_count": 42,
     "metadata": {},
     "output_type": "execute_result"
    }
   ],
   "source": [
    "time_index[\"2008-04-08\":\"2008-04-09\"]"
   ]
  },
  {
   "cell_type": "code",
   "execution_count": 45,
   "metadata": {},
   "outputs": [
    {
     "data": {
      "text/html": [
       "<div>\n",
       "<style scoped>\n",
       "    .dataframe tbody tr th:only-of-type {\n",
       "        vertical-align: middle;\n",
       "    }\n",
       "\n",
       "    .dataframe tbody tr th {\n",
       "        vertical-align: top;\n",
       "    }\n",
       "\n",
       "    .dataframe thead th {\n",
       "        text-align: right;\n",
       "    }\n",
       "</style>\n",
       "<table border=\"1\" class=\"dataframe\">\n",
       "  <thead>\n",
       "    <tr style=\"text-align: right;\">\n",
       "      <th></th>\n",
       "      <th>Site</th>\n",
       "      <th>Date (LST)</th>\n",
       "      <th>Year</th>\n",
       "      <th>Month</th>\n",
       "      <th>Day</th>\n",
       "      <th>Hour</th>\n",
       "      <th>Value</th>\n",
       "      <th>Duration</th>\n",
       "      <th>QC Name</th>\n",
       "    </tr>\n",
       "    <tr>\n",
       "      <th>Date (LST)</th>\n",
       "      <th></th>\n",
       "      <th></th>\n",
       "      <th></th>\n",
       "      <th></th>\n",
       "      <th></th>\n",
       "      <th></th>\n",
       "      <th></th>\n",
       "      <th></th>\n",
       "      <th></th>\n",
       "    </tr>\n",
       "  </thead>\n",
       "  <tbody>\n",
       "    <tr>\n",
       "      <th>2008-04-08 15:00:00</th>\n",
       "      <td>Beijing</td>\n",
       "      <td>2008-04-08 15:00</td>\n",
       "      <td>2008</td>\n",
       "      <td>4</td>\n",
       "      <td>8</td>\n",
       "      <td>15</td>\n",
       "      <td>207</td>\n",
       "      <td>1 Hr</td>\n",
       "      <td>Valid</td>\n",
       "    </tr>\n",
       "    <tr>\n",
       "      <th>2008-04-08 16:00:00</th>\n",
       "      <td>Beijing</td>\n",
       "      <td>2008-04-08 16:00</td>\n",
       "      <td>2008</td>\n",
       "      <td>4</td>\n",
       "      <td>8</td>\n",
       "      <td>16</td>\n",
       "      <td>180</td>\n",
       "      <td>1 Hr</td>\n",
       "      <td>Valid</td>\n",
       "    </tr>\n",
       "    <tr>\n",
       "      <th>2008-04-08 17:00:00</th>\n",
       "      <td>Beijing</td>\n",
       "      <td>2008-04-08 17:00</td>\n",
       "      <td>2008</td>\n",
       "      <td>4</td>\n",
       "      <td>8</td>\n",
       "      <td>17</td>\n",
       "      <td>152</td>\n",
       "      <td>1 Hr</td>\n",
       "      <td>Valid</td>\n",
       "    </tr>\n",
       "    <tr>\n",
       "      <th>2008-04-08 18:00:00</th>\n",
       "      <td>Beijing</td>\n",
       "      <td>2008-04-08 18:00</td>\n",
       "      <td>2008</td>\n",
       "      <td>4</td>\n",
       "      <td>8</td>\n",
       "      <td>18</td>\n",
       "      <td>162</td>\n",
       "      <td>1 Hr</td>\n",
       "      <td>Valid</td>\n",
       "    </tr>\n",
       "    <tr>\n",
       "      <th>2008-04-08 19:00:00</th>\n",
       "      <td>Beijing</td>\n",
       "      <td>2008-04-08 19:00</td>\n",
       "      <td>2008</td>\n",
       "      <td>4</td>\n",
       "      <td>8</td>\n",
       "      <td>19</td>\n",
       "      <td>171</td>\n",
       "      <td>1 Hr</td>\n",
       "      <td>Valid</td>\n",
       "    </tr>\n",
       "    <tr>\n",
       "      <th>...</th>\n",
       "      <td>...</td>\n",
       "      <td>...</td>\n",
       "      <td>...</td>\n",
       "      <td>...</td>\n",
       "      <td>...</td>\n",
       "      <td>...</td>\n",
       "      <td>...</td>\n",
       "      <td>...</td>\n",
       "      <td>...</td>\n",
       "    </tr>\n",
       "    <tr>\n",
       "      <th>2008-04-30 19:00:00</th>\n",
       "      <td>Beijing</td>\n",
       "      <td>2008-04-30 19:00</td>\n",
       "      <td>2008</td>\n",
       "      <td>4</td>\n",
       "      <td>30</td>\n",
       "      <td>19</td>\n",
       "      <td>56</td>\n",
       "      <td>1 Hr</td>\n",
       "      <td>Valid</td>\n",
       "    </tr>\n",
       "    <tr>\n",
       "      <th>2008-04-30 20:00:00</th>\n",
       "      <td>Beijing</td>\n",
       "      <td>2008-04-30 20:00</td>\n",
       "      <td>2008</td>\n",
       "      <td>4</td>\n",
       "      <td>30</td>\n",
       "      <td>20</td>\n",
       "      <td>103</td>\n",
       "      <td>1 Hr</td>\n",
       "      <td>Valid</td>\n",
       "    </tr>\n",
       "    <tr>\n",
       "      <th>2008-04-30 21:00:00</th>\n",
       "      <td>Beijing</td>\n",
       "      <td>2008-04-30 21:00</td>\n",
       "      <td>2008</td>\n",
       "      <td>4</td>\n",
       "      <td>30</td>\n",
       "      <td>21</td>\n",
       "      <td>123</td>\n",
       "      <td>1 Hr</td>\n",
       "      <td>Valid</td>\n",
       "    </tr>\n",
       "    <tr>\n",
       "      <th>2008-04-30 22:00:00</th>\n",
       "      <td>Beijing</td>\n",
       "      <td>2008-04-30 22:00</td>\n",
       "      <td>2008</td>\n",
       "      <td>4</td>\n",
       "      <td>30</td>\n",
       "      <td>22</td>\n",
       "      <td>137</td>\n",
       "      <td>1 Hr</td>\n",
       "      <td>Valid</td>\n",
       "    </tr>\n",
       "    <tr>\n",
       "      <th>2008-04-30 23:00:00</th>\n",
       "      <td>Beijing</td>\n",
       "      <td>2008-04-30 23:00</td>\n",
       "      <td>2008</td>\n",
       "      <td>4</td>\n",
       "      <td>30</td>\n",
       "      <td>23</td>\n",
       "      <td>140</td>\n",
       "      <td>1 Hr</td>\n",
       "      <td>Valid</td>\n",
       "    </tr>\n",
       "  </tbody>\n",
       "</table>\n",
       "<p>537 rows × 9 columns</p>\n",
       "</div>"
      ],
      "text/plain": [
       "                        Site        Date (LST)  Year  Month  Day  Hour  Value  \\\n",
       "Date (LST)                                                                      \n",
       "2008-04-08 15:00:00  Beijing  2008-04-08 15:00  2008      4    8    15    207   \n",
       "2008-04-08 16:00:00  Beijing  2008-04-08 16:00  2008      4    8    16    180   \n",
       "2008-04-08 17:00:00  Beijing  2008-04-08 17:00  2008      4    8    17    152   \n",
       "2008-04-08 18:00:00  Beijing  2008-04-08 18:00  2008      4    8    18    162   \n",
       "2008-04-08 19:00:00  Beijing  2008-04-08 19:00  2008      4    8    19    171   \n",
       "...                      ...               ...   ...    ...  ...   ...    ...   \n",
       "2008-04-30 19:00:00  Beijing  2008-04-30 19:00  2008      4   30    19     56   \n",
       "2008-04-30 20:00:00  Beijing  2008-04-30 20:00  2008      4   30    20    103   \n",
       "2008-04-30 21:00:00  Beijing  2008-04-30 21:00  2008      4   30    21    123   \n",
       "2008-04-30 22:00:00  Beijing  2008-04-30 22:00  2008      4   30    22    137   \n",
       "2008-04-30 23:00:00  Beijing  2008-04-30 23:00  2008      4   30    23    140   \n",
       "\n",
       "                    Duration QC Name  \n",
       "Date (LST)                            \n",
       "2008-04-08 15:00:00     1 Hr   Valid  \n",
       "2008-04-08 16:00:00     1 Hr   Valid  \n",
       "2008-04-08 17:00:00     1 Hr   Valid  \n",
       "2008-04-08 18:00:00     1 Hr   Valid  \n",
       "2008-04-08 19:00:00     1 Hr   Valid  \n",
       "...                      ...     ...  \n",
       "2008-04-30 19:00:00     1 Hr   Valid  \n",
       "2008-04-30 20:00:00     1 Hr   Valid  \n",
       "2008-04-30 21:00:00     1 Hr   Valid  \n",
       "2008-04-30 22:00:00     1 Hr   Valid  \n",
       "2008-04-30 23:00:00     1 Hr   Valid  \n",
       "\n",
       "[537 rows x 9 columns]"
      ]
     },
     "execution_count": 45,
     "metadata": {},
     "output_type": "execute_result"
    }
   ],
   "source": [
    "time_index['2008-04']"
   ]
  },
  {
   "cell_type": "markdown",
   "metadata": {},
   "source": [
    "## 对时间序列做基本处理"
   ]
  },
  {
   "cell_type": "markdown",
   "metadata": {},
   "source": [
    "### 序列的分组徽作\n",
    "#### 直接取出索引的相应曾经\n",
    "DateimeIndex对象可直接引言的Attribute\n",
    "```\n",
    "    date: Returns numpy array of python datetime.data objects\n",
    "    time: Returns numpy array of python datetime.time objects\n",
    "    year: The year of datetime\n",
    "    quarter: The quarter of the date\n",
    "    month: The month as January=1\n",
    "    week: The week ordinal of the year\n",
    "    weekday: The day of the week with Monday=0,Sunday=6\n",
    "    weekday_name:The name of day in a week\n",
    "    weekofyear: The week original of the year\n",
    "    day: The days of the datetime\n",
    "    dayofweek:\n",
    "    dayofyear\n",
    "    days_in_month\n",
    "```"
   ]
  },
  {
   "cell_type": "code",
   "execution_count": 49,
   "metadata": {},
   "outputs": [
    {
     "data": {
      "text/plain": [
       "Int64Index([15, 16, 17, 18, 19, 20, 21, 22, 23,  0,\n",
       "            ...\n",
       "            14, 15, 16, 17, 18, 19, 20, 21, 22, 23],\n",
       "           dtype='int64', name='Date (LST)', length=75215)"
      ]
     },
     "execution_count": 49,
     "metadata": {},
     "output_type": "execute_result"
    }
   ],
   "source": [
    "time_index.index.hour"
   ]
  },
  {
   "cell_type": "markdown",
   "metadata": {},
   "source": [
    "#### 直接使用groupby方法进行汇总"
   ]
  },
  {
   "cell_type": "code",
   "execution_count": 51,
   "metadata": {},
   "outputs": [
    {
     "data": {
      "text/html": [
       "<div>\n",
       "<style scoped>\n",
       "    .dataframe tbody tr th:only-of-type {\n",
       "        vertical-align: middle;\n",
       "    }\n",
       "\n",
       "    .dataframe tbody tr th {\n",
       "        vertical-align: top;\n",
       "    }\n",
       "\n",
       "    .dataframe thead th {\n",
       "        text-align: right;\n",
       "    }\n",
       "</style>\n",
       "<table border=\"1\" class=\"dataframe\">\n",
       "  <thead>\n",
       "    <tr style=\"text-align: right;\">\n",
       "      <th></th>\n",
       "      <th>Site</th>\n",
       "      <th>Date (LST)</th>\n",
       "      <th>Year</th>\n",
       "      <th>Month</th>\n",
       "      <th>Day</th>\n",
       "      <th>Hour</th>\n",
       "      <th>Value</th>\n",
       "      <th>Duration</th>\n",
       "    </tr>\n",
       "    <tr>\n",
       "      <th>Date (LST)</th>\n",
       "      <th></th>\n",
       "      <th></th>\n",
       "      <th></th>\n",
       "      <th></th>\n",
       "      <th></th>\n",
       "      <th></th>\n",
       "      <th></th>\n",
       "      <th></th>\n",
       "    </tr>\n",
       "  </thead>\n",
       "  <tbody>\n",
       "    <tr>\n",
       "      <th>1</th>\n",
       "      <td>Beijing</td>\n",
       "      <td>2014-01-31 23:00</td>\n",
       "      <td>2016</td>\n",
       "      <td>1</td>\n",
       "      <td>31</td>\n",
       "      <td>23</td>\n",
       "      <td>994</td>\n",
       "      <td>Valid</td>\n",
       "    </tr>\n",
       "    <tr>\n",
       "      <th>2</th>\n",
       "      <td>Beijing</td>\n",
       "      <td>2014-02-28 23:00</td>\n",
       "      <td>2016</td>\n",
       "      <td>2</td>\n",
       "      <td>29</td>\n",
       "      <td>23</td>\n",
       "      <td>980</td>\n",
       "      <td>Valid</td>\n",
       "    </tr>\n",
       "    <tr>\n",
       "      <th>3</th>\n",
       "      <td>Beijing</td>\n",
       "      <td>3/9/2016 9:00</td>\n",
       "      <td>2016</td>\n",
       "      <td>3</td>\n",
       "      <td>31</td>\n",
       "      <td>23</td>\n",
       "      <td>784</td>\n",
       "      <td>Valid</td>\n",
       "    </tr>\n",
       "    <tr>\n",
       "      <th>4</th>\n",
       "      <td>Beijing</td>\n",
       "      <td>4/9/2016 9:00</td>\n",
       "      <td>2016</td>\n",
       "      <td>4</td>\n",
       "      <td>30</td>\n",
       "      <td>23</td>\n",
       "      <td>722</td>\n",
       "      <td>Valid</td>\n",
       "    </tr>\n",
       "    <tr>\n",
       "      <th>5</th>\n",
       "      <td>Beijing</td>\n",
       "      <td>5/9/2016 9:00</td>\n",
       "      <td>2016</td>\n",
       "      <td>5</td>\n",
       "      <td>31</td>\n",
       "      <td>23</td>\n",
       "      <td>439</td>\n",
       "      <td>Valid</td>\n",
       "    </tr>\n",
       "    <tr>\n",
       "      <th>...</th>\n",
       "      <td>...</td>\n",
       "      <td>...</td>\n",
       "      <td>...</td>\n",
       "      <td>...</td>\n",
       "      <td>...</td>\n",
       "      <td>...</td>\n",
       "      <td>...</td>\n",
       "      <td>...</td>\n",
       "    </tr>\n",
       "    <tr>\n",
       "      <th>8</th>\n",
       "      <td>Beijing</td>\n",
       "      <td>8/9/2016 9:00</td>\n",
       "      <td>2016</td>\n",
       "      <td>8</td>\n",
       "      <td>31</td>\n",
       "      <td>23</td>\n",
       "      <td>360</td>\n",
       "      <td>Valid</td>\n",
       "    </tr>\n",
       "    <tr>\n",
       "      <th>9</th>\n",
       "      <td>Beijing</td>\n",
       "      <td>9/9/2016 9:00</td>\n",
       "      <td>2016</td>\n",
       "      <td>9</td>\n",
       "      <td>30</td>\n",
       "      <td>23</td>\n",
       "      <td>455</td>\n",
       "      <td>Valid</td>\n",
       "    </tr>\n",
       "    <tr>\n",
       "      <th>10</th>\n",
       "      <td>Beijing</td>\n",
       "      <td>2014-10-31 23:00</td>\n",
       "      <td>2016</td>\n",
       "      <td>10</td>\n",
       "      <td>31</td>\n",
       "      <td>23</td>\n",
       "      <td>562</td>\n",
       "      <td>Valid</td>\n",
       "    </tr>\n",
       "    <tr>\n",
       "      <th>11</th>\n",
       "      <td>Beijing</td>\n",
       "      <td>2014-11-30 23:00</td>\n",
       "      <td>2016</td>\n",
       "      <td>11</td>\n",
       "      <td>30</td>\n",
       "      <td>23</td>\n",
       "      <td>666</td>\n",
       "      <td>Valid</td>\n",
       "    </tr>\n",
       "    <tr>\n",
       "      <th>12</th>\n",
       "      <td>Beijing</td>\n",
       "      <td>2014-12-31 23:00</td>\n",
       "      <td>2016</td>\n",
       "      <td>12</td>\n",
       "      <td>31</td>\n",
       "      <td>23</td>\n",
       "      <td>634</td>\n",
       "      <td>Valid</td>\n",
       "    </tr>\n",
       "  </tbody>\n",
       "</table>\n",
       "<p>12 rows × 8 columns</p>\n",
       "</div>"
      ],
      "text/plain": [
       "               Site        Date (LST)  Year  Month  Day  Hour  Value Duration\n",
       "Date (LST)                                                                   \n",
       "1           Beijing  2014-01-31 23:00  2016      1   31    23    994    Valid\n",
       "2           Beijing  2014-02-28 23:00  2016      2   29    23    980    Valid\n",
       "3           Beijing     3/9/2016 9:00  2016      3   31    23    784    Valid\n",
       "4           Beijing     4/9/2016 9:00  2016      4   30    23    722    Valid\n",
       "5           Beijing     5/9/2016 9:00  2016      5   31    23    439    Valid\n",
       "...             ...               ...   ...    ...  ...   ...    ...      ...\n",
       "8           Beijing     8/9/2016 9:00  2016      8   31    23    360    Valid\n",
       "9           Beijing     9/9/2016 9:00  2016      9   30    23    455    Valid\n",
       "10          Beijing  2014-10-31 23:00  2016     10   31    23    562    Valid\n",
       "11          Beijing  2014-11-30 23:00  2016     11   30    23    666    Valid\n",
       "12          Beijing  2014-12-31 23:00  2016     12   31    23    634    Valid\n",
       "\n",
       "[12 rows x 8 columns]"
      ]
     },
     "execution_count": 51,
     "metadata": {},
     "output_type": "execute_result"
    }
   ],
   "source": [
    "time_index.groupby(time_index.index.month).max()"
   ]
  },
  {
   "cell_type": "markdown",
   "metadata": {},
   "source": [
    "#### 使用功能更强的resample函数"
   ]
  },
  {
   "cell_type": "code",
   "execution_count": 52,
   "metadata": {},
   "outputs": [
    {
     "data": {
      "text/html": [
       "<div>\n",
       "<style scoped>\n",
       "    .dataframe tbody tr th:only-of-type {\n",
       "        vertical-align: middle;\n",
       "    }\n",
       "\n",
       "    .dataframe tbody tr th {\n",
       "        vertical-align: top;\n",
       "    }\n",
       "\n",
       "    .dataframe thead th {\n",
       "        text-align: right;\n",
       "    }\n",
       "</style>\n",
       "<table border=\"1\" class=\"dataframe\">\n",
       "  <thead>\n",
       "    <tr style=\"text-align: right;\">\n",
       "      <th></th>\n",
       "      <th>Year</th>\n",
       "      <th>Month</th>\n",
       "      <th>Day</th>\n",
       "      <th>Hour</th>\n",
       "      <th>Value</th>\n",
       "    </tr>\n",
       "    <tr>\n",
       "      <th>Date (LST)</th>\n",
       "      <th></th>\n",
       "      <th></th>\n",
       "      <th></th>\n",
       "      <th></th>\n",
       "      <th></th>\n",
       "    </tr>\n",
       "  </thead>\n",
       "  <tbody>\n",
       "    <tr>\n",
       "      <th>2008-04-08</th>\n",
       "      <td>2008.0</td>\n",
       "      <td>4.0</td>\n",
       "      <td>9.263158</td>\n",
       "      <td>12.684211</td>\n",
       "      <td>93.754386</td>\n",
       "    </tr>\n",
       "    <tr>\n",
       "      <th>2008-04-11</th>\n",
       "      <td>2008.0</td>\n",
       "      <td>4.0</td>\n",
       "      <td>12.000000</td>\n",
       "      <td>11.500000</td>\n",
       "      <td>67.791667</td>\n",
       "    </tr>\n",
       "    <tr>\n",
       "      <th>2008-04-14</th>\n",
       "      <td>2008.0</td>\n",
       "      <td>4.0</td>\n",
       "      <td>15.000000</td>\n",
       "      <td>11.500000</td>\n",
       "      <td>164.527778</td>\n",
       "    </tr>\n",
       "    <tr>\n",
       "      <th>2008-04-17</th>\n",
       "      <td>2008.0</td>\n",
       "      <td>4.0</td>\n",
       "      <td>18.000000</td>\n",
       "      <td>11.500000</td>\n",
       "      <td>163.166667</td>\n",
       "    </tr>\n",
       "    <tr>\n",
       "      <th>2008-04-20</th>\n",
       "      <td>2008.0</td>\n",
       "      <td>4.0</td>\n",
       "      <td>21.000000</td>\n",
       "      <td>11.500000</td>\n",
       "      <td>38.597222</td>\n",
       "    </tr>\n",
       "    <tr>\n",
       "      <th>...</th>\n",
       "      <td>...</td>\n",
       "      <td>...</td>\n",
       "      <td>...</td>\n",
       "      <td>...</td>\n",
       "      <td>...</td>\n",
       "    </tr>\n",
       "    <tr>\n",
       "      <th>2016-12-19</th>\n",
       "      <td>2016.0</td>\n",
       "      <td>12.0</td>\n",
       "      <td>20.000000</td>\n",
       "      <td>11.500000</td>\n",
       "      <td>325.152778</td>\n",
       "    </tr>\n",
       "    <tr>\n",
       "      <th>2016-12-22</th>\n",
       "      <td>2016.0</td>\n",
       "      <td>12.0</td>\n",
       "      <td>23.000000</td>\n",
       "      <td>11.500000</td>\n",
       "      <td>82.777778</td>\n",
       "    </tr>\n",
       "    <tr>\n",
       "      <th>2016-12-25</th>\n",
       "      <td>2016.0</td>\n",
       "      <td>12.0</td>\n",
       "      <td>26.000000</td>\n",
       "      <td>11.500000</td>\n",
       "      <td>85.083333</td>\n",
       "    </tr>\n",
       "    <tr>\n",
       "      <th>2016-12-28</th>\n",
       "      <td>2016.0</td>\n",
       "      <td>12.0</td>\n",
       "      <td>29.000000</td>\n",
       "      <td>11.500000</td>\n",
       "      <td>136.430556</td>\n",
       "    </tr>\n",
       "    <tr>\n",
       "      <th>2016-12-31</th>\n",
       "      <td>2016.0</td>\n",
       "      <td>12.0</td>\n",
       "      <td>31.000000</td>\n",
       "      <td>11.500000</td>\n",
       "      <td>350.083333</td>\n",
       "    </tr>\n",
       "  </tbody>\n",
       "</table>\n",
       "<p>1064 rows × 5 columns</p>\n",
       "</div>"
      ],
      "text/plain": [
       "              Year  Month        Day       Hour       Value\n",
       "Date (LST)                                                 \n",
       "2008-04-08  2008.0    4.0   9.263158  12.684211   93.754386\n",
       "2008-04-11  2008.0    4.0  12.000000  11.500000   67.791667\n",
       "2008-04-14  2008.0    4.0  15.000000  11.500000  164.527778\n",
       "2008-04-17  2008.0    4.0  18.000000  11.500000  163.166667\n",
       "2008-04-20  2008.0    4.0  21.000000  11.500000   38.597222\n",
       "...            ...    ...        ...        ...         ...\n",
       "2016-12-19  2016.0   12.0  20.000000  11.500000  325.152778\n",
       "2016-12-22  2016.0   12.0  23.000000  11.500000   82.777778\n",
       "2016-12-25  2016.0   12.0  26.000000  11.500000   85.083333\n",
       "2016-12-28  2016.0   12.0  29.000000  11.500000  136.430556\n",
       "2016-12-31  2016.0   12.0  31.000000  11.500000  350.083333\n",
       "\n",
       "[1064 rows x 5 columns]"
      ]
     },
     "execution_count": 52,
     "metadata": {},
     "output_type": "execute_result"
    }
   ],
   "source": [
    "time_index.resample('3D').mean()"
   ]
  },
  {
   "cell_type": "markdown",
   "metadata": {},
   "source": [
    "### 序列的缺失值处理"
   ]
  },
  {
   "cell_type": "code",
   "execution_count": 57,
   "metadata": {},
   "outputs": [
    {
     "data": {
      "text/html": [
       "<div>\n",
       "<style scoped>\n",
       "    .dataframe tbody tr th:only-of-type {\n",
       "        vertical-align: middle;\n",
       "    }\n",
       "\n",
       "    .dataframe tbody tr th {\n",
       "        vertical-align: top;\n",
       "    }\n",
       "\n",
       "    .dataframe thead th {\n",
       "        text-align: right;\n",
       "    }\n",
       "</style>\n",
       "<table border=\"1\" class=\"dataframe\">\n",
       "  <thead>\n",
       "    <tr style=\"text-align: right;\">\n",
       "      <th></th>\n",
       "      <th>Site</th>\n",
       "      <th>Date (LST)</th>\n",
       "      <th>Year</th>\n",
       "      <th>Month</th>\n",
       "      <th>Day</th>\n",
       "      <th>Hour</th>\n",
       "      <th>Value</th>\n",
       "      <th>Duration</th>\n",
       "      <th>QC Name</th>\n",
       "    </tr>\n",
       "    <tr>\n",
       "      <th>Date (LST)</th>\n",
       "      <th></th>\n",
       "      <th></th>\n",
       "      <th></th>\n",
       "      <th></th>\n",
       "      <th></th>\n",
       "      <th></th>\n",
       "      <th></th>\n",
       "      <th></th>\n",
       "      <th></th>\n",
       "    </tr>\n",
       "  </thead>\n",
       "  <tbody>\n",
       "    <tr>\n",
       "      <th>2009-01-01 00:00:00</th>\n",
       "      <td>Beijing</td>\n",
       "      <td>2009-01-01 00:00</td>\n",
       "      <td>2009</td>\n",
       "      <td>1</td>\n",
       "      <td>1</td>\n",
       "      <td>0</td>\n",
       "      <td>-999</td>\n",
       "      <td>Missing</td>\n",
       "      <td>NaN</td>\n",
       "    </tr>\n",
       "    <tr>\n",
       "      <th>2009-01-01 01:00:00</th>\n",
       "      <td>Beijing</td>\n",
       "      <td>2009-01-01 01:00</td>\n",
       "      <td>2009</td>\n",
       "      <td>1</td>\n",
       "      <td>1</td>\n",
       "      <td>1</td>\n",
       "      <td>-999</td>\n",
       "      <td>Missing</td>\n",
       "      <td>NaN</td>\n",
       "    </tr>\n",
       "    <tr>\n",
       "      <th>2009-01-01 02:00:00</th>\n",
       "      <td>Beijing</td>\n",
       "      <td>2009-01-01 02:00</td>\n",
       "      <td>2009</td>\n",
       "      <td>1</td>\n",
       "      <td>1</td>\n",
       "      <td>2</td>\n",
       "      <td>-999</td>\n",
       "      <td>Missing</td>\n",
       "      <td>NaN</td>\n",
       "    </tr>\n",
       "    <tr>\n",
       "      <th>2009-01-01 03:00:00</th>\n",
       "      <td>Beijing</td>\n",
       "      <td>2009-01-01 03:00</td>\n",
       "      <td>2009</td>\n",
       "      <td>1</td>\n",
       "      <td>1</td>\n",
       "      <td>3</td>\n",
       "      <td>-999</td>\n",
       "      <td>Missing</td>\n",
       "      <td>NaN</td>\n",
       "    </tr>\n",
       "    <tr>\n",
       "      <th>2009-01-01 04:00:00</th>\n",
       "      <td>Beijing</td>\n",
       "      <td>2009-01-01 04:00</td>\n",
       "      <td>2009</td>\n",
       "      <td>1</td>\n",
       "      <td>1</td>\n",
       "      <td>4</td>\n",
       "      <td>-999</td>\n",
       "      <td>Missing</td>\n",
       "      <td>NaN</td>\n",
       "    </tr>\n",
       "    <tr>\n",
       "      <th>...</th>\n",
       "      <td>...</td>\n",
       "      <td>...</td>\n",
       "      <td>...</td>\n",
       "      <td>...</td>\n",
       "      <td>...</td>\n",
       "      <td>...</td>\n",
       "      <td>...</td>\n",
       "      <td>...</td>\n",
       "      <td>...</td>\n",
       "    </tr>\n",
       "    <tr>\n",
       "      <th>2009-12-31 19:00:00</th>\n",
       "      <td>Beijing</td>\n",
       "      <td>2009-12-31 19:00</td>\n",
       "      <td>2009</td>\n",
       "      <td>12</td>\n",
       "      <td>31</td>\n",
       "      <td>19</td>\n",
       "      <td>77</td>\n",
       "      <td>Valid</td>\n",
       "      <td>NaN</td>\n",
       "    </tr>\n",
       "    <tr>\n",
       "      <th>2009-12-31 20:00:00</th>\n",
       "      <td>Beijing</td>\n",
       "      <td>2009-12-31 20:00</td>\n",
       "      <td>2009</td>\n",
       "      <td>12</td>\n",
       "      <td>31</td>\n",
       "      <td>20</td>\n",
       "      <td>120</td>\n",
       "      <td>Valid</td>\n",
       "      <td>NaN</td>\n",
       "    </tr>\n",
       "    <tr>\n",
       "      <th>2009-12-31 21:00:00</th>\n",
       "      <td>Beijing</td>\n",
       "      <td>2009-12-31 21:00</td>\n",
       "      <td>2009</td>\n",
       "      <td>12</td>\n",
       "      <td>31</td>\n",
       "      <td>21</td>\n",
       "      <td>163</td>\n",
       "      <td>Valid</td>\n",
       "      <td>NaN</td>\n",
       "    </tr>\n",
       "    <tr>\n",
       "      <th>2009-12-31 22:00:00</th>\n",
       "      <td>Beijing</td>\n",
       "      <td>2009-12-31 22:00</td>\n",
       "      <td>2009</td>\n",
       "      <td>12</td>\n",
       "      <td>31</td>\n",
       "      <td>22</td>\n",
       "      <td>167</td>\n",
       "      <td>Valid</td>\n",
       "      <td>NaN</td>\n",
       "    </tr>\n",
       "    <tr>\n",
       "      <th>2009-12-31 23:00:00</th>\n",
       "      <td>Beijing</td>\n",
       "      <td>2009-12-31 23:00</td>\n",
       "      <td>2009</td>\n",
       "      <td>12</td>\n",
       "      <td>31</td>\n",
       "      <td>23</td>\n",
       "      <td>-999</td>\n",
       "      <td>Missing</td>\n",
       "      <td>NaN</td>\n",
       "    </tr>\n",
       "  </tbody>\n",
       "</table>\n",
       "<p>8760 rows × 9 columns</p>\n",
       "</div>"
      ],
      "text/plain": [
       "                        Site        Date (LST)  Year  Month  Day  Hour  Value  \\\n",
       "Date (LST)                                                                      \n",
       "2009-01-01 00:00:00  Beijing  2009-01-01 00:00  2009      1    1     0   -999   \n",
       "2009-01-01 01:00:00  Beijing  2009-01-01 01:00  2009      1    1     1   -999   \n",
       "2009-01-01 02:00:00  Beijing  2009-01-01 02:00  2009      1    1     2   -999   \n",
       "2009-01-01 03:00:00  Beijing  2009-01-01 03:00  2009      1    1     3   -999   \n",
       "2009-01-01 04:00:00  Beijing  2009-01-01 04:00  2009      1    1     4   -999   \n",
       "...                      ...               ...   ...    ...  ...   ...    ...   \n",
       "2009-12-31 19:00:00  Beijing  2009-12-31 19:00  2009     12   31    19     77   \n",
       "2009-12-31 20:00:00  Beijing  2009-12-31 20:00  2009     12   31    20    120   \n",
       "2009-12-31 21:00:00  Beijing  2009-12-31 21:00  2009     12   31    21    163   \n",
       "2009-12-31 22:00:00  Beijing  2009-12-31 22:00  2009     12   31    22    167   \n",
       "2009-12-31 23:00:00  Beijing  2009-12-31 23:00  2009     12   31    23   -999   \n",
       "\n",
       "                    Duration QC Name  \n",
       "Date (LST)                            \n",
       "2009-01-01 00:00:00  Missing     NaN  \n",
       "2009-01-01 01:00:00  Missing     NaN  \n",
       "2009-01-01 02:00:00  Missing     NaN  \n",
       "2009-01-01 03:00:00  Missing     NaN  \n",
       "2009-01-01 04:00:00  Missing     NaN  \n",
       "...                      ...     ...  \n",
       "2009-12-31 19:00:00    Valid     NaN  \n",
       "2009-12-31 20:00:00    Valid     NaN  \n",
       "2009-12-31 21:00:00    Valid     NaN  \n",
       "2009-12-31 22:00:00    Valid     NaN  \n",
       "2009-12-31 23:00:00  Missing     NaN  \n",
       "\n",
       "[8760 rows x 9 columns]"
      ]
     },
     "execution_count": 57,
     "metadata": {},
     "output_type": "execute_result"
    }
   ],
   "source": [
    "time_index_2009 = time_index['2009']\n",
    "time_index_2009"
   ]
  },
  {
   "cell_type": "code",
   "execution_count": 59,
   "metadata": {},
   "outputs": [
    {
     "data": {
      "text/html": [
       "<div>\n",
       "<style scoped>\n",
       "    .dataframe tbody tr th:only-of-type {\n",
       "        vertical-align: middle;\n",
       "    }\n",
       "\n",
       "    .dataframe tbody tr th {\n",
       "        vertical-align: top;\n",
       "    }\n",
       "\n",
       "    .dataframe thead th {\n",
       "        text-align: right;\n",
       "    }\n",
       "</style>\n",
       "<table border=\"1\" class=\"dataframe\">\n",
       "  <thead>\n",
       "    <tr style=\"text-align: right;\">\n",
       "      <th></th>\n",
       "      <th>Site</th>\n",
       "      <th>Date (LST)</th>\n",
       "      <th>Year</th>\n",
       "      <th>Month</th>\n",
       "      <th>Day</th>\n",
       "      <th>Hour</th>\n",
       "      <th>Value</th>\n",
       "      <th>Duration</th>\n",
       "      <th>QC Name</th>\n",
       "    </tr>\n",
       "    <tr>\n",
       "      <th>Date (LST)</th>\n",
       "      <th></th>\n",
       "      <th></th>\n",
       "      <th></th>\n",
       "      <th></th>\n",
       "      <th></th>\n",
       "      <th></th>\n",
       "      <th></th>\n",
       "      <th></th>\n",
       "      <th></th>\n",
       "    </tr>\n",
       "  </thead>\n",
       "  <tbody>\n",
       "    <tr>\n",
       "      <th>2009-02-17 17:00:00</th>\n",
       "      <td>Beijing</td>\n",
       "      <td>2009-02-17 17:00</td>\n",
       "      <td>2009</td>\n",
       "      <td>2</td>\n",
       "      <td>17</td>\n",
       "      <td>17</td>\n",
       "      <td>70</td>\n",
       "      <td>Valid</td>\n",
       "      <td>NaN</td>\n",
       "    </tr>\n",
       "    <tr>\n",
       "      <th>2009-02-17 18:00:00</th>\n",
       "      <td>Beijing</td>\n",
       "      <td>2009-02-17 18:00</td>\n",
       "      <td>2009</td>\n",
       "      <td>2</td>\n",
       "      <td>17</td>\n",
       "      <td>18</td>\n",
       "      <td>57</td>\n",
       "      <td>Valid</td>\n",
       "      <td>NaN</td>\n",
       "    </tr>\n",
       "    <tr>\n",
       "      <th>2009-02-17 19:00:00</th>\n",
       "      <td>Beijing</td>\n",
       "      <td>2009-02-17 19:00</td>\n",
       "      <td>2009</td>\n",
       "      <td>2</td>\n",
       "      <td>17</td>\n",
       "      <td>19</td>\n",
       "      <td>58</td>\n",
       "      <td>Valid</td>\n",
       "      <td>NaN</td>\n",
       "    </tr>\n",
       "    <tr>\n",
       "      <th>2009-02-17 20:00:00</th>\n",
       "      <td>Beijing</td>\n",
       "      <td>2009-02-17 20:00</td>\n",
       "      <td>2009</td>\n",
       "      <td>2</td>\n",
       "      <td>17</td>\n",
       "      <td>20</td>\n",
       "      <td>63</td>\n",
       "      <td>Valid</td>\n",
       "      <td>NaN</td>\n",
       "    </tr>\n",
       "    <tr>\n",
       "      <th>2009-02-17 21:00:00</th>\n",
       "      <td>Beijing</td>\n",
       "      <td>2009-02-17 21:00</td>\n",
       "      <td>2009</td>\n",
       "      <td>2</td>\n",
       "      <td>17</td>\n",
       "      <td>21</td>\n",
       "      <td>61</td>\n",
       "      <td>Valid</td>\n",
       "      <td>NaN</td>\n",
       "    </tr>\n",
       "    <tr>\n",
       "      <th>...</th>\n",
       "      <td>...</td>\n",
       "      <td>...</td>\n",
       "      <td>...</td>\n",
       "      <td>...</td>\n",
       "      <td>...</td>\n",
       "      <td>...</td>\n",
       "      <td>...</td>\n",
       "      <td>...</td>\n",
       "      <td>...</td>\n",
       "    </tr>\n",
       "    <tr>\n",
       "      <th>2009-12-31 18:00:00</th>\n",
       "      <td>Beijing</td>\n",
       "      <td>2009-12-31 18:00</td>\n",
       "      <td>2009</td>\n",
       "      <td>12</td>\n",
       "      <td>31</td>\n",
       "      <td>18</td>\n",
       "      <td>64</td>\n",
       "      <td>Valid</td>\n",
       "      <td>NaN</td>\n",
       "    </tr>\n",
       "    <tr>\n",
       "      <th>2009-12-31 19:00:00</th>\n",
       "      <td>Beijing</td>\n",
       "      <td>2009-12-31 19:00</td>\n",
       "      <td>2009</td>\n",
       "      <td>12</td>\n",
       "      <td>31</td>\n",
       "      <td>19</td>\n",
       "      <td>77</td>\n",
       "      <td>Valid</td>\n",
       "      <td>NaN</td>\n",
       "    </tr>\n",
       "    <tr>\n",
       "      <th>2009-12-31 20:00:00</th>\n",
       "      <td>Beijing</td>\n",
       "      <td>2009-12-31 20:00</td>\n",
       "      <td>2009</td>\n",
       "      <td>12</td>\n",
       "      <td>31</td>\n",
       "      <td>20</td>\n",
       "      <td>120</td>\n",
       "      <td>Valid</td>\n",
       "      <td>NaN</td>\n",
       "    </tr>\n",
       "    <tr>\n",
       "      <th>2009-12-31 21:00:00</th>\n",
       "      <td>Beijing</td>\n",
       "      <td>2009-12-31 21:00</td>\n",
       "      <td>2009</td>\n",
       "      <td>12</td>\n",
       "      <td>31</td>\n",
       "      <td>21</td>\n",
       "      <td>163</td>\n",
       "      <td>Valid</td>\n",
       "      <td>NaN</td>\n",
       "    </tr>\n",
       "    <tr>\n",
       "      <th>2009-12-31 22:00:00</th>\n",
       "      <td>Beijing</td>\n",
       "      <td>2009-12-31 22:00</td>\n",
       "      <td>2009</td>\n",
       "      <td>12</td>\n",
       "      <td>31</td>\n",
       "      <td>22</td>\n",
       "      <td>167</td>\n",
       "      <td>Valid</td>\n",
       "      <td>NaN</td>\n",
       "    </tr>\n",
       "  </tbody>\n",
       "</table>\n",
       "<p>6779 rows × 9 columns</p>\n",
       "</div>"
      ],
      "text/plain": [
       "                        Site        Date (LST)  Year  Month  Day  Hour  Value  \\\n",
       "Date (LST)                                                                      \n",
       "2009-02-17 17:00:00  Beijing  2009-02-17 17:00  2009      2   17    17     70   \n",
       "2009-02-17 18:00:00  Beijing  2009-02-17 18:00  2009      2   17    18     57   \n",
       "2009-02-17 19:00:00  Beijing  2009-02-17 19:00  2009      2   17    19     58   \n",
       "2009-02-17 20:00:00  Beijing  2009-02-17 20:00  2009      2   17    20     63   \n",
       "2009-02-17 21:00:00  Beijing  2009-02-17 21:00  2009      2   17    21     61   \n",
       "...                      ...               ...   ...    ...  ...   ...    ...   \n",
       "2009-12-31 18:00:00  Beijing  2009-12-31 18:00  2009     12   31    18     64   \n",
       "2009-12-31 19:00:00  Beijing  2009-12-31 19:00  2009     12   31    19     77   \n",
       "2009-12-31 20:00:00  Beijing  2009-12-31 20:00  2009     12   31    20    120   \n",
       "2009-12-31 21:00:00  Beijing  2009-12-31 21:00  2009     12   31    21    163   \n",
       "2009-12-31 22:00:00  Beijing  2009-12-31 22:00  2009     12   31    22    167   \n",
       "\n",
       "                    Duration QC Name  \n",
       "Date (LST)                            \n",
       "2009-02-17 17:00:00    Valid     NaN  \n",
       "2009-02-17 18:00:00    Valid     NaN  \n",
       "2009-02-17 19:00:00    Valid     NaN  \n",
       "2009-02-17 20:00:00    Valid     NaN  \n",
       "2009-02-17 21:00:00    Valid     NaN  \n",
       "...                      ...     ...  \n",
       "2009-12-31 18:00:00    Valid     NaN  \n",
       "2009-12-31 19:00:00    Valid     NaN  \n",
       "2009-12-31 20:00:00    Valid     NaN  \n",
       "2009-12-31 21:00:00    Valid     NaN  \n",
       "2009-12-31 22:00:00    Valid     NaN  \n",
       "\n",
       "[6779 rows x 9 columns]"
      ]
     },
     "execution_count": 59,
     "metadata": {},
     "output_type": "execute_result"
    }
   ],
   "source": [
    "time_index_2009_index = time_index_2009[time_index_2009.Value>0]\n",
    "time_index_2009_index"
   ]
  },
  {
   "cell_type": "code",
   "execution_count": 62,
   "metadata": {},
   "outputs": [
    {
     "data": {
      "text/plain": [
       "DatetimeIndex(['2009-02-17 17:00:00', '2009-02-17 18:00:00',\n",
       "               '2009-02-17 19:00:00', '2009-02-17 20:00:00',\n",
       "               '2009-02-17 21:00:00', '2009-02-17 22:00:00',\n",
       "               '2009-02-17 23:00:00', '2009-02-18 00:00:00',\n",
       "               '2009-02-18 01:00:00', '2009-02-18 02:00:00',\n",
       "               ...\n",
       "               '2009-12-31 13:00:00', '2009-12-31 14:00:00',\n",
       "               '2009-12-31 15:00:00', '2009-12-31 16:00:00',\n",
       "               '2009-12-31 17:00:00', '2009-12-31 18:00:00',\n",
       "               '2009-12-31 19:00:00', '2009-12-31 20:00:00',\n",
       "               '2009-12-31 21:00:00', '2009-12-31 22:00:00'],\n",
       "              dtype='datetime64[ns]', length=7614, freq='H')"
      ]
     },
     "execution_count": 62,
     "metadata": {},
     "output_type": "execute_result"
    }
   ],
   "source": [
    "idx =  pd.date_range(start='2009-02-17 17:00:00',end='2009-12-31 22:00',freq='H')\n",
    "idx"
   ]
  },
  {
   "cell_type": "code",
   "execution_count": 67,
   "metadata": {},
   "outputs": [
    {
     "data": {
      "text/html": [
       "<div>\n",
       "<style scoped>\n",
       "    .dataframe tbody tr th:only-of-type {\n",
       "        vertical-align: middle;\n",
       "    }\n",
       "\n",
       "    .dataframe tbody tr th {\n",
       "        vertical-align: top;\n",
       "    }\n",
       "\n",
       "    .dataframe thead th {\n",
       "        text-align: right;\n",
       "    }\n",
       "</style>\n",
       "<table border=\"1\" class=\"dataframe\">\n",
       "  <thead>\n",
       "    <tr style=\"text-align: right;\">\n",
       "      <th></th>\n",
       "      <th>Site</th>\n",
       "      <th>Date (LST)</th>\n",
       "      <th>Year</th>\n",
       "      <th>Month</th>\n",
       "      <th>Day</th>\n",
       "      <th>Hour</th>\n",
       "      <th>Value</th>\n",
       "      <th>Duration</th>\n",
       "      <th>QC Name</th>\n",
       "    </tr>\n",
       "    <tr>\n",
       "      <th>Date (LST)</th>\n",
       "      <th></th>\n",
       "      <th></th>\n",
       "      <th></th>\n",
       "      <th></th>\n",
       "      <th></th>\n",
       "      <th></th>\n",
       "      <th></th>\n",
       "      <th></th>\n",
       "      <th></th>\n",
       "    </tr>\n",
       "  </thead>\n",
       "  <tbody>\n",
       "    <tr>\n",
       "      <th>2009-03-08 03:00:00</th>\n",
       "      <td>Beijing</td>\n",
       "      <td>2009-03-08 03:00</td>\n",
       "      <td>2009</td>\n",
       "      <td>3</td>\n",
       "      <td>8</td>\n",
       "      <td>3</td>\n",
       "      <td>179</td>\n",
       "      <td>Valid</td>\n",
       "      <td>NaN</td>\n",
       "    </tr>\n",
       "  </tbody>\n",
       "</table>\n",
       "</div>"
      ],
      "text/plain": [
       "                        Site        Date (LST)  Year  Month  Day  Hour  Value  \\\n",
       "Date (LST)                                                                      \n",
       "2009-03-08 03:00:00  Beijing  2009-03-08 03:00  2009      3    8     3    179   \n",
       "\n",
       "                    Duration QC Name  \n",
       "Date (LST)                            \n",
       "2009-03-08 03:00:00    Valid     NaN  "
      ]
     },
     "execution_count": 67,
     "metadata": {},
     "output_type": "execute_result"
    }
   ],
   "source": [
    "time_index_2009_index[time_index_2009_index.index.duplicated()]"
   ]
  },
  {
   "cell_type": "code",
   "execution_count": 69,
   "metadata": {},
   "outputs": [
    {
     "data": {
      "text/html": [
       "<div>\n",
       "<style scoped>\n",
       "    .dataframe tbody tr th:only-of-type {\n",
       "        vertical-align: middle;\n",
       "    }\n",
       "\n",
       "    .dataframe tbody tr th {\n",
       "        vertical-align: top;\n",
       "    }\n",
       "\n",
       "    .dataframe thead th {\n",
       "        text-align: right;\n",
       "    }\n",
       "</style>\n",
       "<table border=\"1\" class=\"dataframe\">\n",
       "  <thead>\n",
       "    <tr style=\"text-align: right;\">\n",
       "      <th></th>\n",
       "      <th>Site</th>\n",
       "      <th>Date (LST)</th>\n",
       "      <th>Year</th>\n",
       "      <th>Month</th>\n",
       "      <th>Day</th>\n",
       "      <th>Hour</th>\n",
       "      <th>Value</th>\n",
       "      <th>Duration</th>\n",
       "      <th>QC Name</th>\n",
       "    </tr>\n",
       "    <tr>\n",
       "      <th>Date (LST)</th>\n",
       "      <th></th>\n",
       "      <th></th>\n",
       "      <th></th>\n",
       "      <th></th>\n",
       "      <th></th>\n",
       "      <th></th>\n",
       "      <th></th>\n",
       "      <th></th>\n",
       "      <th></th>\n",
       "    </tr>\n",
       "  </thead>\n",
       "  <tbody>\n",
       "    <tr>\n",
       "      <th>2009-03-08 00:00:00</th>\n",
       "      <td>Beijing</td>\n",
       "      <td>2009-03-08 00:00</td>\n",
       "      <td>2009</td>\n",
       "      <td>3</td>\n",
       "      <td>8</td>\n",
       "      <td>0</td>\n",
       "      <td>204</td>\n",
       "      <td>Valid</td>\n",
       "      <td>NaN</td>\n",
       "    </tr>\n",
       "    <tr>\n",
       "      <th>2009-03-08 01:00:00</th>\n",
       "      <td>Beijing</td>\n",
       "      <td>2009-03-08 01:00</td>\n",
       "      <td>2009</td>\n",
       "      <td>3</td>\n",
       "      <td>8</td>\n",
       "      <td>1</td>\n",
       "      <td>189</td>\n",
       "      <td>Valid</td>\n",
       "      <td>NaN</td>\n",
       "    </tr>\n",
       "    <tr>\n",
       "      <th>2009-03-08 03:00:00</th>\n",
       "      <td>Beijing</td>\n",
       "      <td>2009-03-08 03:00</td>\n",
       "      <td>2009</td>\n",
       "      <td>3</td>\n",
       "      <td>8</td>\n",
       "      <td>3</td>\n",
       "      <td>195</td>\n",
       "      <td>Valid</td>\n",
       "      <td>NaN</td>\n",
       "    </tr>\n",
       "    <tr>\n",
       "      <th>2009-03-08 03:00:00</th>\n",
       "      <td>Beijing</td>\n",
       "      <td>2009-03-08 03:00</td>\n",
       "      <td>2009</td>\n",
       "      <td>3</td>\n",
       "      <td>8</td>\n",
       "      <td>3</td>\n",
       "      <td>179</td>\n",
       "      <td>Valid</td>\n",
       "      <td>NaN</td>\n",
       "    </tr>\n",
       "    <tr>\n",
       "      <th>2009-03-08 04:00:00</th>\n",
       "      <td>Beijing</td>\n",
       "      <td>2009-03-08 04:00</td>\n",
       "      <td>2009</td>\n",
       "      <td>3</td>\n",
       "      <td>8</td>\n",
       "      <td>4</td>\n",
       "      <td>188</td>\n",
       "      <td>Valid</td>\n",
       "      <td>NaN</td>\n",
       "    </tr>\n",
       "    <tr>\n",
       "      <th>...</th>\n",
       "      <td>...</td>\n",
       "      <td>...</td>\n",
       "      <td>...</td>\n",
       "      <td>...</td>\n",
       "      <td>...</td>\n",
       "      <td>...</td>\n",
       "      <td>...</td>\n",
       "      <td>...</td>\n",
       "      <td>...</td>\n",
       "    </tr>\n",
       "    <tr>\n",
       "      <th>2009-03-08 19:00:00</th>\n",
       "      <td>Beijing</td>\n",
       "      <td>2009-03-08 19:00</td>\n",
       "      <td>2009</td>\n",
       "      <td>3</td>\n",
       "      <td>8</td>\n",
       "      <td>19</td>\n",
       "      <td>77</td>\n",
       "      <td>Valid</td>\n",
       "      <td>NaN</td>\n",
       "    </tr>\n",
       "    <tr>\n",
       "      <th>2009-03-08 20:00:00</th>\n",
       "      <td>Beijing</td>\n",
       "      <td>2009-03-08 20:00</td>\n",
       "      <td>2009</td>\n",
       "      <td>3</td>\n",
       "      <td>8</td>\n",
       "      <td>20</td>\n",
       "      <td>71</td>\n",
       "      <td>Valid</td>\n",
       "      <td>NaN</td>\n",
       "    </tr>\n",
       "    <tr>\n",
       "      <th>2009-03-08 21:00:00</th>\n",
       "      <td>Beijing</td>\n",
       "      <td>2009-03-08 21:00</td>\n",
       "      <td>2009</td>\n",
       "      <td>3</td>\n",
       "      <td>8</td>\n",
       "      <td>21</td>\n",
       "      <td>86</td>\n",
       "      <td>Valid</td>\n",
       "      <td>NaN</td>\n",
       "    </tr>\n",
       "    <tr>\n",
       "      <th>2009-03-08 22:00:00</th>\n",
       "      <td>Beijing</td>\n",
       "      <td>2009-03-08 22:00</td>\n",
       "      <td>2009</td>\n",
       "      <td>3</td>\n",
       "      <td>8</td>\n",
       "      <td>22</td>\n",
       "      <td>41</td>\n",
       "      <td>Valid</td>\n",
       "      <td>NaN</td>\n",
       "    </tr>\n",
       "    <tr>\n",
       "      <th>2009-03-08 23:00:00</th>\n",
       "      <td>Beijing</td>\n",
       "      <td>2009-03-08 23:00</td>\n",
       "      <td>2009</td>\n",
       "      <td>3</td>\n",
       "      <td>8</td>\n",
       "      <td>23</td>\n",
       "      <td>14</td>\n",
       "      <td>Valid</td>\n",
       "      <td>NaN</td>\n",
       "    </tr>\n",
       "  </tbody>\n",
       "</table>\n",
       "<p>24 rows × 9 columns</p>\n",
       "</div>"
      ],
      "text/plain": [
       "                        Site        Date (LST)  Year  Month  Day  Hour  Value  \\\n",
       "Date (LST)                                                                      \n",
       "2009-03-08 00:00:00  Beijing  2009-03-08 00:00  2009      3    8     0    204   \n",
       "2009-03-08 01:00:00  Beijing  2009-03-08 01:00  2009      3    8     1    189   \n",
       "2009-03-08 03:00:00  Beijing  2009-03-08 03:00  2009      3    8     3    195   \n",
       "2009-03-08 03:00:00  Beijing  2009-03-08 03:00  2009      3    8     3    179   \n",
       "2009-03-08 04:00:00  Beijing  2009-03-08 04:00  2009      3    8     4    188   \n",
       "...                      ...               ...   ...    ...  ...   ...    ...   \n",
       "2009-03-08 19:00:00  Beijing  2009-03-08 19:00  2009      3    8    19     77   \n",
       "2009-03-08 20:00:00  Beijing  2009-03-08 20:00  2009      3    8    20     71   \n",
       "2009-03-08 21:00:00  Beijing  2009-03-08 21:00  2009      3    8    21     86   \n",
       "2009-03-08 22:00:00  Beijing  2009-03-08 22:00  2009      3    8    22     41   \n",
       "2009-03-08 23:00:00  Beijing  2009-03-08 23:00  2009      3    8    23     14   \n",
       "\n",
       "                    Duration QC Name  \n",
       "Date (LST)                            \n",
       "2009-03-08 00:00:00    Valid     NaN  \n",
       "2009-03-08 01:00:00    Valid     NaN  \n",
       "2009-03-08 03:00:00    Valid     NaN  \n",
       "2009-03-08 03:00:00    Valid     NaN  \n",
       "2009-03-08 04:00:00    Valid     NaN  \n",
       "...                      ...     ...  \n",
       "2009-03-08 19:00:00    Valid     NaN  \n",
       "2009-03-08 20:00:00    Valid     NaN  \n",
       "2009-03-08 21:00:00    Valid     NaN  \n",
       "2009-03-08 22:00:00    Valid     NaN  \n",
       "2009-03-08 23:00:00    Valid     NaN  \n",
       "\n",
       "[24 rows x 9 columns]"
      ]
     },
     "execution_count": 69,
     "metadata": {},
     "output_type": "execute_result"
    }
   ],
   "source": [
    "time_index_2009_index['2009-03-08']"
   ]
  },
  {
   "cell_type": "code",
   "execution_count": 70,
   "metadata": {},
   "outputs": [
    {
     "data": {
      "text/html": [
       "<div>\n",
       "<style scoped>\n",
       "    .dataframe tbody tr th:only-of-type {\n",
       "        vertical-align: middle;\n",
       "    }\n",
       "\n",
       "    .dataframe tbody tr th {\n",
       "        vertical-align: top;\n",
       "    }\n",
       "\n",
       "    .dataframe thead th {\n",
       "        text-align: right;\n",
       "    }\n",
       "</style>\n",
       "<table border=\"1\" class=\"dataframe\">\n",
       "  <thead>\n",
       "    <tr style=\"text-align: right;\">\n",
       "      <th></th>\n",
       "      <th>Site</th>\n",
       "      <th>Date (LST)</th>\n",
       "      <th>Year</th>\n",
       "      <th>Month</th>\n",
       "      <th>Day</th>\n",
       "      <th>Hour</th>\n",
       "      <th>Value</th>\n",
       "      <th>Duration</th>\n",
       "      <th>QC Name</th>\n",
       "    </tr>\n",
       "  </thead>\n",
       "  <tbody>\n",
       "    <tr>\n",
       "      <th>2009-02-17 17:00:00</th>\n",
       "      <td>Beijing</td>\n",
       "      <td>2009-02-17 17:00</td>\n",
       "      <td>2009.0</td>\n",
       "      <td>2.0</td>\n",
       "      <td>17.0</td>\n",
       "      <td>17.0</td>\n",
       "      <td>70.0</td>\n",
       "      <td>Valid</td>\n",
       "      <td>NaN</td>\n",
       "    </tr>\n",
       "    <tr>\n",
       "      <th>2009-02-17 18:00:00</th>\n",
       "      <td>Beijing</td>\n",
       "      <td>2009-02-17 18:00</td>\n",
       "      <td>2009.0</td>\n",
       "      <td>2.0</td>\n",
       "      <td>17.0</td>\n",
       "      <td>18.0</td>\n",
       "      <td>57.0</td>\n",
       "      <td>Valid</td>\n",
       "      <td>NaN</td>\n",
       "    </tr>\n",
       "    <tr>\n",
       "      <th>2009-02-17 19:00:00</th>\n",
       "      <td>Beijing</td>\n",
       "      <td>2009-02-17 19:00</td>\n",
       "      <td>2009.0</td>\n",
       "      <td>2.0</td>\n",
       "      <td>17.0</td>\n",
       "      <td>19.0</td>\n",
       "      <td>58.0</td>\n",
       "      <td>Valid</td>\n",
       "      <td>NaN</td>\n",
       "    </tr>\n",
       "    <tr>\n",
       "      <th>2009-02-17 20:00:00</th>\n",
       "      <td>Beijing</td>\n",
       "      <td>2009-02-17 20:00</td>\n",
       "      <td>2009.0</td>\n",
       "      <td>2.0</td>\n",
       "      <td>17.0</td>\n",
       "      <td>20.0</td>\n",
       "      <td>63.0</td>\n",
       "      <td>Valid</td>\n",
       "      <td>NaN</td>\n",
       "    </tr>\n",
       "    <tr>\n",
       "      <th>2009-02-17 21:00:00</th>\n",
       "      <td>Beijing</td>\n",
       "      <td>2009-02-17 21:00</td>\n",
       "      <td>2009.0</td>\n",
       "      <td>2.0</td>\n",
       "      <td>17.0</td>\n",
       "      <td>21.0</td>\n",
       "      <td>61.0</td>\n",
       "      <td>Valid</td>\n",
       "      <td>NaN</td>\n",
       "    </tr>\n",
       "    <tr>\n",
       "      <th>...</th>\n",
       "      <td>...</td>\n",
       "      <td>...</td>\n",
       "      <td>...</td>\n",
       "      <td>...</td>\n",
       "      <td>...</td>\n",
       "      <td>...</td>\n",
       "      <td>...</td>\n",
       "      <td>...</td>\n",
       "      <td>...</td>\n",
       "    </tr>\n",
       "    <tr>\n",
       "      <th>2009-12-31 18:00:00</th>\n",
       "      <td>Beijing</td>\n",
       "      <td>2009-12-31 18:00</td>\n",
       "      <td>2009.0</td>\n",
       "      <td>12.0</td>\n",
       "      <td>31.0</td>\n",
       "      <td>18.0</td>\n",
       "      <td>64.0</td>\n",
       "      <td>Valid</td>\n",
       "      <td>NaN</td>\n",
       "    </tr>\n",
       "    <tr>\n",
       "      <th>2009-12-31 19:00:00</th>\n",
       "      <td>Beijing</td>\n",
       "      <td>2009-12-31 19:00</td>\n",
       "      <td>2009.0</td>\n",
       "      <td>12.0</td>\n",
       "      <td>31.0</td>\n",
       "      <td>19.0</td>\n",
       "      <td>77.0</td>\n",
       "      <td>Valid</td>\n",
       "      <td>NaN</td>\n",
       "    </tr>\n",
       "    <tr>\n",
       "      <th>2009-12-31 20:00:00</th>\n",
       "      <td>Beijing</td>\n",
       "      <td>2009-12-31 20:00</td>\n",
       "      <td>2009.0</td>\n",
       "      <td>12.0</td>\n",
       "      <td>31.0</td>\n",
       "      <td>20.0</td>\n",
       "      <td>120.0</td>\n",
       "      <td>Valid</td>\n",
       "      <td>NaN</td>\n",
       "    </tr>\n",
       "    <tr>\n",
       "      <th>2009-12-31 21:00:00</th>\n",
       "      <td>Beijing</td>\n",
       "      <td>2009-12-31 21:00</td>\n",
       "      <td>2009.0</td>\n",
       "      <td>12.0</td>\n",
       "      <td>31.0</td>\n",
       "      <td>21.0</td>\n",
       "      <td>163.0</td>\n",
       "      <td>Valid</td>\n",
       "      <td>NaN</td>\n",
       "    </tr>\n",
       "    <tr>\n",
       "      <th>2009-12-31 22:00:00</th>\n",
       "      <td>Beijing</td>\n",
       "      <td>2009-12-31 22:00</td>\n",
       "      <td>2009.0</td>\n",
       "      <td>12.0</td>\n",
       "      <td>31.0</td>\n",
       "      <td>22.0</td>\n",
       "      <td>167.0</td>\n",
       "      <td>Valid</td>\n",
       "      <td>NaN</td>\n",
       "    </tr>\n",
       "  </tbody>\n",
       "</table>\n",
       "<p>7614 rows × 9 columns</p>\n",
       "</div>"
      ],
      "text/plain": [
       "                        Site        Date (LST)    Year  Month   Day  Hour  \\\n",
       "2009-02-17 17:00:00  Beijing  2009-02-17 17:00  2009.0    2.0  17.0  17.0   \n",
       "2009-02-17 18:00:00  Beijing  2009-02-17 18:00  2009.0    2.0  17.0  18.0   \n",
       "2009-02-17 19:00:00  Beijing  2009-02-17 19:00  2009.0    2.0  17.0  19.0   \n",
       "2009-02-17 20:00:00  Beijing  2009-02-17 20:00  2009.0    2.0  17.0  20.0   \n",
       "2009-02-17 21:00:00  Beijing  2009-02-17 21:00  2009.0    2.0  17.0  21.0   \n",
       "...                      ...               ...     ...    ...   ...   ...   \n",
       "2009-12-31 18:00:00  Beijing  2009-12-31 18:00  2009.0   12.0  31.0  18.0   \n",
       "2009-12-31 19:00:00  Beijing  2009-12-31 19:00  2009.0   12.0  31.0  19.0   \n",
       "2009-12-31 20:00:00  Beijing  2009-12-31 20:00  2009.0   12.0  31.0  20.0   \n",
       "2009-12-31 21:00:00  Beijing  2009-12-31 21:00  2009.0   12.0  31.0  21.0   \n",
       "2009-12-31 22:00:00  Beijing  2009-12-31 22:00  2009.0   12.0  31.0  22.0   \n",
       "\n",
       "                     Value Duration QC Name  \n",
       "2009-02-17 17:00:00   70.0    Valid     NaN  \n",
       "2009-02-17 18:00:00   57.0    Valid     NaN  \n",
       "2009-02-17 19:00:00   58.0    Valid     NaN  \n",
       "2009-02-17 20:00:00   63.0    Valid     NaN  \n",
       "2009-02-17 21:00:00   61.0    Valid     NaN  \n",
       "...                    ...      ...     ...  \n",
       "2009-12-31 18:00:00   64.0    Valid     NaN  \n",
       "2009-12-31 19:00:00   77.0    Valid     NaN  \n",
       "2009-12-31 20:00:00  120.0    Valid     NaN  \n",
       "2009-12-31 21:00:00  163.0    Valid     NaN  \n",
       "2009-12-31 22:00:00  167.0    Valid     NaN  \n",
       "\n",
       "[7614 rows x 9 columns]"
      ]
     },
     "execution_count": 70,
     "metadata": {},
     "output_type": "execute_result"
    }
   ],
   "source": [
    "time_index_2009_index[~time_index_2009_index.index.duplicated()].reindex(idx)"
   ]
  },
  {
   "cell_type": "markdown",
   "metadata": {},
   "source": [
    "### 序列数值平移\n",
    "```\n",
    "df.shift(\n",
    "    periods =1:希望移动的周期是\n",
    "    freq:时间频度字符串\n",
    "    axis=0\n",
    ")\n",
    "```"
   ]
  },
  {
   "cell_type": "code",
   "execution_count": 71,
   "metadata": {},
   "outputs": [
    {
     "data": {
      "text/html": [
       "<div>\n",
       "<style scoped>\n",
       "    .dataframe tbody tr th:only-of-type {\n",
       "        vertical-align: middle;\n",
       "    }\n",
       "\n",
       "    .dataframe tbody tr th {\n",
       "        vertical-align: top;\n",
       "    }\n",
       "\n",
       "    .dataframe thead th {\n",
       "        text-align: right;\n",
       "    }\n",
       "</style>\n",
       "<table border=\"1\" class=\"dataframe\">\n",
       "  <thead>\n",
       "    <tr style=\"text-align: right;\">\n",
       "      <th></th>\n",
       "      <th>Site</th>\n",
       "      <th>Date (LST)</th>\n",
       "      <th>Year</th>\n",
       "      <th>Month</th>\n",
       "      <th>Day</th>\n",
       "      <th>Hour</th>\n",
       "      <th>Value</th>\n",
       "      <th>Duration</th>\n",
       "      <th>QC Name</th>\n",
       "    </tr>\n",
       "    <tr>\n",
       "      <th>Date (LST)</th>\n",
       "      <th></th>\n",
       "      <th></th>\n",
       "      <th></th>\n",
       "      <th></th>\n",
       "      <th></th>\n",
       "      <th></th>\n",
       "      <th></th>\n",
       "      <th></th>\n",
       "      <th></th>\n",
       "    </tr>\n",
       "  </thead>\n",
       "  <tbody>\n",
       "    <tr>\n",
       "      <th>2009-02-17 17:00:00</th>\n",
       "      <td>NaN</td>\n",
       "      <td>NaN</td>\n",
       "      <td>NaN</td>\n",
       "      <td>NaN</td>\n",
       "      <td>NaN</td>\n",
       "      <td>NaN</td>\n",
       "      <td>NaN</td>\n",
       "      <td>NaN</td>\n",
       "      <td>NaN</td>\n",
       "    </tr>\n",
       "    <tr>\n",
       "      <th>2009-02-17 18:00:00</th>\n",
       "      <td>NaN</td>\n",
       "      <td>NaN</td>\n",
       "      <td>NaN</td>\n",
       "      <td>NaN</td>\n",
       "      <td>NaN</td>\n",
       "      <td>NaN</td>\n",
       "      <td>NaN</td>\n",
       "      <td>NaN</td>\n",
       "      <td>NaN</td>\n",
       "    </tr>\n",
       "    <tr>\n",
       "      <th>2009-02-17 19:00:00</th>\n",
       "      <td>NaN</td>\n",
       "      <td>NaN</td>\n",
       "      <td>NaN</td>\n",
       "      <td>NaN</td>\n",
       "      <td>NaN</td>\n",
       "      <td>NaN</td>\n",
       "      <td>NaN</td>\n",
       "      <td>NaN</td>\n",
       "      <td>NaN</td>\n",
       "    </tr>\n",
       "    <tr>\n",
       "      <th>2009-02-17 20:00:00</th>\n",
       "      <td>Beijing</td>\n",
       "      <td>2009-02-17 17:00</td>\n",
       "      <td>2009.0</td>\n",
       "      <td>2.0</td>\n",
       "      <td>17.0</td>\n",
       "      <td>17.0</td>\n",
       "      <td>70.0</td>\n",
       "      <td>Valid</td>\n",
       "      <td>NaN</td>\n",
       "    </tr>\n",
       "    <tr>\n",
       "      <th>2009-02-17 21:00:00</th>\n",
       "      <td>Beijing</td>\n",
       "      <td>2009-02-17 18:00</td>\n",
       "      <td>2009.0</td>\n",
       "      <td>2.0</td>\n",
       "      <td>17.0</td>\n",
       "      <td>18.0</td>\n",
       "      <td>57.0</td>\n",
       "      <td>Valid</td>\n",
       "      <td>NaN</td>\n",
       "    </tr>\n",
       "    <tr>\n",
       "      <th>...</th>\n",
       "      <td>...</td>\n",
       "      <td>...</td>\n",
       "      <td>...</td>\n",
       "      <td>...</td>\n",
       "      <td>...</td>\n",
       "      <td>...</td>\n",
       "      <td>...</td>\n",
       "      <td>...</td>\n",
       "      <td>...</td>\n",
       "    </tr>\n",
       "    <tr>\n",
       "      <th>2009-12-31 18:00:00</th>\n",
       "      <td>Beijing</td>\n",
       "      <td>2009-12-31 15:00</td>\n",
       "      <td>2009.0</td>\n",
       "      <td>12.0</td>\n",
       "      <td>31.0</td>\n",
       "      <td>15.0</td>\n",
       "      <td>49.0</td>\n",
       "      <td>Valid</td>\n",
       "      <td>NaN</td>\n",
       "    </tr>\n",
       "    <tr>\n",
       "      <th>2009-12-31 19:00:00</th>\n",
       "      <td>Beijing</td>\n",
       "      <td>2009-12-31 16:00</td>\n",
       "      <td>2009.0</td>\n",
       "      <td>12.0</td>\n",
       "      <td>31.0</td>\n",
       "      <td>16.0</td>\n",
       "      <td>47.0</td>\n",
       "      <td>Valid</td>\n",
       "      <td>NaN</td>\n",
       "    </tr>\n",
       "    <tr>\n",
       "      <th>2009-12-31 20:00:00</th>\n",
       "      <td>Beijing</td>\n",
       "      <td>2009-12-31 17:00</td>\n",
       "      <td>2009.0</td>\n",
       "      <td>12.0</td>\n",
       "      <td>31.0</td>\n",
       "      <td>17.0</td>\n",
       "      <td>58.0</td>\n",
       "      <td>Valid</td>\n",
       "      <td>NaN</td>\n",
       "    </tr>\n",
       "    <tr>\n",
       "      <th>2009-12-31 21:00:00</th>\n",
       "      <td>Beijing</td>\n",
       "      <td>2009-12-31 18:00</td>\n",
       "      <td>2009.0</td>\n",
       "      <td>12.0</td>\n",
       "      <td>31.0</td>\n",
       "      <td>18.0</td>\n",
       "      <td>64.0</td>\n",
       "      <td>Valid</td>\n",
       "      <td>NaN</td>\n",
       "    </tr>\n",
       "    <tr>\n",
       "      <th>2009-12-31 22:00:00</th>\n",
       "      <td>Beijing</td>\n",
       "      <td>2009-12-31 19:00</td>\n",
       "      <td>2009.0</td>\n",
       "      <td>12.0</td>\n",
       "      <td>31.0</td>\n",
       "      <td>19.0</td>\n",
       "      <td>77.0</td>\n",
       "      <td>Valid</td>\n",
       "      <td>NaN</td>\n",
       "    </tr>\n",
       "  </tbody>\n",
       "</table>\n",
       "<p>6779 rows × 9 columns</p>\n",
       "</div>"
      ],
      "text/plain": [
       "                        Site        Date (LST)    Year  Month   Day  Hour  \\\n",
       "Date (LST)                                                                  \n",
       "2009-02-17 17:00:00      NaN               NaN     NaN    NaN   NaN   NaN   \n",
       "2009-02-17 18:00:00      NaN               NaN     NaN    NaN   NaN   NaN   \n",
       "2009-02-17 19:00:00      NaN               NaN     NaN    NaN   NaN   NaN   \n",
       "2009-02-17 20:00:00  Beijing  2009-02-17 17:00  2009.0    2.0  17.0  17.0   \n",
       "2009-02-17 21:00:00  Beijing  2009-02-17 18:00  2009.0    2.0  17.0  18.0   \n",
       "...                      ...               ...     ...    ...   ...   ...   \n",
       "2009-12-31 18:00:00  Beijing  2009-12-31 15:00  2009.0   12.0  31.0  15.0   \n",
       "2009-12-31 19:00:00  Beijing  2009-12-31 16:00  2009.0   12.0  31.0  16.0   \n",
       "2009-12-31 20:00:00  Beijing  2009-12-31 17:00  2009.0   12.0  31.0  17.0   \n",
       "2009-12-31 21:00:00  Beijing  2009-12-31 18:00  2009.0   12.0  31.0  18.0   \n",
       "2009-12-31 22:00:00  Beijing  2009-12-31 19:00  2009.0   12.0  31.0  19.0   \n",
       "\n",
       "                     Value Duration QC Name  \n",
       "Date (LST)                                   \n",
       "2009-02-17 17:00:00    NaN      NaN     NaN  \n",
       "2009-02-17 18:00:00    NaN      NaN     NaN  \n",
       "2009-02-17 19:00:00    NaN      NaN     NaN  \n",
       "2009-02-17 20:00:00   70.0    Valid     NaN  \n",
       "2009-02-17 21:00:00   57.0    Valid     NaN  \n",
       "...                    ...      ...     ...  \n",
       "2009-12-31 18:00:00   49.0    Valid     NaN  \n",
       "2009-12-31 19:00:00   47.0    Valid     NaN  \n",
       "2009-12-31 20:00:00   58.0    Valid     NaN  \n",
       "2009-12-31 21:00:00   64.0    Valid     NaN  \n",
       "2009-12-31 22:00:00   77.0    Valid     NaN  \n",
       "\n",
       "[6779 rows x 9 columns]"
      ]
     },
     "execution_count": 71,
     "metadata": {},
     "output_type": "execute_result"
    }
   ],
   "source": [
    "time_index_2009_index.shift(3)"
   ]
  },
  {
   "cell_type": "markdown",
   "metadata": {},
   "source": [
    "## 实战：建立时间索引\n",
    "```\n",
    "分别使用Date（LST）和年、月、日、时变量建立DatetimeIndex\n",
    "尝试只使用年月日建立Period对象，然后转换为DetetimeIndex\n",
    "基于DetatimeIndex，进一步完成一下任务：\n",
    "    计算每年的PM2.5的平均值、中位数、最大值、最小值\n",
    "    计算出每年PM2.5大于200，300，500的天数\n",
    "    将PM2.5的数据整理为以年为行，月为列，单元格为最大值的宽表形式\n",
    "    将2009年和2012年数据分别提取处理，然后合并为一个数据框\n",
    "    将数据转换为每年一列的宽表格式\n",
    "```"
   ]
  },
  {
   "cell_type": "markdown",
   "metadata": {},
   "source": [
    "# 数据的图形展示\n",
    "## 配置绘图系统环境"
   ]
  },
  {
   "cell_type": "code",
   "execution_count": null,
   "metadata": {},
   "outputs": [],
   "source": []
  }
 ],
 "metadata": {
  "kernelspec": {
   "display_name": "Python 3",
   "language": "python",
   "name": "python3"
  },
  "language_info": {
   "codemirror_mode": {
    "name": "ipython",
    "version": 3
   },
   "file_extension": ".py",
   "mimetype": "text/x-python",
   "name": "python",
   "nbconvert_exporter": "python",
   "pygments_lexer": "ipython3",
   "version": "3.7.3"
  },
  "toc": {
   "base_numbering": 1,
   "nav_menu": {},
   "number_sections": true,
   "sideBar": true,
   "skip_h1_title": false,
   "title_cell": "Table of Contents",
   "title_sidebar": "Contents",
   "toc_cell": false,
   "toc_position": {
    "height": "calc(100% - 180px)",
    "left": "10px",
    "top": "150px",
    "width": "273.188px"
   },
   "toc_section_display": true,
   "toc_window_display": true
  }
 },
 "nbformat": 4,
 "nbformat_minor": 2
}
